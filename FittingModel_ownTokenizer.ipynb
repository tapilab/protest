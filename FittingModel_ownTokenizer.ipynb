{
 "metadata": {
  "name": "",
  "signature": "sha256:13b5004e8967c0ac4cd3d02808c1b0ede656fde402852742e7c89aad27ccb454"
 },
 "nbformat": 3,
 "nbformat_minor": 0,
 "worksheets": [
  {
   "cells": [
    {
     "cell_type": "code",
     "collapsed": false,
     "input": [
      "#seach for organic tweets and save them in one list\n",
      "from collections import Counter\n",
      "import csv\n",
      "tweets=[]\n",
      "positive_tweets = 0\n",
      "negative_tweets = 0\n",
      "other_tweets = 0\n",
      "\n",
      "with open( 'D:\\AllSamples.csv', \"rb\" ) as theFile:\n",
      "    reader = csv.DictReader( theFile )\n",
      "    for row in reader:\n",
      "        if row['sent']== '1':\n",
      "            positive_tweets += 1\n",
      "        elif row['sent']== '-1':\n",
      "            negative_tweets += 1\n",
      "        else:\n",
      "            other_tweets += 1\n",
      "        \n",
      "        tweets.append(row) \n",
      "print 'We have', len(tweets), 'sampled tweets'\n",
      "print positive_tweets, 'are positive'\n",
      "print negative_tweets, 'are negative'\n",
      "print other_tweets, 'are nothing'"
     ],
     "language": "python",
     "metadata": {},
     "outputs": [
      {
       "output_type": "stream",
       "stream": "stdout",
       "text": [
        "We have 2000 sampled tweets\n",
        "676 are positive\n",
        "275 are negative\n",
        "1049 are nothing\n"
       ]
      }
     ],
     "prompt_number": 63
    },
    {
     "cell_type": "code",
     "collapsed": false,
     "input": [
      "# Create label vector (y) that show the class labels of each tweet\n",
      "#print the count of each class label\n",
      "from collections import Counter\n",
      "import numpy as np\n",
      "y = np.array([int(t['sent']) for t in tweets])#savind labels of the class in y\n",
      "print 'label counts=', Counter(y)\n"
     ],
     "language": "python",
     "metadata": {},
     "outputs": [
      {
       "output_type": "stream",
       "stream": "stdout",
       "text": [
        "label counts= Counter({0: 1049, 1: 676, -1: 275})\n"
       ]
      }
     ],
     "prompt_number": 64
    },
    {
     "cell_type": "code",
     "collapsed": false,
     "input": [
      "%pylab inline\n",
      "# What is the distribution of scores?\n",
      "from collections import Counter\n",
      "import matplotlib.pyplot as plt\n",
      "\n",
      "counts = Counter(y).values()\n",
      "vals = [1,2,3]\n",
      "\n",
      "plt.bar(vals, counts)\n",
      "plt.xticks(vals)\n",
      "plt.xlabel('sentiment')\n",
      "plt.ylabel('count')\n",
      "plt.title('1:Other, 2:Positive , 3: Negative')\n",
      "plt.show()"
     ],
     "language": "python",
     "metadata": {},
     "outputs": [
      {
       "output_type": "stream",
       "stream": "stdout",
       "text": [
        "Populating the interactive namespace from numpy and matplotlib\n"
       ]
      },
      {
       "metadata": {},
       "output_type": "display_data",
       "png": "[encoded data removed]",
       "text": [
        "<matplotlib.figure.Figure at 0x15cba0f0>"
       ]
      }
     ],
     "prompt_number": 66
    },
    {
     "cell_type": "code",
     "collapsed": false,
     "input": [
      "import re\n",
      "\n",
      "def tokenize(string, lowercase, keep_punctuation, prefix,\n",
      "             collapse_urls, collapse_mentions):\n",
      "    if not string:\n",
      "        return []\n",
      "    if lowercase:\n",
      "        string = string.lower()\n",
      "    tokens = []\n",
      "    if collapse_urls:\n",
      "        string = re.sub('http\\S+', 'THIS_IS_A_URL', string)\n",
      "    if collapse_mentions:\n",
      "        string = re.sub('@\\S+', 'THIS_IS_A_MENTION', string)\n",
      "    if keep_punctuation:\n",
      "        tokens = string.split()\n",
      "    else:\n",
      "        tokens = re.sub('\\W+', ' ', string).split()\n",
      "    if prefix:\n",
      "        tokens = ['%s%s' % (prefix, t) for t in tokens]\n",
      "    return tokens\n",
      "\n",
      "def tweet2tokens(tweet, lowercase=True,keep_punctuation=True,collapse_urls=True, collapse_mentions=True):\n",
      "    tokens = tokenize(tweet['text'], lowercase, keep_punctuation, None,collapse_urls, collapse_mentions)\n",
      "    return tokens\n"
     ],
     "language": "python",
     "metadata": {},
     "outputs": [],
     "prompt_number": 67
    },
    {
     "cell_type": "code",
     "collapsed": false,
     "input": [
      "# Let's tokenize all tweets.\n",
      "tokens_list = [tweet2tokens(t, lowercase=True,keep_punctuation=False,collapse_urls=True, collapse_mentions=True) for t in tweets]"
     ],
     "language": "python",
     "metadata": {},
     "outputs": [],
     "prompt_number": 68
    },
    {
     "cell_type": "code",
     "collapsed": false,
     "input": [
      "tokens_list[1]"
     ],
     "language": "python",
     "metadata": {},
     "outputs": [
      {
       "metadata": {},
       "output_type": "pyout",
       "prompt_number": 69,
       "text": [
        "['THIS_IS_A_MENTION',\n",
        " 'anything',\n",
        " 'that',\n",
        " 'attracts',\n",
        " 'people',\n",
        " 'away',\n",
        " 'from',\n",
        " 'tobacco',\n",
        " 'cigarettes',\n",
        " 'is',\n",
        " 'a',\n",
        " 'good',\n",
        " 'thing',\n",
        " 'inc',\n",
        " 'ecig',\n",
        " 'flavours',\n",
        " 'euecigban']"
       ]
      }
     ],
     "prompt_number": 69
    },
    {
     "cell_type": "code",
     "collapsed": false,
     "input": [
      "def tokenize1(string, lowercase=True, keep_punctuation=False, prefix=True,collapse_urls=True, collapse_mentions=True):\n",
      "    if not string:\n",
      "        return []\n",
      "    if lowercase:\n",
      "        string = string.lower()\n",
      "    tokens = []\n",
      "    if collapse_urls:\n",
      "        string = re.sub('http\\S+', 'THIS_IS_A_URL', string)\n",
      "    if collapse_mentions:\n",
      "        string = re.sub('@\\S+', 'THIS_IS_A_MENTION', string)\n",
      "    if keep_punctuation:\n",
      "        tokens = string.split()\n",
      "    else:\n",
      "        tokens = re.sub('\\W+', ' ', string).split()\n",
      "    if prefix:\n",
      "        tokens = ['%s%s' % (prefix, t) for t in tokens]\n",
      "    return tokens\n",
      "\n",
      "def tweet2tokens(tweet, lowercase=True,keep_punctuation=True,collapse_urls=True, collapse_mentions=True):\n",
      "    tokens = tokenize(tweet['text'], lowercase, keep_punctuation, None,collapse_urls, collapse_mentions)\n",
      "    return tokens\n"
     ],
     "language": "python",
     "metadata": {},
     "outputs": [],
     "prompt_number": 70
    },
    {
     "cell_type": "code",
     "collapsed": false,
     "input": [
      "for t in range(len(tokens_list)):\n",
      "    print tokens_list[t]\n",
      "    break"
     ],
     "language": "python",
     "metadata": {},
     "outputs": [
      {
       "output_type": "stream",
       "stream": "stdout",
       "text": [
        "['vaping', 'kush', 'gt', 'smoking', 'kush']\n"
       ]
      }
     ],
     "prompt_number": 71
    },
    {
     "cell_type": "code",
     "collapsed": false,
     "input": [
      "for t in tweets:\n",
      "    print t['text']\n",
      "    break"
     ],
     "language": "python",
     "metadata": {},
     "outputs": [
      {
       "output_type": "stream",
       "stream": "stdout",
       "text": [
        "Vaping kush&gt;Smoking kush\n"
       ]
      }
     ],
     "prompt_number": 72
    },
    {
     "cell_type": "code",
     "collapsed": false,
     "input": [
      "'Way to use tokenized tokens or use default tokenization with my own modifications'\n",
      "'Right each detail in report format'\n",
      "'create a schedule to follow'\n",
      "'project CSP571 - social unrest, weather and mood -  maybe use this to publish other articles....'\n"
     ],
     "language": "python",
     "metadata": {},
     "outputs": [
      {
       "metadata": {},
       "output_type": "pyout",
       "prompt_number": 170,
       "text": [
        "'Right each detail in report format'"
       ]
      }
     ],
     "prompt_number": 170
    },
    {
     "cell_type": "code",
     "collapsed": false,
     "input": [
      "#use after pre processing \n",
      "# Create feature vectors (X)\n",
      "from sklearn.feature_extraction.text import TfidfVectorizer\n",
      "vectorizer = TfidfVectorizer(decode_error='ignore')# CountVectorizer(decode_error='ignore',lowercase =False)\n",
      "X = vectorizer.fit_transform(t['text'] for t in tweets)\n",
      "print 'default - vectorized %d tweets. found %d terms.' % (X.shape[0], X.shape[1])"
     ],
     "language": "python",
     "metadata": {},
     "outputs": [
      {
       "output_type": "stream",
       "stream": "stdout",
       "text": [
        "default - vectorized 2000 tweets. found 7370 terms.\n"
       ]
      }
     ],
     "prompt_number": 52
    },
    {
     "cell_type": "code",
     "collapsed": false,
     "input": [
      "#use after pre processing \n",
      "# Create feature vectors (X)\n",
      "from sklearn.feature_extraction.text import TfidfVectorizer\n",
      "vectorizer = TfidfVectorizer(decode_error='ignore', lowercase=False)\n",
      "X = vectorizer.fit_transform(t['text'] for t in tweets)\n",
      "print 'no lower case vectorized %d tweets. found %d terms.' % (X.shape[0], X.shape[1])"
     ],
     "language": "python",
     "metadata": {},
     "outputs": [
      {
       "output_type": "stream",
       "stream": "stdout",
       "text": [
        "no lower case vectorized 2000 tweets. found 8439 terms.\n"
       ]
      }
     ],
     "prompt_number": 138
    },
    {
     "cell_type": "code",
     "collapsed": false,
     "input": [
      "#use after pre processing \n",
      "# Create feature vectors (X)\n",
      "from sklearn.feature_extraction.text import TfidfVectorizer\n",
      "vectorizer = TfidfVectorizer(decode_error='ignore', lowercase=True, stop_words='english')# CountVectorizer(decode_error='ignore',lowercase =False)\n",
      "X = vectorizer.fit_transform(t['text'] for t in tweets)\n",
      "print 'lower case, stop words - vectorized %d tweets. found %d terms.' % (X.shape[0], X.shape[1])"
     ],
     "language": "python",
     "metadata": {},
     "outputs": [
      {
       "output_type": "stream",
       "stream": "stdout",
       "text": [
        "lower case, stop words - vectorized 2000 tweets. found 7140 terms.\n"
       ]
      }
     ],
     "prompt_number": 29
    },
    {
     "cell_type": "code",
     "collapsed": false,
     "input": [
      "tweets_text=[]\n",
      "for t in tweets:\n",
      "    tweets_text.append(t['text'])\n",
      "    \n",
      "for t in tweets_text:\n",
      "    print t\n",
      "    break"
     ],
     "language": "python",
     "metadata": {},
     "outputs": [
      {
       "output_type": "stream",
       "stream": "stdout",
       "text": [
        "Vaping kush&gt;Smoking kush\n"
       ]
      }
     ],
     "prompt_number": 28
    },
    {
     "cell_type": "code",
     "collapsed": false,
     "input": [
      "# Create feature vectors (X)\n",
      "from sklearn.feature_extraction.text import TfidfVectorizer\n",
      "vectorizer = TfidfVectorizer(decode_error='ignore', stop_words='english', tokenizer=tokenize1)#lowercase, url's, mentions\n",
      "X = vectorizer.fit_transform(t['text'] for t in tweets)\n",
      "print 'vectorized %d tweet. found %d terms.' % (X.shape[0], X.shape[1])"
     ],
     "language": "python",
     "metadata": {},
     "outputs": [
      {
       "output_type": "stream",
       "stream": "stdout",
       "text": [
        "vectorized 2000 tweet. found 5760 terms.\n"
       ]
      }
     ],
     "prompt_number": 98
    },
    {
     "cell_type": "code",
     "collapsed": false,
     "input": [
      "print vectorizer.vocabulary_.items()[:20]"
     ],
     "language": "python",
     "metadata": {},
     "outputs": [
      {
       "output_type": "stream",
       "stream": "stdout",
       "text": [
        "[(u'Truepartial', 3774), (u'Truethr', 5053), (u'Truecme', 1141), (u'Truelatinos', 2923), (u'Trueridiculed', 4288), (u'Truebusiness', 868), (u'Truethx', 5067), (u'Truesolstice', 4657), (u'Trueumorismo', 5258), (u'Truesupport', 4864), (u'Truethc', 5014), (u'Truetha', 5001), (u'Truecmp', 1142), (u'Truethe', 5015), (u'Truenecessary', 3474), (u'True135', 40), (u'Truetho', 5043), (u'True130', 37), (u'Truealasan', 319), (u'Truekkkkkkkkkkkkkkkkkkkkkkkkkkkkkkkkkkkkkkkkkkkkkkkkkkkkkkkkk', 2843)]\n"
       ]
      }
     ],
     "prompt_number": 99
    },
    {
     "cell_type": "code",
     "collapsed": false,
     "input": [
      "# What are the most frequent terms?\n",
      "# Sum columns:\n",
      "col_sums = X.sum(axis=0).tolist()[0]\n",
      "# Sort sums in descending order, and return the indices.\n",
      "top_indices = np.argsort(col_sums)[::-1]\n",
      "print 'top_indices=', top_indices\n",
      "vocab = np.array(vectorizer.get_feature_names())\n",
      "top_terms = vocab[top_indices]\n",
      "print 'top_terms:\\n', '\\n'.join('%s %d' % (term, count) for term, count in zip(top_terms, top_indices)[:10])"
     ],
     "language": "python",
     "metadata": {},
     "outputs": [
      {
       "output_type": "stream",
       "stream": "stdout",
       "text": [
        "top_indices= [ 199 1642  200 ..., 4090 1054 5274]\n",
        "top_terms:\n",
        "TrueTHIS_IS_A_MENTION 199\n",
        "Truee 1642\n",
        "TrueTHIS_IS_A_URL 200\n",
        "Truei 2532\n",
        "Truert 4338\n",
        "Truethe 5015\n",
        "Truecigarettes 1081\n",
        "Truecigarette 1077\n",
        "Trueto 5094\n",
        "Truea 206\n"
       ]
      }
     ],
     "prompt_number": 100
    },
    {
     "cell_type": "code",
     "collapsed": false,
     "input": [
      "from sklearn.cross_validation import cross_val_score\n",
      "from sklearn.cross_validation import KFold\n",
      "from sklearn.linear_model import LogisticRegression\n",
      "\n",
      "def do_cv(X, y, nfolds=10):\n",
      "    cv = KFold(len(y), nfolds)\n",
      "    return np.mean(cross_val_score(LogisticRegression(), X, y, cv=cv))\n",
      "  \n",
      "print do_cv(X, y)"
     ],
     "language": "python",
     "metadata": {},
     "outputs": [
      {
       "output_type": "stream",
       "stream": "stdout",
       "text": [
        "0.727\n"
       ]
      }
     ],
     "prompt_number": 101
    },
    {
     "cell_type": "code",
     "collapsed": false,
     "input": [
      "# Fit a LogisticRegression model\n",
      "from sklearn.linear_model import LogisticRegression\n",
      "model = LogisticRegression()\n",
      "model.fit(X, y)\n",
      "\n",
      "# Compute accuracy\n",
      "def accuracy(truth, predicted):\n",
      "    return (1. * len([1 for tr, pr in zip(truth, predicted) if tr == pr]) / len(truth))\n",
      "\n",
      "predicted = model.predict(X)\n",
      "print 'accuracy on training data=%.3f' % accuracy(y, predicted)\n",
      "\n",
      "\n",
      "# 5 Cross-validation accuracy\n",
      "from sklearn.cross_validation import KFold\n",
      "\n",
      "cv = KFold(len(y), 5)\n",
      "accuracies = []\n",
      "print 'Fitting in the labeled data:'\n",
      "#print 'Train set:',X[train_ind].shape[0], '\\f Test set:', X[test_ind].shape[0]\n",
      "for train_ind, test_ind in cv:\n",
      "    model.fit(X[train_ind], y[train_ind])\n",
      "    \n",
      "    predictions = model.predict(X[test_ind])\n",
      "    accuracies.append(accuracy(y[test_ind], predictions))\n",
      "    \n",
      "print 'Average 5-fold cross validation accuracy=%.2f (std=%.2f)' % (np.mean(accuracies), np.std(accuracies))"
     ],
     "language": "python",
     "metadata": {},
     "outputs": [
      {
       "output_type": "stream",
       "stream": "stdout",
       "text": [
        "accuracy on training data=0.827\n",
        "Fitting in the labeled data:\n",
        "Average 5-fold cross validation accuracy=0.72 (std=0.03)"
       ]
      },
      {
       "output_type": "stream",
       "stream": "stdout",
       "text": [
        "\n"
       ]
      }
     ],
     "prompt_number": 102
    },
    {
     "cell_type": "code",
     "collapsed": false,
     "input": [
      "p=0\n",
      "n=0\n",
      "o=0\n",
      "for i in model.predict(X):\n",
      "    if i==1:\n",
      "        p+=1\n",
      "    elif i==-1:\n",
      "        n+=1\n",
      "    else:\n",
      "        o+=1\n",
      "\n",
      "print n\n",
      "print o\n",
      "print p\n",
      "print len(model.predict(X))"
     ],
     "language": "python",
     "metadata": {},
     "outputs": [
      {
       "output_type": "stream",
       "stream": "stdout",
       "text": [
        "113\n",
        "1235\n",
        "652\n",
        "2000\n"
       ]
      }
     ],
     "prompt_number": 104
    },
    {
     "cell_type": "code",
     "collapsed": false,
     "input": [
      "from sklearn.metrics import confusion_matrix as sk_confusion_matrix\n",
      "import pandas as pd\n",
      "\n",
      "\n",
      "y_pred = model.predict(X)\n",
      "\n",
      "def confusion_matrix(y_test, y_pred):\n",
      "    cm = sk_confusion_matrix(y, y_pred)\n",
      "    cm = pd.DataFrame(data=cm, columns=[-1, 0,1], index=[-1, 0,1])\n",
      "    cm.columns.name = 'Predicted'\n",
      "    cm.index.name = 'Expected'\n",
      "    error_rate = (y_pred != y).mean()\n",
      "    print('error rate: %.2f' % error_rate)\n",
      "    return cm\n",
      "    \n",
      "confusion_matrix(y, y_pred)"
     ],
     "language": "python",
     "metadata": {},
     "outputs": [
      {
       "output_type": "stream",
       "stream": "stdout",
       "text": [
        "error rate: 0.18\n"
       ]
      },
      {
       "html": [
        "<div style=\"max-height:1000px;max-width:1500px;overflow:auto;\">\n",
        "<table border=\"1\" class=\"dataframe\">\n",
        "  <thead>\n",
        "    <tr style=\"text-align: right;\">\n",
        "      <th>Predicted</th>\n",
        "      <th>-1</th>\n",
        "      <th>0</th>\n",
        "      <th>1</th>\n",
        "    </tr>\n",
        "    <tr>\n",
        "      <th>Expected</th>\n",
        "      <th></th>\n",
        "      <th></th>\n",
        "      <th></th>\n",
        "    </tr>\n",
        "  </thead>\n",
        "  <tbody>\n",
        "    <tr>\n",
        "      <th>-1</th>\n",
        "      <td> 106</td>\n",
        "      <td> 106</td>\n",
        "      <td>  63</td>\n",
        "    </tr>\n",
        "    <tr>\n",
        "      <th> 0</th>\n",
        "      <td>   4</td>\n",
        "      <td> 996</td>\n",
        "      <td>  49</td>\n",
        "    </tr>\n",
        "    <tr>\n",
        "      <th> 1</th>\n",
        "      <td>   3</td>\n",
        "      <td> 133</td>\n",
        "      <td> 540</td>\n",
        "    </tr>\n",
        "  </tbody>\n",
        "</table>\n",
        "</div>"
       ],
       "metadata": {},
       "output_type": "pyout",
       "prompt_number": 105,
       "text": [
        "Predicted   -1    0    1\n",
        "Expected                \n",
        "-1         106  106   63\n",
        " 0           4  996   49\n",
        " 1           3  133  540"
       ]
      }
     ],
     "prompt_number": 105
    },
    {
     "cell_type": "code",
     "collapsed": false,
     "input": [
      "y_pred = model.predict(X)\n",
      "def create_conf_matrix(expected, predicted, n_classes):\n",
      "    m = [[0] * n_classes for i in range(n_classes)]\n",
      "    for pred, exp in zip(predicted, expected):#combining predicted and expected values like (1,0) and \n",
      "        m[pred][exp] += 1 #adding to those same positions a count\n",
      "    return m\n",
      "\n",
      "print create_conf_matrix(y, y_pred, 3)"
     ],
     "language": "python",
     "metadata": {},
     "outputs": [
      {
       "output_type": "stream",
       "stream": "stdout",
       "text": [
        "[[996, 133, 106], [49, 540, 63], [4, 3, 106]]\n"
       ]
      }
     ],
     "prompt_number": 106
    },
    {
     "cell_type": "code",
     "collapsed": false,
     "input": [
      "from sklearn.feature_extraction.text import TfidfVectorizer\n",
      "\n",
      "def tokenizing(tweets, vectorizer):\n",
      "    X = vectorizer.fit_transform(t['text'] for t in tweets)\n",
      "    print 'X dimensions=', X.shape\n",
      "    return X\n",
      "\n",
      "#X = tokenizing(tweets, TfidfVectorizer(decode_error='ignore',tokenizer=tokenize1))"
     ],
     "language": "python",
     "metadata": {},
     "outputs": [],
     "prompt_number": 107
    },
    {
     "cell_type": "code",
     "collapsed": false,
     "input": [
      "# How does using ngrams help?\n",
      "import matplotlib.pyplot as plt\n",
      "\n",
      "def compare_ngrams(tweets, y):\n",
      "    accuracies = []\n",
      "    ngrams = [(1,1), (1,2), (2,2), (1,3), (2, 3), (3,3)]\n",
      "    for ngram in ngrams:\n",
      "        print ngram\n",
      "        accuracies.append(do_cv(tokenizing(tweets, TfidfVectorizer(decode_error='ignore', lowercase=True, stop_words='english',min_df=2, ngram_range=ngram)), y))\n",
      "    plt.figure()\n",
      "    plt.plot(accuracies, 'bo-')\n",
      "    plt.xticks(range(len(ngrams)), ngrams)\n",
      "    plt.xlabel('ngrams')\n",
      "    plt.ylabel('accuracy')\n",
      "    plt.show()\n",
      "        \n",
      "compare_ngrams(tweets, y)"
     ],
     "language": "python",
     "metadata": {},
     "outputs": [
      {
       "output_type": "stream",
       "stream": "stdout",
       "text": [
        "(1, 1)\n",
        "X dimensions="
       ]
      },
      {
       "output_type": "stream",
       "stream": "stdout",
       "text": [
        " (2000, 1877)\n",
        "(1, 2)"
       ]
      },
      {
       "output_type": "stream",
       "stream": "stdout",
       "text": [
        "\n",
        "X dimensions="
       ]
      },
      {
       "output_type": "stream",
       "stream": "stdout",
       "text": [
        " (2000, 3098)\n",
        "(2, 2)"
       ]
      },
      {
       "output_type": "stream",
       "stream": "stdout",
       "text": [
        "\n",
        "X dimensions="
       ]
      },
      {
       "output_type": "stream",
       "stream": "stdout",
       "text": [
        " (2000, 1221)\n",
        "(1, 3)"
       ]
      },
      {
       "output_type": "stream",
       "stream": "stdout",
       "text": [
        "\n",
        "X dimensions="
       ]
      },
      {
       "output_type": "stream",
       "stream": "stdout",
       "text": [
        " (2000, 3797)\n",
        "(2, 3)"
       ]
      },
      {
       "output_type": "stream",
       "stream": "stdout",
       "text": [
        "\n",
        "X dimensions="
       ]
      },
      {
       "output_type": "stream",
       "stream": "stdout",
       "text": [
        " (2000, 1920)\n",
        "(3, 3)"
       ]
      },
      {
       "output_type": "stream",
       "stream": "stdout",
       "text": [
        "\n",
        "X dimensions="
       ]
      },
      {
       "output_type": "stream",
       "stream": "stdout",
       "text": [
        " (2000, 699)\n"
       ]
      },
      {
       "metadata": {},
       "output_type": "display_data",
       "png": "[encoded data removed]",
       "text": [
        "<matplotlib.figure.Figure at 0xadd10b8>"
       ]
      }
     ],
     "prompt_number": 108
    },
    {
     "cell_type": "code",
     "collapsed": false,
     "input": [
      "def compare_mindDF(tweets, y):\n",
      "    accuracies = []\n",
      "    for freq in range(20):\n",
      "        accuracies.append(do_cv(tokenizing(tweets, TfidfVectorizer(decode_error='ignore', tokenizer=tokenize1,lowercase=True, stop_words='english',min_df=freq)), y))\n",
      "    plt.figure()\n",
      "    plt.plot(accuracies, 'bo-')\n",
      "    plt.xticks(range(20))\n",
      "    plt.xlabel('minDF')\n",
      "    plt.ylabel('accuracy')\n",
      "    plt.show()\n",
      "        \n",
      "compare_mindDF(tweets, y)\n",
      "print do_cv(tokenizing(tweets, TfidfVectorizer(decode_error='ignore', tokenizer=tokenize1)), y)\n"
     ],
     "language": "python",
     "metadata": {},
     "outputs": [
      {
       "output_type": "stream",
       "stream": "stdout",
       "text": [
        "X dimensions= (2000, 5760)\n",
        "X dimensions="
       ]
      },
      {
       "output_type": "stream",
       "stream": "stdout",
       "text": [
        " (2000, 5760)\n",
        "X dimensions="
       ]
      },
      {
       "output_type": "stream",
       "stream": "stdout",
       "text": [
        " (2000, 1996)\n",
        "X dimensions="
       ]
      },
      {
       "output_type": "stream",
       "stream": "stdout",
       "text": [
        " (2000, 1271)\n",
        "X dimensions="
       ]
      },
      {
       "output_type": "stream",
       "stream": "stdout",
       "text": [
        " (2000, 928)\n",
        "X dimensions="
       ]
      },
      {
       "output_type": "stream",
       "stream": "stdout",
       "text": [
        " (2000, 723)\n",
        "X dimensions="
       ]
      },
      {
       "output_type": "stream",
       "stream": "stdout",
       "text": [
        " (2000, 599)\n",
        "X dimensions="
       ]
      },
      {
       "output_type": "stream",
       "stream": "stdout",
       "text": [
        " (2000, 503)\n",
        "X dimensions="
       ]
      },
      {
       "output_type": "stream",
       "stream": "stdout",
       "text": [
        " (2000, 437)\n",
        "X dimensions="
       ]
      },
      {
       "output_type": "stream",
       "stream": "stdout",
       "text": [
        " (2000, 397)\n",
        "X dimensions="
       ]
      },
      {
       "output_type": "stream",
       "stream": "stdout",
       "text": [
        " (2000, 355)\n",
        "X dimensions="
       ]
      },
      {
       "output_type": "stream",
       "stream": "stdout",
       "text": [
        " (2000, 317)\n",
        "X dimensions="
       ]
      },
      {
       "output_type": "stream",
       "stream": "stdout",
       "text": [
        " (2000, 285)\n",
        "X dimensions="
       ]
      },
      {
       "output_type": "stream",
       "stream": "stdout",
       "text": [
        " (2000, 263)\n",
        "X dimensions="
       ]
      },
      {
       "output_type": "stream",
       "stream": "stdout",
       "text": [
        " (2000, 236)\n",
        "X dimensions="
       ]
      },
      {
       "output_type": "stream",
       "stream": "stdout",
       "text": [
        " (2000, 220)\n",
        "X dimensions="
       ]
      },
      {
       "output_type": "stream",
       "stream": "stdout",
       "text": [
        " (2000, 213)\n",
        "X dimensions="
       ]
      },
      {
       "output_type": "stream",
       "stream": "stdout",
       "text": [
        " (2000, 205)\n",
        "X dimensions="
       ]
      },
      {
       "output_type": "stream",
       "stream": "stdout",
       "text": [
        " (2000, 198)\n",
        "X dimensions="
       ]
      },
      {
       "output_type": "stream",
       "stream": "stdout",
       "text": [
        " (2000, 193)\n"
       ]
      },
      {
       "metadata": {},
       "output_type": "display_data",
       "png": "[encoded data removed]",
       "text": [
        "<matplotlib.figure.Figure at 0x16bde748>"
       ]
      },
      {
       "output_type": "stream",
       "stream": "stdout",
       "text": [
        "X dimensions= (2000, 5760)\n",
        "0.727"
       ]
      },
      {
       "output_type": "stream",
       "stream": "stdout",
       "text": [
        "\n"
       ]
      }
     ],
     "prompt_number": 110
    },
    {
     "cell_type": "code",
     "collapsed": false,
     "input": [
      "# How does filtering common words affect accuracy?\n",
      "import matplotlib.pyplot as plt\n",
      "\n",
      "def compare_maxdf(tweets, y):\n",
      "    accuracies = []\n",
      "    maxdfs = [1., .1, .05, .04, .03, .02, .01, .005, .001]\n",
      "    for freq in maxdfs:\n",
      "        print freq\n",
      "        accuracies.append(do_cv(tokenizing(tweets, TfidfVectorizer(decode_error='ignore',max_df=freq, tokenizer=tokenize1)), y))\n",
      "    plt.figure()\n",
      "    plt.plot(maxdfs, accuracies, 'bo-')\n",
      "    plt.xlabel('maxdf (fraction)')\n",
      "    plt.ylabel('accuracy')\n",
      "    plt.show()\n",
      "        \n",
      "compare_maxdf(tweets, y)"
     ],
     "language": "python",
     "metadata": {},
     "outputs": [
      {
       "output_type": "stream",
       "stream": "stdout",
       "text": [
        "1.0\n",
        "X dimensions="
       ]
      },
      {
       "output_type": "stream",
       "stream": "stdout",
       "text": [
        " (2000, 5760)\n",
        "0.1"
       ]
      },
      {
       "output_type": "stream",
       "stream": "stdout",
       "text": [
        "\n",
        "X dimensions="
       ]
      },
      {
       "output_type": "stream",
       "stream": "stdout",
       "text": [
        " (2000, 5737)\n",
        "0.05"
       ]
      },
      {
       "output_type": "stream",
       "stream": "stdout",
       "text": [
        "\n",
        "X dimensions="
       ]
      },
      {
       "output_type": "stream",
       "stream": "stdout",
       "text": [
        " (2000, 5719)\n",
        "0.04"
       ]
      },
      {
       "output_type": "stream",
       "stream": "stdout",
       "text": [
        "\n",
        "X dimensions="
       ]
      },
      {
       "output_type": "stream",
       "stream": "stdout",
       "text": [
        " (2000, 5714)\n",
        "0.03"
       ]
      },
      {
       "output_type": "stream",
       "stream": "stdout",
       "text": [
        "\n",
        "X dimensions="
       ]
      },
      {
       "output_type": "stream",
       "stream": "stdout",
       "text": [
        " (2000, 5697)\n",
        "0.02"
       ]
      },
      {
       "output_type": "stream",
       "stream": "stdout",
       "text": [
        "\n",
        "X dimensions="
       ]
      },
      {
       "output_type": "stream",
       "stream": "stdout",
       "text": [
        " (2000, 5673)\n",
        "0.01"
       ]
      },
      {
       "output_type": "stream",
       "stream": "stdout",
       "text": [
        "\n",
        "X dimensions="
       ]
      },
      {
       "output_type": "stream",
       "stream": "stdout",
       "text": [
        " (2000, 5586)\n",
        "0.005"
       ]
      },
      {
       "output_type": "stream",
       "stream": "stdout",
       "text": [
        "\n",
        "X dimensions="
       ]
      },
      {
       "output_type": "stream",
       "stream": "stdout",
       "text": [
        " (2000, 5443)\n",
        "0.001"
       ]
      },
      {
       "output_type": "stream",
       "stream": "stdout",
       "text": [
        "\n",
        "X dimensions="
       ]
      },
      {
       "output_type": "stream",
       "stream": "stdout",
       "text": [
        " (2000, 4489)\n"
       ]
      },
      {
       "metadata": {},
       "output_type": "display_data",
       "png": "[encoded data removed]",
       "text": [
        "<matplotlib.figure.Figure at 0x1953a208>"
       ]
      }
     ],
     "prompt_number": 111
    },
    {
     "cell_type": "code",
     "collapsed": false,
     "input": [
      "# Does binary/freq help?\n",
      "def compare_binary(tweets, y):\n",
      "    accuracies = []\n",
      "    choices = [True, False]\n",
      "    for choice in choices:\n",
      "        print choice\n",
      "        accuracies.append(do_cv(tokenizing(tweets, TfidfVectorizer(decode_error='ignore',binary=choice, min_df=6, ngram_range=(1,2), tokenizer=tokenize1)), y))\n",
      "    plt.figure()\n",
      "    plt.plot(accuracies, 'bo-')\n",
      "    plt.xticks([0,1], [str(c) for c in choices])\n",
      "    plt.xlabel('binary')\n",
      "    plt.ylabel('accuracy')\n",
      "    plt.show()\n",
      "        \n",
      "compare_binary(tweets, y)"
     ],
     "language": "python",
     "metadata": {},
     "outputs": [
      {
       "output_type": "stream",
       "stream": "stdout",
       "text": [
        "True\n",
        "X dimensions="
       ]
      },
      {
       "output_type": "stream",
       "stream": "stdout",
       "text": [
        " (2000, 1006)\n",
        "False"
       ]
      },
      {
       "output_type": "stream",
       "stream": "stdout",
       "text": [
        "\n",
        "X dimensions="
       ]
      },
      {
       "output_type": "stream",
       "stream": "stdout",
       "text": [
        " (2000, 1006)\n"
       ]
      },
      {
       "metadata": {},
       "output_type": "display_data",
       "png": "[encoded data removed]",
       "text": [
        "<matplotlib.figure.Figure at 0x161f2160>"
       ]
      }
     ],
     "prompt_number": 112
    },
    {
     "cell_type": "code",
     "collapsed": false,
     "input": [
      "# Does idf help?\n",
      "def compare_idf(tweets, y):\n",
      "    accuracies = []\n",
      "    choices = [True, False]\n",
      "    for choice in choices:\n",
      "        print choice\n",
      "        accuracies.append(do_cv(tokenizing(tweets, TfidfVectorizer(decode_error='ignore',use_idf=choice, binary=False, min_df=6, ngram_range=(1,2))), y))\n",
      "    plt.figure()\n",
      "    plt.plot(accuracies, 'bo-')\n",
      "    plt.xticks([0,1], [str(c) for c in choices])\n",
      "    plt.xlabel('binary')\n",
      "    plt.ylabel('use idf?')\n",
      "    plt.show()\n",
      "        \n",
      "compare_idf(tweets, y)"
     ],
     "language": "python",
     "metadata": {},
     "outputs": [
      {
       "output_type": "stream",
       "stream": "stdout",
       "text": [
        "True\n",
        "X dimensions="
       ]
      },
      {
       "output_type": "stream",
       "stream": "stdout",
       "text": [
        " (2000, 880)\n",
        "False"
       ]
      },
      {
       "output_type": "stream",
       "stream": "stdout",
       "text": [
        "\n",
        "X dimensions="
       ]
      },
      {
       "output_type": "stream",
       "stream": "stdout",
       "text": [
        " (2000, 880)\n"
       ]
      },
      {
       "metadata": {},
       "output_type": "display_data",
       "png": "[encoded data removed]",
       "text": [
        "<matplotlib.figure.Figure at 0x15ea2550>"
       ]
      }
     ],
     "prompt_number": 113
    },
    {
     "cell_type": "code",
     "collapsed": false,
     "input": [
      "# Do stop words help?\n",
      "def compare_stopwords(tweets, y):\n",
      "    accuracies = []\n",
      "    choices = [None, 'english']\n",
      "    for choice in choices:\n",
      "        print choice\n",
      "        accuracies.append(do_cv(tokenizing(tweets, TfidfVectorizer(decode_error='ignore',stop_words=choice,\n",
      "                                                                 use_idf=False, binary=True, min_df=6, ngram_range=(1,2), tokenizer=tokenize1)), y))\n",
      "    plt.figure()\n",
      "    plt.plot(accuracies, 'bo-')\n",
      "    plt.xticks([0,1], [str(c) for c in choices])\n",
      "    plt.xlabel('binary')\n",
      "    plt.ylabel('use stopwords')\n",
      "    plt.show()\n",
      "        \n",
      "compare_stopwords(tweets, y)"
     ],
     "language": "python",
     "metadata": {},
     "outputs": [
      {
       "output_type": "stream",
       "stream": "stdout",
       "text": [
        "None\n",
        "X dimensions="
       ]
      },
      {
       "output_type": "stream",
       "stream": "stdout",
       "text": [
        " (2000, 1006)\n",
        "english"
       ]
      },
      {
       "output_type": "stream",
       "stream": "stdout",
       "text": [
        "\n",
        "X dimensions="
       ]
      },
      {
       "output_type": "stream",
       "stream": "stdout",
       "text": [
        " (2000, 1006)\n"
       ]
      },
      {
       "metadata": {},
       "output_type": "display_data",
       "png": "[encoded data removed]",
       "text": [
        "<matplotlib.figure.Figure at 0xa44d128>"
       ]
      }
     ],
     "prompt_number": 114
    },
    {
     "cell_type": "code",
     "collapsed": false,
     "input": [
      "# Do GridSearch on all parameters.\n",
      "from sklearn.grid_search import GridSearchCV\n",
      "from sklearn.pipeline import Pipeline\n",
      "from pprint import pprint\n",
      "\n",
      "pipeline = Pipeline([\n",
      "    ('vect', TfidfVectorizer(decode_error='ignore',tokenizer=tokenize1)),\n",
      "    ('clf', LogisticRegression()),\n",
      "])\n",
      "\n",
      "parameters = {\n",
      "    'vect__min_df': (1, 2, 3, 4, 5),\n",
      "    'vect__ngram_range': ((1, 1), (1, 2), (1, 3)),  # unigrams or bigrams or trigrams\n",
      "    'vect__use_idf': (True, False),\n",
      "    'vect__max_df':(1., .1, .05, .04, .03)\n",
      "}\n",
      "\n",
      "data = [t['text'] for t in tweets]\n",
      "grid_search = GridSearchCV(pipeline, parameters, verbose=1, cv=KFold(len(y), 10))\n",
      "\n",
      "print \"Performing grid search...\"\n",
      "print \"pipeline:\", [name for name, _ in pipeline.steps]\n",
      "print \"parameters:\"\n",
      "pprint(parameters)\n",
      "grid_search.fit(data, y)\n",
      "print \"done.\"\n",
      "\n",
      "print(\"Best score: %0.3f\" % grid_search.best_score_)\n",
      "print(\"Best parameters set:\")\n",
      "best_parameters = grid_search.best_estimator_.get_params()\n",
      "for param_name in sorted(parameters.keys()):\n",
      "    print(\"\\t%s: %r\" % (param_name, best_parameters[param_name]))"
     ],
     "language": "python",
     "metadata": {},
     "outputs": [
      {
       "output_type": "stream",
       "stream": "stderr",
       "text": [
        "[Parallel(n_jobs=1)]: Done   1 jobs       | elapsed:    0.1s\n",
        "[Parallel(n_jobs=1)]: Done  50 jobs       | elapsed:   17.9s\n"
       ]
      },
      {
       "output_type": "stream",
       "stream": "stderr",
       "text": [
        "[Parallel(n_jobs=1)]: Done 200 jobs       | elapsed:  1.1min\n",
        "[Parallel(n_jobs=1)]: Done 450 jobs       | elapsed:  2.2min\n"
       ]
      },
      {
       "output_type": "stream",
       "stream": "stderr",
       "text": [
        "[Parallel(n_jobs=1)]: Done 800 jobs       | elapsed:  3.9min\n",
        "[Parallel(n_jobs=1)]: Done 1250 jobs       | elapsed:  6.2min\n"
       ]
      },
      {
       "output_type": "stream",
       "stream": "stdout",
       "text": [
        "Performing grid search...\n",
        "pipeline: ['vect', 'clf']\n",
        "parameters:\n",
        "{'vect__max_df': (1.0, 0.1, 0.05, 0.04, 0.03),\n",
        " 'vect__min_df': (1, 2, 3, 4, 5),\n",
        " 'vect__ngram_range': ((1, 1), (1, 2), (1, 3)),\n",
        " 'vect__use_idf': (True, False)}\n",
        "Fitting 10 folds for each of 150 candidates, totalling 1500 fits\n",
        "done."
       ]
      },
      {
       "output_type": "stream",
       "stream": "stdout",
       "text": [
        "\n",
        "Best score: 0.735\n",
        "Best parameters set:\n",
        "\tvect__max_df: 1.0\n",
        "\tvect__min_df: 5\n",
        "\tvect__ngram_range: (1, 2)\n",
        "\tvect__use_idf: False\n"
       ]
      },
      {
       "output_type": "stream",
       "stream": "stderr",
       "text": [
        "[Parallel(n_jobs=1)]: Done 1500 out of 1500 | elapsed:  7.5min finished\n"
       ]
      }
     ],
     "prompt_number": 115
    },
    {
     "cell_type": "code",
     "collapsed": false,
     "input": [
      "print '\\n'.join(str(x) for x in grid_search.grid_scores_)"
     ],
     "language": "python",
     "metadata": {},
     "outputs": [
      {
       "output_type": "stream",
       "stream": "stdout",
       "text": [
        "mean: 0.73150, std: 0.03000, params: {'vect__ngram_range': (1, 1), 'vect__use_idf': True, 'vect__min_df': 1, 'vect__max_df': 1.0}\n",
        "mean: 0.72950, std: 0.03259, params: {'vect__ngram_range': (1, 1), 'vect__use_idf': False, 'vect__min_df': 1, 'vect__max_df': 1.0}\n",
        "mean: 0.72850, std: 0.02975, params: {'vect__ngram_range': (1, 2), 'vect__use_idf': True, 'vect__min_df': 1, 'vect__max_df': 1.0}\n",
        "mean: 0.72650, std: 0.03218, params: {'vect__ngram_range': (1, 2), 'vect__use_idf': False, 'vect__min_df': 1, 'vect__max_df': 1.0}\n",
        "mean: 0.72800, std: 0.03363, params: {'vect__ngram_range': (1, 3), 'vect__use_idf': True, 'vect__min_df': 1, 'vect__max_df': 1.0}\n",
        "mean: 0.72250, std: 0.03393, params: {'vect__ngram_range': (1, 3), 'vect__use_idf': False, 'vect__min_df': 1, 'vect__max_df': 1.0}\n",
        "mean: 0.73200, std: 0.02610, params: {'vect__ngram_range': (1, 1), 'vect__use_idf': True, 'vect__min_df': 2, 'vect__max_df': 1.0}\n",
        "mean: 0.72750, std: 0.03349, params: {'vect__ngram_range': (1, 1), 'vect__use_idf': False, 'vect__min_df': 2, 'vect__max_df': 1.0}\n",
        "mean: 0.73150, std: 0.02992, params: {'vect__ngram_range': (1, 2), 'vect__use_idf': True, 'vect__min_df': 2, 'vect__max_df': 1.0}\n",
        "mean: 0.73300, std: 0.03242, params: {'vect__ngram_range': (1, 2), 'vect__use_idf': False, 'vect__min_df': 2, 'vect__max_df': 1.0}\n",
        "mean: 0.73150, std: 0.02829, params: {'vect__ngram_range': (1, 3), 'vect__use_idf': True, 'vect__min_df': 2, 'vect__max_df': 1.0}\n",
        "mean: 0.73050, std: 0.03102, params: {'vect__ngram_range': (1, 3), 'vect__use_idf': False, 'vect__min_df': 2, 'vect__max_df': 1.0}\n",
        "mean: 0.73050, std: 0.02583, params: {'vect__ngram_range': (1, 1), 'vect__use_idf': True, 'vect__min_df': 3, 'vect__max_df': 1.0}\n",
        "mean: 0.72600, std: 0.03419, params: {'vect__ngram_range': (1, 1), 'vect__use_idf': False, 'vect__min_df': 3, 'vect__max_df': 1.0}\n",
        "mean: 0.72800, std: 0.03422, params: {'vect__ngram_range': (1, 2), 'vect__use_idf': True, 'vect__min_df': 3, 'vect__max_df': 1.0}\n",
        "mean: 0.73000, std: 0.03435, params: {'vect__ngram_range': (1, 2), 'vect__use_idf': False, 'vect__min_df': 3, 'vect__max_df': 1.0}\n",
        "mean: 0.72700, std: 0.03219, params: {'vect__ngram_range': (1, 3), 'vect__use_idf': True, 'vect__min_df': 3, 'vect__max_df': 1.0}\n",
        "mean: 0.73000, std: 0.03162, params: {'vect__ngram_range': (1, 3), 'vect__use_idf': False, 'vect__min_df': 3, 'vect__max_df': 1.0}\n",
        "mean: 0.73450, std: 0.02669, params: {'vect__ngram_range': (1, 1), 'vect__use_idf': True, 'vect__min_df': 4, 'vect__max_df': 1.0}\n",
        "mean: 0.72800, std: 0.03648, params: {'vect__ngram_range': (1, 1), 'vect__use_idf': False, 'vect__min_df': 4, 'vect__max_df': 1.0}\n",
        "mean: 0.72900, std: 0.02879, params: {'vect__ngram_range': (1, 2), 'vect__use_idf': True, 'vect__min_df': 4, 'vect__max_df': 1.0}\n",
        "mean: 0.73250, std: 0.03076, params: {'vect__ngram_range': (1, 2), 'vect__use_idf': False, 'vect__min_df': 4, 'vect__max_df': 1.0}\n",
        "mean: 0.72450, std: 0.03020, params: {'vect__ngram_range': (1, 3), 'vect__use_idf': True, 'vect__min_df': 4, 'vect__max_df': 1.0}\n",
        "mean: 0.72950, std: 0.03061, params: {'vect__ngram_range': (1, 3), 'vect__use_idf': False, 'vect__min_df': 4, 'vect__max_df': 1.0}\n",
        "mean: 0.73400, std: 0.02897, params: {'vect__ngram_range': (1, 1), 'vect__use_idf': True, 'vect__min_df': 5, 'vect__max_df': 1.0}\n",
        "mean: 0.72700, std: 0.03226, params: {'vect__ngram_range': (1, 1), 'vect__use_idf': False, 'vect__min_df': 5, 'vect__max_df': 1.0}\n",
        "mean: 0.73300, std: 0.03035, params: {'vect__ngram_range': (1, 2), 'vect__use_idf': True, 'vect__min_df': 5, 'vect__max_df': 1.0}\n",
        "mean: 0.73500, std: 0.03248, params: {'vect__ngram_range': (1, 2), 'vect__use_idf': False, 'vect__min_df': 5, 'vect__max_df': 1.0}\n",
        "mean: 0.72950, std: 0.02928, params: {'vect__ngram_range': (1, 3), 'vect__use_idf': True, 'vect__min_df': 5, 'vect__max_df': 1.0}\n",
        "mean: 0.73200, std: 0.03385, params: {'vect__ngram_range': (1, 3), 'vect__use_idf': False, 'vect__min_df': 5, 'vect__max_df': 1.0}\n",
        "mean: 0.67600, std: 0.03463, params: {'vect__ngram_range': (1, 1), 'vect__use_idf': True, 'vect__min_df': 1, 'vect__max_df': 0.1}\n",
        "mean: 0.67050, std: 0.03118, params: {'vect__ngram_range': (1, 1), 'vect__use_idf': False, 'vect__min_df': 1, 'vect__max_df': 0.1}\n",
        "mean: 0.69800, std: 0.03326, params: {'vect__ngram_range': (1, 2), 'vect__use_idf': True, 'vect__min_df': 1, 'vect__max_df': 0.1}\n",
        "mean: 0.70000, std: 0.02449, params: {'vect__ngram_range': (1, 2), 'vect__use_idf': False, 'vect__min_df': 1, 'vect__max_df': 0.1}\n",
        "mean: 0.68800, std: 0.03407, params: {'vect__ngram_range': (1, 3), 'vect__use_idf': True, 'vect__min_df': 1, 'vect__max_df': 0.1}\n",
        "mean: 0.69700, std: 0.03059, params: {'vect__ngram_range': (1, 3), 'vect__use_idf': False, 'vect__min_df': 1, 'vect__max_df': 0.1}\n",
        "mean: 0.67600, std: 0.03583, params: {'vect__ngram_range': (1, 1), 'vect__use_idf': True, 'vect__min_df': 2, 'vect__max_df': 0.1}\n",
        "mean: 0.66900, std: 0.02998, params: {'vect__ngram_range': (1, 1), 'vect__use_idf': False, 'vect__min_df': 2, 'vect__max_df': 0.1}\n",
        "mean: 0.70000, std: 0.02966, params: {'vect__ngram_range': (1, 2), 'vect__use_idf': True, 'vect__min_df': 2, 'vect__max_df': 0.1}\n",
        "mean: 0.70200, std: 0.02865, params: {'vect__ngram_range': (1, 2), 'vect__use_idf': False, 'vect__min_df': 2, 'vect__max_df': 0.1}\n",
        "mean: 0.69500, std: 0.03130, params: {'vect__ngram_range': (1, 3), 'vect__use_idf': True, 'vect__min_df': 2, 'vect__max_df': 0.1}\n",
        "mean: 0.70150, std: 0.02958, params: {'vect__ngram_range': (1, 3), 'vect__use_idf': False, 'vect__min_df': 2, 'vect__max_df': 0.1}\n",
        "mean: 0.67550, std: 0.03482, params: {'vect__ngram_range': (1, 1), 'vect__use_idf': True, 'vect__min_df': 3, 'vect__max_df': 0.1}\n",
        "mean: 0.66750, std: 0.03124, params: {'vect__ngram_range': (1, 1), 'vect__use_idf': False, 'vect__min_df': 3, 'vect__max_df': 0.1}\n",
        "mean: 0.70550, std: 0.03221, params: {'vect__ngram_range': (1, 2), 'vect__use_idf': True, 'vect__min_df': 3, 'vect__max_df': 0.1}\n",
        "mean: 0.70050, std: 0.02945, params: {'vect__ngram_range': (1, 2), 'vect__use_idf': False, 'vect__min_df': 3, 'vect__max_df': 0.1}\n",
        "mean: 0.70700, std: 0.03544, params: {'vect__ngram_range': (1, 3), 'vect__use_idf': True, 'vect__min_df': 3, 'vect__max_df': 0.1}\n",
        "mean: 0.70250, std: 0.03296, params: {'vect__ngram_range': (1, 3), 'vect__use_idf': False, 'vect__min_df': 3, 'vect__max_df': 0.1}\n",
        "mean: 0.67250, std: 0.03995, params: {'vect__ngram_range': (1, 1), 'vect__use_idf': True, 'vect__min_df': 4, 'vect__max_df': 0.1}\n",
        "mean: 0.66550, std: 0.02841, params: {'vect__ngram_range': (1, 1), 'vect__use_idf': False, 'vect__min_df': 4, 'vect__max_df': 0.1}\n",
        "mean: 0.70250, std: 0.02839, params: {'vect__ngram_range': (1, 2), 'vect__use_idf': True, 'vect__min_df': 4, 'vect__max_df': 0.1}\n",
        "mean: 0.70150, std: 0.02693, params: {'vect__ngram_range': (1, 2), 'vect__use_idf': False, 'vect__min_df': 4, 'vect__max_df': 0.1}\n",
        "mean: 0.70000, std: 0.03074, params: {'vect__ngram_range': (1, 3), 'vect__use_idf': True, 'vect__min_df': 4, 'vect__max_df': 0.1}\n",
        "mean: 0.69950, std: 0.02631, params: {'vect__ngram_range': (1, 3), 'vect__use_idf': False, 'vect__min_df': 4, 'vect__max_df': 0.1}\n",
        "mean: 0.67150, std: 0.03450, params: {'vect__ngram_range': (1, 1), 'vect__use_idf': True, 'vect__min_df': 5, 'vect__max_df': 0.1}\n",
        "mean: 0.66750, std: 0.02786, params: {'vect__ngram_range': (1, 1), 'vect__use_idf': False, 'vect__min_df': 5, 'vect__max_df': 0.1}\n",
        "mean: 0.70600, std: 0.02853, params: {'vect__ngram_range': (1, 2), 'vect__use_idf': True, 'vect__min_df': 5, 'vect__max_df': 0.1}\n",
        "mean: 0.69950, std: 0.02196, params: {'vect__ngram_range': (1, 2), 'vect__use_idf': False, 'vect__min_df': 5, 'vect__max_df': 0.1}\n",
        "mean: 0.70550, std: 0.02979, params: {'vect__ngram_range': (1, 3), 'vect__use_idf': True, 'vect__min_df': 5, 'vect__max_df': 0.1}\n",
        "mean: 0.69900, std: 0.02755, params: {'vect__ngram_range': (1, 3), 'vect__use_idf': False, 'vect__min_df': 5, 'vect__max_df': 0.1}\n",
        "mean: 0.67700, std: 0.04354, params: {'vect__ngram_range': (1, 1), 'vect__use_idf': True, 'vect__min_df': 1, 'vect__max_df': 0.05}\n",
        "mean: 0.67300, std: 0.04556, params: {'vect__ngram_range': (1, 1), 'vect__use_idf': False, 'vect__min_df': 1, 'vect__max_df': 0.05}\n",
        "mean: 0.68700, std: 0.04136, params: {'vect__ngram_range': (1, 2), 'vect__use_idf': True, 'vect__min_df': 1, 'vect__max_df': 0.05}\n",
        "mean: 0.69150, std: 0.03634, params: {'vect__ngram_range': (1, 2), 'vect__use_idf': False, 'vect__min_df': 1, 'vect__max_df': 0.05}\n",
        "mean: 0.67050, std: 0.03927, params: {'vect__ngram_range': (1, 3), 'vect__use_idf': True, 'vect__min_df': 1, 'vect__max_df': 0.05}\n",
        "mean: 0.68550, std: 0.03424, params: {'vect__ngram_range': (1, 3), 'vect__use_idf': False, 'vect__min_df': 1, 'vect__max_df': 0.05}\n",
        "mean: 0.67550, std: 0.04034, params: {'vect__ngram_range': (1, 1), 'vect__use_idf': True, 'vect__min_df': 2, 'vect__max_df': 0.05}\n",
        "mean: 0.66750, std: 0.04297, params: {'vect__ngram_range': (1, 1), 'vect__use_idf': False, 'vect__min_df': 2, 'vect__max_df': 0.05}\n",
        "mean: 0.69650, std: 0.03362, params: {'vect__ngram_range': (1, 2), 'vect__use_idf': True, 'vect__min_df': 2, 'vect__max_df': 0.05}\n",
        "mean: 0.69800, std: 0.03348, params: {'vect__ngram_range': (1, 2), 'vect__use_idf': False, 'vect__min_df': 2, 'vect__max_df': 0.05}\n",
        "mean: 0.69450, std: 0.03496, params: {'vect__ngram_range': (1, 3), 'vect__use_idf': True, 'vect__min_df': 2, 'vect__max_df': 0.05}\n",
        "mean: 0.69200, std: 0.03280, params: {'vect__ngram_range': (1, 3), 'vect__use_idf': False, 'vect__min_df': 2, 'vect__max_df': 0.05}\n",
        "mean: 0.67500, std: 0.04177, params: {'vect__ngram_range': (1, 1), 'vect__use_idf': True, 'vect__min_df': 3, 'vect__max_df': 0.05}\n",
        "mean: 0.67000, std: 0.04995, params: {'vect__ngram_range': (1, 1), 'vect__use_idf': False, 'vect__min_df': 3, 'vect__max_df': 0.05}\n",
        "mean: 0.69950, std: 0.03811, params: {'vect__ngram_range': (1, 2), 'vect__use_idf': True, 'vect__min_df': 3, 'vect__max_df': 0.05}\n",
        "mean: 0.69450, std: 0.03751, params: {'vect__ngram_range': (1, 2), 'vect__use_idf': False, 'vect__min_df': 3, 'vect__max_df': 0.05}\n",
        "mean: 0.70000, std: 0.03654, params: {'vect__ngram_range': (1, 3), 'vect__use_idf': True, 'vect__min_df': 3, 'vect__max_df': 0.05}\n",
        "mean: 0.69300, std: 0.03689, params: {'vect__ngram_range': (1, 3), 'vect__use_idf': False, 'vect__min_df': 3, 'vect__max_df': 0.05}\n",
        "mean: 0.67000, std: 0.04382, params: {'vect__ngram_range': (1, 1), 'vect__use_idf': True, 'vect__min_df': 4, 'vect__max_df': 0.05}\n",
        "mean: 0.66500, std: 0.04213, params: {'vect__ngram_range': (1, 1), 'vect__use_idf': False, 'vect__min_df': 4, 'vect__max_df': 0.05}\n",
        "mean: 0.69500, std: 0.03428, params: {'vect__ngram_range': (1, 2), 'vect__use_idf': True, 'vect__min_df': 4, 'vect__max_df': 0.05}\n",
        "mean: 0.68950, std: 0.03482, params: {'vect__ngram_range': (1, 2), 'vect__use_idf': False, 'vect__min_df': 4, 'vect__max_df': 0.05}\n",
        "mean: 0.69700, std: 0.03400, params: {'vect__ngram_range': (1, 3), 'vect__use_idf': True, 'vect__min_df': 4, 'vect__max_df': 0.05}\n",
        "mean: 0.69350, std: 0.03585, params: {'vect__ngram_range': (1, 3), 'vect__use_idf': False, 'vect__min_df': 4, 'vect__max_df': 0.05}\n",
        "mean: 0.66350, std: 0.04456, params: {'vect__ngram_range': (1, 1), 'vect__use_idf': True, 'vect__min_df': 5, 'vect__max_df': 0.05}\n",
        "mean: 0.66400, std: 0.04116, params: {'vect__ngram_range': (1, 1), 'vect__use_idf': False, 'vect__min_df': 5, 'vect__max_df': 0.05}\n",
        "mean: 0.69450, std: 0.03525, params: {'vect__ngram_range': (1, 2), 'vect__use_idf': True, 'vect__min_df': 5, 'vect__max_df': 0.05}\n",
        "mean: 0.69000, std: 0.03599, params: {'vect__ngram_range': (1, 2), 'vect__use_idf': False, 'vect__min_df': 5, 'vect__max_df': 0.05}\n",
        "mean: 0.69350, std: 0.03287, params: {'vect__ngram_range': (1, 3), 'vect__use_idf': True, 'vect__min_df': 5, 'vect__max_df': 0.05}\n",
        "mean: 0.69400, std: 0.03727, params: {'vect__ngram_range': (1, 3), 'vect__use_idf': False, 'vect__min_df': 5, 'vect__max_df': 0.05}\n",
        "mean: 0.67450, std: 0.04379, params: {'vect__ngram_range': (1, 1), 'vect__use_idf': True, 'vect__min_df': 1, 'vect__max_df': 0.04}\n",
        "mean: 0.67600, std: 0.04679, params: {'vect__ngram_range': (1, 1), 'vect__use_idf': False, 'vect__min_df': 1, 'vect__max_df': 0.04}\n",
        "mean: 0.68500, std: 0.04189, params: {'vect__ngram_range': (1, 2), 'vect__use_idf': True, 'vect__min_df': 1, 'vect__max_df': 0.04}\n",
        "mean: 0.69100, std: 0.03713, params: {'vect__ngram_range': (1, 2), 'vect__use_idf': False, 'vect__min_df': 1, 'vect__max_df': 0.04}\n",
        "mean: 0.67150, std: 0.03854, params: {'vect__ngram_range': (1, 3), 'vect__use_idf': True, 'vect__min_df': 1, 'vect__max_df': 0.04}\n",
        "mean: 0.68450, std: 0.03335, params: {'vect__ngram_range': (1, 3), 'vect__use_idf': False, 'vect__min_df': 1, 'vect__max_df': 0.04}\n",
        "mean: 0.67900, std: 0.03826, params: {'vect__ngram_range': (1, 1), 'vect__use_idf': True, 'vect__min_df': 2, 'vect__max_df': 0.04}\n",
        "mean: 0.67200, std: 0.04545, params: {'vect__ngram_range': (1, 1), 'vect__use_idf': False, 'vect__min_df': 2, 'vect__max_df': 0.04}\n",
        "mean: 0.69900, std: 0.03541, params: {'vect__ngram_range': (1, 2), 'vect__use_idf': True, 'vect__min_df': 2, 'vect__max_df': 0.04}\n",
        "mean: 0.69650, std: 0.03354, params: {'vect__ngram_range': (1, 2), 'vect__use_idf': False, 'vect__min_df': 2, 'vect__max_df': 0.04}\n",
        "mean: 0.69750, std: 0.03614, params: {'vect__ngram_range': (1, 3), 'vect__use_idf': True, 'vect__min_df': 2, 'vect__max_df': 0.04}\n",
        "mean: 0.69400, std: 0.03569, params: {'vect__ngram_range': (1, 3), 'vect__use_idf': False, 'vect__min_df': 2, 'vect__max_df': 0.04}\n",
        "mean: 0.67500, std: 0.04237, params: {'vect__ngram_range': (1, 1), 'vect__use_idf': True, 'vect__min_df': 3, 'vect__max_df': 0.04}\n",
        "mean: 0.66850, std: 0.04717, params: {'vect__ngram_range': (1, 1), 'vect__use_idf': False, 'vect__min_df': 3, 'vect__max_df': 0.04}\n",
        "mean: 0.70000, std: 0.03493, params: {'vect__ngram_range': (1, 2), 'vect__use_idf': True, 'vect__min_df': 3, 'vect__max_df': 0.04}\n",
        "mean: 0.69600, std: 0.03632, params: {'vect__ngram_range': (1, 2), 'vect__use_idf': False, 'vect__min_df': 3, 'vect__max_df': 0.04}\n",
        "mean: 0.70250, std: 0.03690, params: {'vect__ngram_range': (1, 3), 'vect__use_idf': True, 'vect__min_df': 3, 'vect__max_df': 0.04}\n",
        "mean: 0.69650, std: 0.04105, params: {'vect__ngram_range': (1, 3), 'vect__use_idf': False, 'vect__min_df': 3, 'vect__max_df': 0.04}\n",
        "mean: 0.67200, std: 0.04468, params: {'vect__ngram_range': (1, 1), 'vect__use_idf': True, 'vect__min_df': 4, 'vect__max_df': 0.04}\n",
        "mean: 0.66450, std: 0.04168, params: {'vect__ngram_range': (1, 1), 'vect__use_idf': False, 'vect__min_df': 4, 'vect__max_df': 0.04}\n",
        "mean: 0.69500, std: 0.03302, params: {'vect__ngram_range': (1, 2), 'vect__use_idf': True, 'vect__min_df': 4, 'vect__max_df': 0.04}\n",
        "mean: 0.69300, std: 0.03473, params: {'vect__ngram_range': (1, 2), 'vect__use_idf': False, 'vect__min_df': 4, 'vect__max_df': 0.04}\n",
        "mean: 0.69750, std: 0.03530, params: {'vect__ngram_range': (1, 3), 'vect__use_idf': True, 'vect__min_df': 4, 'vect__max_df': 0.04}\n",
        "mean: 0.69500, std: 0.03457, params: {'vect__ngram_range': (1, 3), 'vect__use_idf': False, 'vect__min_df': 4, 'vect__max_df': 0.04}\n",
        "mean: 0.67050, std: 0.04552, params: {'vect__ngram_range': (1, 1), 'vect__use_idf': True, 'vect__min_df': 5, 'vect__max_df': 0.04}\n",
        "mean: 0.66300, std: 0.04484, params: {'vect__ngram_range': (1, 1), 'vect__use_idf': False, 'vect__min_df': 5, 'vect__max_df': 0.04}\n",
        "mean: 0.69250, std: 0.03703, params: {'vect__ngram_range': (1, 2), 'vect__use_idf': True, 'vect__min_df': 5, 'vect__max_df': 0.04}\n",
        "mean: 0.68950, std: 0.03691, params: {'vect__ngram_range': (1, 2), 'vect__use_idf': False, 'vect__min_df': 5, 'vect__max_df': 0.04}\n",
        "mean: 0.69200, std: 0.03579, params: {'vect__ngram_range': (1, 3), 'vect__use_idf': True, 'vect__min_df': 5, 'vect__max_df': 0.04}\n",
        "mean: 0.69250, std: 0.03356, params: {'vect__ngram_range': (1, 3), 'vect__use_idf': False, 'vect__min_df': 5, 'vect__max_df': 0.04}\n",
        "mean: 0.66550, std: 0.04251, params: {'vect__ngram_range': (1, 1), 'vect__use_idf': True, 'vect__min_df': 1, 'vect__max_df': 0.03}\n",
        "mean: 0.67050, std: 0.04251, params: {'vect__ngram_range': (1, 1), 'vect__use_idf': False, 'vect__min_df': 1, 'vect__max_df': 0.03}\n",
        "mean: 0.67350, std: 0.03886, params: {'vect__ngram_range': (1, 2), 'vect__use_idf': True, 'vect__min_df': 1, 'vect__max_df': 0.03}\n",
        "mean: 0.68950, std: 0.03496, params: {'vect__ngram_range': (1, 2), 'vect__use_idf': False, 'vect__min_df': 1, 'vect__max_df': 0.03}\n",
        "mean: 0.66450, std: 0.04687, params: {'vect__ngram_range': (1, 3), 'vect__use_idf': True, 'vect__min_df': 1, 'vect__max_df': 0.03}\n",
        "mean: 0.67850, std: 0.04148, params: {'vect__ngram_range': (1, 3), 'vect__use_idf': False, 'vect__min_df': 1, 'vect__max_df': 0.03}\n",
        "mean: 0.66800, std: 0.04112, params: {'vect__ngram_range': (1, 1), 'vect__use_idf': True, 'vect__min_df': 2, 'vect__max_df': 0.03}\n",
        "mean: 0.66000, std: 0.04669, params: {'vect__ngram_range': (1, 1), 'vect__use_idf': False, 'vect__min_df': 2, 'vect__max_df': 0.03}\n",
        "mean: 0.69500, std: 0.03302, params: {'vect__ngram_range': (1, 2), 'vect__use_idf': True, 'vect__min_df': 2, 'vect__max_df': 0.03}\n",
        "mean: 0.69200, std: 0.03716, params: {'vect__ngram_range': (1, 2), 'vect__use_idf': False, 'vect__min_df': 2, 'vect__max_df': 0.03}\n",
        "mean: 0.69050, std: 0.04046, params: {'vect__ngram_range': (1, 3), 'vect__use_idf': True, 'vect__min_df': 2, 'vect__max_df': 0.03}\n",
        "mean: 0.69300, std: 0.03736, params: {'vect__ngram_range': (1, 3), 'vect__use_idf': False, 'vect__min_df': 2, 'vect__max_df': 0.03}\n",
        "mean: 0.66400, std: 0.04742, params: {'vect__ngram_range': (1, 1), 'vect__use_idf': True, 'vect__min_df': 3, 'vect__max_df': 0.03}\n",
        "mean: 0.65700, std: 0.04734, params: {'vect__ngram_range': (1, 1), 'vect__use_idf': False, 'vect__min_df': 3, 'vect__max_df': 0.03}\n",
        "mean: 0.69900, std: 0.03680, params: {'vect__ngram_range': (1, 2), 'vect__use_idf': True, 'vect__min_df': 3, 'vect__max_df': 0.03}\n",
        "mean: 0.69150, std: 0.03821, params: {'vect__ngram_range': (1, 2), 'vect__use_idf': False, 'vect__min_df': 3, 'vect__max_df': 0.03}\n",
        "mean: 0.69700, std: 0.03982, params: {'vect__ngram_range': (1, 3), 'vect__use_idf': True, 'vect__min_df': 3, 'vect__max_df': 0.03}\n",
        "mean: 0.69200, std: 0.04007, params: {'vect__ngram_range': (1, 3), 'vect__use_idf': False, 'vect__min_df': 3, 'vect__max_df': 0.03}\n",
        "mean: 0.65450, std: 0.04992, params: {'vect__ngram_range': (1, 1), 'vect__use_idf': True, 'vect__min_df': 4, 'vect__max_df': 0.03}\n",
        "mean: 0.65350, std: 0.04484, params: {'vect__ngram_range': (1, 1), 'vect__use_idf': False, 'vect__min_df': 4, 'vect__max_df': 0.03}\n",
        "mean: 0.69700, std: 0.04026, params: {'vect__ngram_range': (1, 2), 'vect__use_idf': True, 'vect__min_df': 4, 'vect__max_df': 0.03}\n",
        "mean: 0.69150, std: 0.04278, params: {'vect__ngram_range': (1, 2), 'vect__use_idf': False, 'vect__min_df': 4, 'vect__max_df': 0.03}\n",
        "mean: 0.69350, std: 0.04313, params: {'vect__ngram_range': (1, 3), 'vect__use_idf': True, 'vect__min_df': 4, 'vect__max_df': 0.03}\n",
        "mean: 0.69250, std: 0.03600, params: {'vect__ngram_range': (1, 3), 'vect__use_idf': False, 'vect__min_df': 4, 'vect__max_df': 0.03}\n",
        "mean: 0.65400, std: 0.04454, params: {'vect__ngram_range': (1, 1), 'vect__use_idf': True, 'vect__min_df': 5, 'vect__max_df': 0.03}\n",
        "mean: 0.64750, std: 0.04627, params: {'vect__ngram_range': (1, 1), 'vect__use_idf': False, 'vect__min_df': 5, 'vect__max_df': 0.03}\n",
        "mean: 0.68500, std: 0.03924, params: {'vect__ngram_range': (1, 2), 'vect__use_idf': True, 'vect__min_df': 5, 'vect__max_df': 0.03}\n",
        "mean: 0.68200, std: 0.03926, params: {'vect__ngram_range': (1, 2), 'vect__use_idf': False, 'vect__min_df': 5, 'vect__max_df': 0.03}\n",
        "mean: 0.68750, std: 0.03939, params: {'vect__ngram_range': (1, 3), 'vect__use_idf': True, 'vect__min_df': 5, 'vect__max_df': 0.03}\n",
        "mean: 0.68800, std: 0.03743, params: {'vect__ngram_range': (1, 3), 'vect__use_idf': False, 'vect__min_df': 5, 'vect__max_df': 0.03}\n"
       ]
      }
     ],
     "prompt_number": 151
    },
    {
     "cell_type": "code",
     "collapsed": false,
     "input": [
      "# What are the top weighted features?\n",
      "\n",
      "# Get the learned coefficients for the Positive class.\n",
      "coef = model.coef_[2]\n",
      "# Sort them in descending order.\n",
      "top_coef_ind = np.argsort(coef)[::-1]\n",
      "# Get the names of those features.\n",
      "top_coef_terms = vocab[top_coef_ind]\n",
      "# Get the weights of those features\n",
      "top_coef = coef[top_coef_ind]\n",
      "# Print the top 10.\n",
      "print 'top weighted terms for positive class:\\n', \\\n",
      "    '\\n'.join('%s %.2f' % (term, weight) for term, weight in zip(top_coef_terms, top_coef)[:10])"
     ],
     "language": "python",
     "metadata": {},
     "outputs": [
      {
       "output_type": "stream",
       "stream": "stdout",
       "text": [
        "top weighted terms for positive class:\n",
        "Truemy 5.57\n",
        "Truei 4.77\n",
        "Truevaping 3.08\n",
        "Truevape 1.89\n",
        "Trueecig 1.79\n",
        "Truecig 1.64\n",
        "Trueme 1.43\n",
        "Truegreen 1.37\n",
        "Truegot 1.23\n",
        "Truebuy 1.12\n"
       ]
      }
     ],
     "prompt_number": 152
    },
    {
     "cell_type": "code",
     "collapsed": false,
     "input": [
      "# Get the learned coefficients for the Negative class.\n",
      "coef = model.coef_[0]\n",
      "# Sort them in descending order.\n",
      "top_coef_ind = np.argsort(coef)[::-1]\n",
      "# Get the names of those features.\n",
      "top_coef_terms = vocab[top_coef_ind]\n",
      "# Get the weights of those features\n",
      "top_coef = coef[top_coef_ind]\n",
      "# Print the top 10.\n",
      "print 'top weighted terms for negative class:\\n', \\\n",
      "    '\\n'.join('%s %.2f' % (term, weight) for term, weight in zip(top_coef_terms, top_coef)[:10])"
     ],
     "language": "python",
     "metadata": {},
     "outputs": [
      {
       "output_type": "stream",
       "stream": "stdout",
       "text": [
        "top weighted terms for negative class:\n",
        "Truesmoking 2.07\n",
        "Trueyou 1.92\n",
        "Truehe 1.92\n",
        "Truean 1.88\n",
        "Truein 1.79\n",
        "Truepeople 1.69\n",
        "Trueclass 1.65\n",
        "Truepussy 1.51\n",
        "Trueshit 1.41\n",
        "Truestupid 1.40\n"
       ]
      }
     ],
     "prompt_number": 153
    },
    {
     "cell_type": "code",
     "collapsed": false,
     "input": [
      "# Get the learned coefficients for the OTHER class.\n",
      "coef = model.coef_[1]\n",
      "# Sort them in descending order.\n",
      "top_coef_ind = np.argsort(coef)[::-1]\n",
      "# Get the names of those features.\n",
      "top_coef_terms = vocab[top_coef_ind]\n",
      "# Get the weights of those features\n",
      "top_coef = coef[top_coef_ind]\n",
      "# Print the top 10.\n",
      "print 'top weighted terms for other class:\\n', \\\n",
      "    '\\n'.join('%s %.2f' % (term, weight) for term, weight in zip(top_coef_terms, top_coef)[:10])"
     ],
     "language": "python",
     "metadata": {},
     "outputs": [
      {
       "output_type": "stream",
       "stream": "stdout",
       "text": [
        "top weighted terms for other class:\n",
        "TrueTHIS_IS_A_URL 5.47\n",
        "Trueretail 1.51\n",
        "Trueof 1.42\n",
        "Truede 1.31\n",
        "Truedallas 1.19\n",
        "Truesmokers 1.09\n",
        "Trueby 1.06\n",
        "Truestore 1.05\n",
        "Truecigarettes 1.03\n",
        "TrueTHIS_IS_A_MENTION 0.99\n"
       ]
      }
     ],
     "prompt_number": 155
    }
   ],
   "metadata": {}
  }
 ]
}