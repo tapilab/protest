{
 "cells": [
  {
   "cell_type": "code",
   "execution_count": 129,
   "metadata": {
    "collapsed": true
   },
   "outputs": [
    {
     "name": "stdout",
     "output_type": "stream",
     "text": [
      "We have 2000 sampled tweets\n",
      "676 are positive\n",
      "275 are negative\n",
      "1049 are nothing\n"
     ]
    }
   ],
   "source": [
    "#seach for organic tweets and save them in one list\n",
    "from collections import Counter\n",
    "import csv\n",
    "tweets=[]\n",
    "positive_tweets = 0\n",
    "negative_tweets = 0\n",
    "other_tweets = 0\n",
    "\n",
    "with open( 'D:\\AllSamples.csv', \"rb\" ) as theFile:\n",
    "    reader = csv.DictReader( theFile )\n",
    "    for row in reader:\n",
    "        if row['sent']=='P':\n",
    "            positive_tweets += 1\n",
    "        elif row['sent']=='N':\n",
    "            negative_tweets += 1\n",
    "        else:\n",
    "            other_tweets += 1\n",
    "        \n",
    "        tweets.append(row) \n",
    "print 'We have', len(tweets), 'sampled tweets'\n",
    "print positive_tweets, 'are positive'\n",
    "print negative_tweets, 'are negative'\n",
    "print other_tweets, 'are nothing'"
   ]
  },
  {
   "cell_type": "code",
   "execution_count": 130,
   "metadata": {
    "collapsed": false
   },
   "outputs": [
    {
     "name": "stdout",
     "output_type": "stream",
     "text": [
      "label counts= Counter({'O': 1049, 'P': 676, 'N': 275})\n"
     ]
    }
   ],
   "source": [
    "# Create label vector (y) and print its stats.\n",
    "from collections import Counter\n",
    "import numpy as np\n",
    "y = np.array([t['sent'] for t in tweets])\n",
    "print 'label counts=', Counter(y)\n"
   ]
  },
  {
   "cell_type": "code",
   "execution_count": 131,
   "metadata": {
    "collapsed": false
   },
   "outputs": [
    {
     "name": "stdout",
     "output_type": "stream",
     "text": [
      "Populating the interactive namespace from numpy and matplotlib\n"
     ]
    },
    {
     "data": {
      "image/png": "[encoded data removed]",
      "text/plain": [
       "<matplotlib.figure.Figure at 0x32b0ec160>"
      ]
     },
     "metadata": {},
     "output_type": "display_data"
    }
   ],
   "source": [
    "%pylab inline\n",
    "# What is the distribution of scores?\n",
    "from collections import Counter\n",
    "import matplotlib.pyplot as plt\n",
    "\n",
    "counts = Counter(y).values()\n",
    "vals = [1,2,3]\n",
    "\n",
    "plt.bar(vals, counts)\n",
    "plt.xticks(vals)\n",
    "plt.xlabel('sentiment')\n",
    "plt.ylabel('count')\n",
    "plt.title('1:Positive, 2: Other, 3: Negative')\n",
    "plt.show()"
   ]
  },
  {
   "cell_type": "code",
   "execution_count": 132,
   "metadata": {
    "collapsed": false
   },
   "outputs": [],
   "source": [
    "import re\n",
    "\n",
    "def tokenize(string, lowercase, keep_punctuation, prefix,\n",
    "             collapse_urls, collapse_mentions):\n",
    "    if not string:\n",
    "        return []\n",
    "    if lowercase:\n",
    "        string = string.lower()\n",
    "    tokens = []\n",
    "    if collapse_urls:\n",
    "        string = re.sub('http\\S+', 'THIS_IS_A_URL', string)\n",
    "    if collapse_mentions:\n",
    "        string = re.sub('@\\S+', 'THIS_IS_A_MENTION', string)\n",
    "    if keep_punctuation:\n",
    "        tokens = string.split()\n",
    "    else:\n",
    "        tokens = re.sub('\\W+', ' ', string).split()\n",
    "    if prefix:\n",
    "        tokens = ['%s%s' % (prefix, t) for t in tokens]\n",
    "    return tokens\n",
    "\n",
    "def tweet2tokens(tweet, lowercase=True,keep_punctuation=True,collapse_urls=True, collapse_mentions=True):\n",
    "    tokens = tokenize(tweet['text'], lowercase, keep_punctuation, None,collapse_urls, collapse_mentions)\n",
    "    return tokens\n"
   ]
  },
  {
   "cell_type": "code",
   "execution_count": 133,
   "metadata": {
    "collapsed": false
   },
   "outputs": [],
   "source": [
    "# Let's tokenize all tweets.\n",
    "tokens_list = [tweet2tokens(t, lowercase=True,keep_punctuation=False,collapse_urls=True, collapse_mentions=True) for t in tweets]"
   ]
  },
  {
   "cell_type": "code",
   "execution_count": 134,
   "metadata": {
    "collapsed": false
   },
   "outputs": [
    {
     "data": {
      "text/plain": [
       "['THIS_IS_A_MENTION',\n",
       " 'anything',\n",
       " 'that',\n",
       " 'attracts',\n",
       " 'people',\n",
       " 'away',\n",
       " 'from',\n",
       " 'tobacco',\n",
       " 'cigarettes',\n",
       " 'is',\n",
       " 'a',\n",
       " 'good',\n",
       " 'thing',\n",
       " 'inc',\n",
       " 'ecig',\n",
       " 'flavours',\n",
       " 'euecigban']"
      ]
     },
     "execution_count": 134,
     "metadata": {},
     "output_type": "execute_result"
    }
   ],
   "source": [
    "tokens_list[1]"
   ]
  },
  {
   "cell_type": "code",
   "execution_count": 135,
   "metadata": {
    "collapsed": false
   },
   "outputs": [
    {
     "name": "stdout",
     "output_type": "stream",
     "text": [
      "['vaping', 'kush', 'gt', 'smoking', 'kush']\n"
     ]
    }
   ],
   "source": [
    "for t in range(len(tokens_list)):\n",
    "    print tokens_list[t]\n",
    "    break"
   ]
  },
  {
   "cell_type": "code",
   "execution_count": 136,
   "metadata": {
    "collapsed": false
   },
   "outputs": [
    {
     "name": "stdout",
     "output_type": "stream",
     "text": [
      "Vaping kush&gt;Smoking kush\n"
     ]
    }
   ],
   "source": [
    "for t in tweets:\n",
    "    print t['text']\n",
    "    break"
   ]
  },
  {
   "cell_type": "code",
   "execution_count": 170,
   "metadata": {
    "collapsed": false
   },
   "outputs": [
    {
     "data": {
      "text/plain": [
       "'Right each detail in report format'"
      ]
     },
     "execution_count": 170,
     "metadata": {},
     "output_type": "execute_result"
    }
   ],
   "source": [
    "'Way to use tokenized tokens or use default tokenization with my own modifications'\n",
    "'Right each detail in report format'\n",
    "'create a schedule to follow'\n",
    "'project CSP571 - social unrest, weather and mood -  maybe use this to publish other articles....'\n"
   ]
  },
  {
   "cell_type": "code",
   "execution_count": 167,
   "metadata": {
    "collapsed": false
   },
   "outputs": [
    {
     "name": "stdout",
     "output_type": "stream",
     "text": [
      "default - vectorized 2000 tweets. found 7370 terms.\n"
     ]
    }
   ],
   "source": [
    "#use after pre processing \n",
    "# Create feature vectors (X)\n",
    "from sklearn.feature_extraction.text import TfidfVectorizer\n",
    "vectorizer = TfidfVectorizer(decode_error='ignore')# CountVectorizer(decode_error='ignore',lowercase =False)\n",
    "X = vectorizer.fit_transform(t['text'] for t in tweets)\n",
    "print 'default - vectorized %d tweets. found %d terms.' % (X.shape[0], X.shape[1])"
   ]
  },
  {
   "cell_type": "code",
   "execution_count": 138,
   "metadata": {
    "collapsed": false
   },
   "outputs": [
    {
     "name": "stdout",
     "output_type": "stream",
     "text": [
      "no lower case vectorized 2000 tweets. found 8439 terms.\n"
     ]
    }
   ],
   "source": [
    "#use after pre processing \n",
    "# Create feature vectors (X)\n",
    "from sklearn.feature_extraction.text import TfidfVectorizer\n",
    "vectorizer = TfidfVectorizer(decode_error='ignore', lowercase=False)\n",
    "X = vectorizer.fit_transform(t['text'] for t in tweets)\n",
    "print 'no lower case vectorized %d tweets. found %d terms.' % (X.shape[0], X.shape[1])"
   ]
  },
  {
   "cell_type": "code",
   "execution_count": 139,
   "metadata": {
    "collapsed": false
   },
   "outputs": [
    {
     "name": "stdout",
     "output_type": "stream",
     "text": [
      "lower case, stop words - vectorized 2000 tweets. found 7140 terms.\n"
     ]
    }
   ],
   "source": [
    "#use after pre processing \n",
    "# Create feature vectors (X)\n",
    "from sklearn.feature_extraction.text import TfidfVectorizer\n",
    "vectorizer = TfidfVectorizer(decode_error='ignore', lowercase=True, stop_words='english')# CountVectorizer(decode_error='ignore',lowercase =False)\n",
    "X = vectorizer.fit_transform(t['text'] for t in tweets)\n",
    "print 'lower case, stop words - vectorized %d tweets. found %d terms.' % (X.shape[0], X.shape[1])"
   ]
  },
  {
   "cell_type": "code",
   "execution_count": 140,
   "metadata": {
    "collapsed": false
   },
   "outputs": [
    {
     "name": "stdout",
     "output_type": "stream",
     "text": [
      "[(u'yffvsl6y9a', 7034), (u'todays', 6276), (u'rrihhjzh', 5372), (u'taggwyhi', 6066), (u'nottingham', 4483), (u'hanging', 2872), (u'tweetiatrician', 6417), (u'boningmugger', 976), (u'3m', 160), (u'increase', 3170)]\n"
     ]
    }
   ],
   "source": [
    "print vectorizer.vocabulary_.items()[:10]"
   ]
  },
  {
   "cell_type": "code",
   "execution_count": 141,
   "metadata": {
    "collapsed": false
   },
   "outputs": [
    {
     "name": "stdout",
     "output_type": "stream",
     "text": [
      "top_indices= [3061 5378 1368 ..., 5074 2254 6492]\n",
      "top_terms:\n",
      "http 3061\n",
      "rt 5378\n",
      "cigarettes 1368\n",
      "cigarette 1364\n",
      "cig 1357\n",
      "electronic 2154\n",
      "ecig 2052\n",
      "smoke 5721\n",
      "smoking 5737\n",
      "vaping 6610\n"
     ]
    }
   ],
   "source": [
    "# What are the most frequent terms?\n",
    "# Sum columns:\n",
    "col_sums = X.sum(axis=0).tolist()[0]\n",
    "# Sort sums in descending order, and return the indices.\n",
    "top_indices = np.argsort(col_sums)[::-1]\n",
    "print 'top_indices=', top_indices\n",
    "vocab = np.array(vectorizer.get_feature_names())\n",
    "top_terms = vocab[top_indices]\n",
    "print 'top_terms:\\n', '\\n'.join('%s %d' % (term, count) for term, count in zip(top_terms, top_indices)[:10])"
   ]
  },
  {
   "cell_type": "code",
   "execution_count": 147,
   "metadata": {
    "collapsed": false
   },
   "outputs": [
    {
     "name": "stdout",
     "output_type": "stream",
     "text": [
      "accuracy on training data=0.805\n"
     ]
    }
   ],
   "source": [
    "# Compute accuracy\n",
    "def accuracy(truth, predicted):\n",
    "    return (1. * len([1 for tr, pr in zip(truth, predicted) if tr == pr]) / len(truth))\n",
    "\n",
    "predicted = model.predict(X)\n",
    "print 'accuracy on training data=%.3f' % accuracy(y, predicted)"
   ]
  },
  {
   "cell_type": "code",
   "execution_count": 148,
   "metadata": {
    "collapsed": false
   },
   "outputs": [
    {
     "data": {
      "text/plain": [
       "LogisticRegression(C=1.0, class_weight=None, dual=False, fit_intercept=True,\n",
       "          intercept_scaling=1, penalty='l2', random_state=None, tol=0.0001)"
      ]
     },
     "execution_count": 148,
     "metadata": {},
     "output_type": "execute_result"
    }
   ],
   "source": [
    "# Fit a LogisticRegression model\n",
    "from sklearn.linear_model import LogisticRegression\n",
    "model = LogisticRegression()\n",
    "model.fit(X, y)"
   ]
  },
  {
   "cell_type": "code",
   "execution_count": 151,
   "metadata": {
    "collapsed": false
   },
   "outputs": [
    {
     "name": "stdout",
     "output_type": "stream",
     "text": [
      "0.687\n"
     ]
    }
   ],
   "source": [
    "from sklearn.cross_validation import cross_val_score\n",
    "from sklearn.cross_validation import KFold\n",
    "from sklearn.linear_model import LogisticRegression\n",
    "\n",
    "def do_cv(X, y, nfolds=10):\n",
    "    cv = KFold(len(y), nfolds)\n",
    "    return np.mean(cross_val_score(LogisticRegression(), X, y, cv=cv))\n",
    "  \n",
    "print do_cv(X, y)"
   ]
  },
  {
   "cell_type": "code",
   "execution_count": 152,
   "metadata": {
    "collapsed": false
   },
   "outputs": [
    {
     "name": "stdout",
     "output_type": "stream",
     "text": [
      "Fitting in the labeled data:\n",
      "Average 5-fold cross validation accuracy=0.68 (std=0.03)\n"
     ]
    }
   ],
   "source": [
    "# 5 Cross-validation accuracy\n",
    "from sklearn.cross_validation import KFold\n",
    "\n",
    "cv = KFold(len(y), 5)\n",
    "accuracies = []\n",
    "print 'Fitting in the labeled data:'\n",
    "#print 'Train set:',X[train_ind].shape[0], '\\f Test set:', X[test_ind].shape[0]\n",
    "for train_ind, test_ind in cv:\n",
    "    model.fit(X[train_ind], y[train_ind])\n",
    "    \n",
    "    predictions = model.predict(X[test_ind])\n",
    "    accuracies.append(accuracy(y[test_ind], predictions))\n",
    "    \n",
    "print 'Average 5-fold cross validation accuracy=%.2f (std=%.2f)' % (np.mean(accuracies), np.std(accuracies))"
   ]
  },
  {
   "cell_type": "code",
   "execution_count": 156,
   "metadata": {
    "collapsed": false
   },
   "outputs": [
    {
     "name": "stdout",
     "output_type": "stream",
     "text": [
      "X dimensions= (2000, 7140)\n"
     ]
    }
   ],
   "source": [
    "# This time, we'll use sklearn's built in tokenization.\n",
    "from sklearn.feature_extraction.text import TfidfVectorizer\n",
    "def tokenize(tweets, vectorizer):\n",
    "    X = vectorizer.fit_transform(t['text'] for t in tweets)\n",
    "    print 'X dimensions=', X.shape\n",
    "    return X\n",
    "\n",
    "X = tokenize(tweets, TfidfVectorizer(decode_error='ignore', lowercase=True, stop_words='english'))"
   ]
  },
  {
   "cell_type": "code",
   "execution_count": 159,
   "metadata": {
    "collapsed": false
   },
   "outputs": [
    {
     "name": "stdout",
     "output_type": "stream",
     "text": [
      "(1, 1)\n",
      "X dimensions= (2000, 1877)\n",
      "(1, 2)\n",
      "X dimensions= (2000, 3098)\n",
      "(2, 2)\n",
      "X dimensions= (2000, 1221)\n",
      "(1, 3)\n",
      "X dimensions= (2000, 3797)\n",
      "(2, 3)\n",
      "X dimensions= (2000, 1920)\n",
      "(3, 3)\n",
      "X dimensions= (2000, 699)\n"
     ]
    },
    {
     "data": {
      "image/png": "[encoded data removed]",
      "text/plain": [
       "<matplotlib.figure.Figure at 0x32b864358>"
      ]
     },
     "metadata": {},
     "output_type": "display_data"
    }
   ],
   "source": [
    "# How does using ngrams help?\n",
    "import matplotlib.pyplot as plt\n",
    "\n",
    "def compare_ngrams(tweets, y):\n",
    "    accuracies = []\n",
    "    ngrams = [(1,1), (1,2), (2,2), (1,3), (2, 3), (3,3)]\n",
    "    for ngram in ngrams:\n",
    "        print ngram\n",
    "        accuracies.append(do_cv(tokenize(tweets, TfidfVectorizer(decode_error='ignore', lowercase=True, stop_words='english',min_df=2, ngram_range=ngram)), y))\n",
    "    plt.figure()\n",
    "    plt.plot(accuracies, 'bo-')\n",
    "    plt.xticks(range(len(ngrams)), ngrams)\n",
    "    plt.xlabel('ngrams')\n",
    "    plt.ylabel('accuracy')\n",
    "    plt.show()\n",
    "        \n",
    "compare_ngrams(tweets, y)"
   ]
  },
  {
   "cell_type": "code",
   "execution_count": 106,
   "metadata": {
    "collapsed": false
   },
   "outputs": [
    {
     "name": "stdout",
     "output_type": "stream",
     "text": [
      "top weighted terms for positive class:\n",
      "vaping 3.07\n",
      "ecig 2.69\n",
      "cig 2.41\n",
      "vape 2.06\n",
      "need 1.50\n",
      "got 1.48\n",
      "green 1.40\n",
      "good 1.39\n",
      "want 1.18\n",
      "electric 1.18\n"
     ]
    }
   ],
   "source": [
    "# What are the top weighted features?\n",
    "\n",
    "# Get the learned coefficients for the Positive class.\n",
    "coef = model.coef_[2]\n",
    "# Sort them in descending order.\n",
    "top_coef_ind = np.argsort(coef)[::-1]\n",
    "# Get the names of those features.\n",
    "top_coef_terms = vocab[top_coef_ind]\n",
    "# Get the weights of those features\n",
    "top_coef = coef[top_coef_ind]\n",
    "# Print the top 10.\n",
    "print 'top weighted terms for positive class:\\n', \\\n",
    "    '\\n'.join('%s %.2f' % (term, weight) for term, weight in zip(top_coef_terms, top_coef)[:10])"
   ]
  },
  {
   "cell_type": "code",
   "execution_count": 143,
   "metadata": {
    "collapsed": false
   },
   "outputs": [
    {
     "name": "stdout",
     "output_type": "stream",
     "text": [
      "top weighted terms for negative class:\n",
      "stupid 1.57\n",
      "sorry 1.28\n",
      "smokes 1.27\n",
      "he 1.22\n",
      "pussy 1.22\n",
      "shit 1.15\n",
      "class 1.14\n",
      "faggot 1.14\n",
      "one 1.13\n",
      "look 1.11\n"
     ]
    }
   ],
   "source": [
    "# Get the learned coefficients for the Negative class.\n",
    "coef = model.coef_[0]\n",
    "# Sort them in descending order.\n",
    "top_coef_ind = np.argsort(coef)[::-1]\n",
    "# Get the names of those features.\n",
    "top_coef_terms = vocab[top_coef_ind]\n",
    "# Get the weights of those features\n",
    "top_coef = coef[top_coef_ind]\n",
    "# Print the top 10.\n",
    "print 'top weighted terms for negative class:\\n', \\\n",
    "    '\\n'.join('%s %.2f' % (term, weight) for term, weight in zip(top_coef_terms, top_coef)[:10])"
   ]
  },
  {
   "cell_type": "code",
   "execution_count": 111,
   "metadata": {
    "collapsed": false
   },
   "outputs": [
    {
     "name": "stdout",
     "output_type": "stream",
     "text": [
      "top weighted terms for negative class:\n",
      "http 6.25\n",
      "cigarettes 1.28\n",
      "retail 1.28\n",
      "vaper_trail_ 1.18\n",
      "smokers 1.06\n",
      "la 1.01\n",
      "10 1.00\n",
      "dallas 1.00\n",
      "ni 0.99\n",
      "stores 0.96\n"
     ]
    }
   ],
   "source": [
    "# Get the learned coefficients for the OTHER class.\n",
    "coef = model.coef_[1]\n",
    "# Sort them in descending order.\n",
    "top_coef_ind = np.argsort(coef)[::-1]\n",
    "# Get the names of those features.\n",
    "top_coef_terms = vocab[top_coef_ind]\n",
    "# Get the weights of those features\n",
    "top_coef = coef[top_coef_ind]\n",
    "# Print the top 10.\n",
    "print 'top weighted terms for negative class:\\n', \\\n",
    "    '\\n'.join('%s %.2f' % (term, weight) for term, weight in zip(top_coef_terms, top_coef)[:10])"
   ]
  },
  {
   "cell_type": "code",
   "execution_count": 165,
   "metadata": {
    "collapsed": false
   },
   "outputs": [
    {
     "data": {
      "text/plain": [
       "\"Idea: Sample tweets that don't have the label \""
      ]
     },
     "execution_count": 165,
     "metadata": {},
     "output_type": "execute_result"
    }
   ],
   "source": [
    "'Idea: Sample tweets that don\\'t have the label ' "
   ]
  },
  {
   "cell_type": "code",
   "execution_count": 97,
   "metadata": {
    "collapsed": false
   },
   "outputs": [],
   "source": [
    "#sampling tweets for testing\n",
    "import csv\n",
    "import random\n",
    "tweets_test=[]\n",
    "with open( 'D:/ecig.csv', \"rb\" ) as theFile:\n",
    "    reader = csv.DictReader( theFile )\n",
    "    #chances_selected = desired_num_results / total_entries\n",
    "    chances_selected = 2000\n",
    "\n",
    "    for row in reader:\n",
    "        if random.random() < 0.3:\n",
    "            tweets_test.append(row) "
   ]
  },
  {
   "cell_type": "code",
   "execution_count": 98,
   "metadata": {
    "collapsed": false
   },
   "outputs": [
    {
     "name": "stdout",
     "output_type": "stream",
     "text": [
      "1393742 tweets were sampled for testing\n",
      "None\n"
     ]
    }
   ],
   "source": [
    "print len(tweets_test) ,'tweets were sampled for testing'\n",
    "print tweets_test[1]['sent']"
   ]
  },
  {
   "cell_type": "code",
   "execution_count": 99,
   "metadata": {
    "collapsed": false
   },
   "outputs": [],
   "source": [
    "#saving sampled test tweets\n",
    "import csv\n",
    "with open( 'D:/training.csv','wb') as train:\n",
    "    writer = csv.DictWriter(train, fieldnames=['country_code', 'flag', 'followers_count', 'friends_count', 'hashtag', 'id', 'is_retweet',\n",
    " 'klout_score', 'link', 'location_coord_type', 'location_coords', 'location_displayname', 'location_type', 'media_display_url', 'media_type',\n",
    " 'media_url', 'posted_time', 'real_name', 'rule_match', 'source', 'statuses_count', 'text', 'title', 'tweet_url', 'user_bio_summary',\n",
    " 'user_location', 'user_mention', 'user_mention_username', 'user_twitter_page', 'username', 'shorttime', 'week', 'hand_label', 'svm', 'mdy',\n",
    " '_merge','sent'])\n",
    "    writer.writeheader()\n",
    "    for row in tweets_test:\n",
    "        writer.writerow(row)   \n",
    "train.close()  "
   ]
  },
  {
   "cell_type": "code",
   "execution_count": 100,
   "metadata": {
    "collapsed": false
   },
   "outputs": [],
   "source": [
    "#reading tweets from disk - test tweets\n",
    "import csv\n",
    "import random\n",
    "tweets_train=[]\n",
    "with open( 'D:/training.csv', \"rb\" ) as theFile:\n",
    "    reader = csv.DictReader( theFile )\n",
    "    for row in reader:\n",
    "        tweets_train.append(row) "
   ]
  },
  {
   "cell_type": "code",
   "execution_count": 105,
   "metadata": {
    "collapsed": false
   },
   "outputs": [
    {
     "name": "stdout",
     "output_type": "stream",
     "text": [
      "{'week': '', 'user_twitter_page': 'http://www.twitter.com/pizzzatimes', 'media_display_url': '', 'text': 'nickdrake: C3P0 Enjoys a cigarette break during filming. http://t.co/AVCtEml4', 'mdy': '19267', 'country_code': '', 'tweet_url': '', 'id': 'tag:search.twitter.com,2005:252558775297376257', '_merge': '3', 'title': 'nickdrake: C3P0 Enjoys a cigarette break during filming. http://t.co/AVCtEml4', 'hand_label': 'N/A', 'user_location': 'Lawnguy Land', 'source': 'Tumblr', 'followers_count': '22', 'klout_score': '22', 'user_mention_username': '', 'location_coords': '', 'user_mention': '', 'shorttime': '', 'media_type': '', 'sent': '', 'is_retweet': '.', 'username': 'pizzzatimes', 'location_displayname': '', 'statuses_count': '8825', 'friends_count': '9', 'flag': '', 'svm': '-', 'link': 'http://twitter.com/pizzzatimes/statuses/252558775297376257', 'location_coord_type': '', 'hashtag': '', 'location_type': '', 'user_bio_summary': 'http://pizzzatime.tumblr.com', 'real_name': 'Steven Barry', 'rule_match': 'cigarette', 'posted_time': '10/1/2012 00:01:19', 'media_url': ''}\n"
     ]
    }
   ],
   "source": [
    "print tweets_train[1]\n"
   ]
  },
  {
   "cell_type": "code",
   "execution_count": 107,
   "metadata": {
    "collapsed": false
   },
   "outputs": [
    {
     "name": "stdout",
     "output_type": "stream",
     "text": [
      "lower case, stop words - vectorized 1393742 tweets. found 415958 terms.\n"
     ]
    }
   ],
   "source": [
    "#use after pre processing \n",
    "# Create feature vectors (X)\n",
    "from sklearn.feature_extraction.text import TfidfVectorizer\n",
    "vectorizer = TfidfVectorizer(decode_error='ignore', lowercase=True, stop_words='english')# CountVectorizer(decode_error='ignore',lowercase =False)\n",
    "XX = vectorizer.fit_transform(t['text'] for t in tweets_train)\n",
    "print 'lower case, stop words - vectorized %d tweets. found %d terms.' % (XX.shape[0], XX.shape[1])"
   ]
  },
  {
   "cell_type": "code",
   "execution_count": 171,
   "metadata": {
    "collapsed": false
   },
   "outputs": [
    {
     "ename": "SyntaxError",
     "evalue": "invalid syntax (<ipython-input-171-3024f2a358c5>, line 1)",
     "output_type": "error",
     "traceback": [
      "\u001b[1;36m  File \u001b[1;32m\"<ipython-input-171-3024f2a358c5>\"\u001b[1;36m, line \u001b[1;32m1\u001b[0m\n\u001b[1;33m    just predict\u001b[0m\n\u001b[1;37m               ^\u001b[0m\n\u001b[1;31mSyntaxError\u001b[0m\u001b[1;31m:\u001b[0m invalid syntax\n"
     ]
    }
   ],
   "source": [
    "just predict\n",
    "plot tweets per day classified as positive and negative"
   ]
  },
  {
   "cell_type": "code",
   "execution_count": null,
   "metadata": {
    "collapsed": false
   },
   "outputs": [],
   "source": []
  }
 ],
 "metadata": {
  "kernelspec": {
   "display_name": "Python 2",
   "language": "python",
   "name": "python2"
  },
  "language_info": {
   "codemirror_mode": {
    "name": "ipython",
    "version": 2
   },
   "file_extension": ".py",
   "mimetype": "text/x-python",
   "name": "python",
   "nbconvert_exporter": "python",
   "pygments_lexer": "ipython2",
   "version": "2.7.9"
  }
 },
 "nbformat": 4,
 "nbformat_minor": 0
}
