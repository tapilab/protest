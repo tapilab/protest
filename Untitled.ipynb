{
 "cells": [
  {
   "cell_type": "code",
   "execution_count": 2,
   "metadata": {
    "collapsed": false
   },
   "outputs": [],
   "source": [
    "import csv\n",
    "tweets = []\n",
    "pos = 0\n",
    "neg = 0\n",
    "\n",
    "with open( 'D:\\\\Research\\\\testingTweets_Classes.csv', \"rb\" ) as theFile:\n",
    "    reader = csv.DictReader( theFile )\n",
    "    for row in reader:\n",
    "            tweets.append(row)"
   ]
  },
  {
   "cell_type": "code",
   "execution_count": 3,
   "metadata": {
    "collapsed": false
   },
   "outputs": [
    {
     "name": "stdout",
     "output_type": "stream",
     "text": [
      "males:\n",
      "JAMES          3.318  3.318      1\n",
      "JOHN           3.271  6.589      2\n",
      "ROBERT         3.143  9.732      3\n",
      "MICHAEL        2.629 12.361      4\n",
      "WILLIAM        2.451 14.812      5\n",
      "DAVID          2.363 17.176      6\n",
      "RICHARD        1.703 18.878      7\n",
      "CHARLES        1.523 20.401      8\n",
      "JOSEPH         1.404 21.805      9\n",
      "THOMAS         1.380 23.185     10 \n",
      "233 male names\n",
      "\n",
      "females:\n",
      "MARY           2.629  2.629      1\n",
      "PATRICIA       1.073  3.702      2\n",
      "LINDA          1.035  4.736      3\n",
      "BARBARA        0.980  5.716      4\n",
      "ELIZABETH      0.937  6.653      5\n",
      "JENNIFER       0.932  7.586      6\n",
      "MARIA          0.828  8.414      7\n",
      "SUSAN          0.794  9.209      8\n",
      "MARGARET       0.768  9.976      9\n",
      "DOROTHY        0.727 10.703     10 \n",
      "525 female names\n"
     ]
    }
   ],
   "source": [
    "# Fetch census name data from:\n",
    "# http://www.census.gov/genealogy/www/data/1990surnames/index.html\n",
    "\n",
    "import requests\n",
    "males_url = 'http://www2.census.gov/topics/genealogy/1990surnames/dist.male.first'\n",
    "females_url = 'http://www2.census.gov/topics/genealogy/1990surnames/dist.female.first'\n",
    "males = (requests.get(males_url).text.split('\\n'))[:233]\n",
    "females = (requests.get(females_url).text.split('\\n'))[:525]\n",
    "print 'males:\\n', '\\n'.join(males[:10]), '\\n',len(males), 'male names'\n",
    "print '\\nfemales:\\n', '\\n'.join(females[:10]),'\\n', len(females), 'female names'"
   ]
  },
  {
   "cell_type": "code",
   "execution_count": 4,
   "metadata": {
    "collapsed": false
   },
   "outputs": [
    {
     "name": "stdout",
     "output_type": "stream",
     "text": [
      "males:\n",
      "tim\n",
      "thomas\n",
      "alvin\n",
      "jason\n",
      "ron\n",
      "lewis\n",
      "charles\n",
      "lester\n",
      "steve\n",
      "roy\n",
      "\n",
      "females:\n",
      "cynthia\n",
      "sonja\n",
      "hilda\n",
      "laura\n",
      "marion\n",
      "colleen\n",
      "kate\n",
      "emily\n",
      "jessie\n",
      "rhonda\n"
     ]
    }
   ],
   "source": [
    "# Get names. \n",
    "male_names = set([m.split()[0].lower() for m in males if m])\n",
    "female_names = set([f.split()[0].lower() for f in females if f])\n",
    "\n",
    "print 'males:\\n', '\\n'.join(list(male_names)[:10])\n",
    "print '\\nfemales:\\n', '\\n'.join(list(female_names)[:10])"
   ]
  },
  {
   "cell_type": "code",
   "execution_count": 5,
   "metadata": {
    "collapsed": false
   },
   "outputs": [
    {
     "ename": "KeyError",
     "evalue": "'user'",
     "output_type": "error",
     "traceback": [
      "\u001b[1;31m---------------------------------------------------------------------------\u001b[0m",
      "\u001b[1;31mKeyError\u001b[0m                                  Traceback (most recent call last)",
      "\u001b[1;32m<ipython-input-5-b15f243a9cab>\u001b[0m in \u001b[0;36m<module>\u001b[1;34m()\u001b[0m\n\u001b[0;32m     11\u001b[0m                 \u001b[0mt\u001b[0m\u001b[1;33m[\u001b[0m\u001b[1;34m'gender'\u001b[0m\u001b[1;33m]\u001b[0m \u001b[1;33m=\u001b[0m \u001b[1;34m'unknown'\u001b[0m\u001b[1;33m\u001b[0m\u001b[0m\n\u001b[0;32m     12\u001b[0m \u001b[1;33m\u001b[0m\u001b[0m\n\u001b[1;32m---> 13\u001b[1;33m \u001b[0mgender_by_name\u001b[0m\u001b[1;33m(\u001b[0m\u001b[0mtweets\u001b[0m\u001b[1;33m,\u001b[0m \u001b[0mmale_names\u001b[0m\u001b[1;33m,\u001b[0m \u001b[0mfemale_names\u001b[0m\u001b[1;33m)\u001b[0m\u001b[1;33m\u001b[0m\u001b[0m\n\u001b[0m",
      "\u001b[1;32m<ipython-input-5-b15f243a9cab>\u001b[0m in \u001b[0;36mgender_by_name\u001b[1;34m(tweets, male_names, female_names)\u001b[0m\n\u001b[0;32m      1\u001b[0m \u001b[1;32mdef\u001b[0m \u001b[0mgender_by_name\u001b[0m\u001b[1;33m(\u001b[0m\u001b[0mtweets\u001b[0m\u001b[1;33m,\u001b[0m \u001b[0mmale_names\u001b[0m\u001b[1;33m,\u001b[0m \u001b[0mfemale_names\u001b[0m\u001b[1;33m)\u001b[0m\u001b[1;33m:\u001b[0m\u001b[1;33m\u001b[0m\u001b[0m\n\u001b[0;32m      2\u001b[0m     \u001b[1;32mfor\u001b[0m \u001b[0mt\u001b[0m \u001b[1;32min\u001b[0m \u001b[0mtweets\u001b[0m\u001b[1;33m:\u001b[0m\u001b[1;33m\u001b[0m\u001b[0m\n\u001b[1;32m----> 3\u001b[1;33m         \u001b[0mname\u001b[0m \u001b[1;33m=\u001b[0m \u001b[0mt\u001b[0m\u001b[1;33m[\u001b[0m\u001b[1;34m'user'\u001b[0m\u001b[1;33m]\u001b[0m\u001b[1;33m[\u001b[0m\u001b[1;34m'name'\u001b[0m\u001b[1;33m]\u001b[0m\u001b[1;33m\u001b[0m\u001b[0m\n\u001b[0m\u001b[0;32m      4\u001b[0m         \u001b[1;32mif\u001b[0m \u001b[0mname\u001b[0m\u001b[1;33m:\u001b[0m\u001b[1;33m\u001b[0m\u001b[0m\n\u001b[0;32m      5\u001b[0m             \u001b[0mfirst\u001b[0m \u001b[1;33m=\u001b[0m \u001b[0mname\u001b[0m\u001b[1;33m.\u001b[0m\u001b[0msplit\u001b[0m\u001b[1;33m(\u001b[0m\u001b[1;33m)\u001b[0m\u001b[1;33m[\u001b[0m\u001b[1;36m0\u001b[0m\u001b[1;33m]\u001b[0m\u001b[1;33m.\u001b[0m\u001b[0mlower\u001b[0m\u001b[1;33m(\u001b[0m\u001b[1;33m)\u001b[0m\u001b[1;33m\u001b[0m\u001b[0m\n",
      "\u001b[1;31mKeyError\u001b[0m: 'user'"
     ]
    }
   ],
   "source": [
    "def gender_by_name(tweets, male_names, female_names):\n",
    "    for t in tweets:\n",
    "        name = t['us]\n",
    "        if name:\n",
    "            first = name.split()[0].lower()\n",
    "            if first in male_names:\n",
    "                t['gender'] = 'male'\n",
    "            elif first in female_names:\n",
    "                t['gender'] = 'female'\n",
    "            else:\n",
    "                t['gender'] = 'unknown'\n",
    "\n",
    "gender_by_name(tweets, male_names, female_names)"
   ]
  },
  {
   "cell_type": "code",
   "execution_count": null,
   "metadata": {
    "collapsed": true
   },
   "outputs": [],
   "source": []
  }
 ],
 "metadata": {
  "kernelspec": {
   "display_name": "Python 2",
   "language": "python",
   "name": "python2"
  },
  "language_info": {
   "codemirror_mode": {
    "name": "ipython",
    "version": 2
   },
   "file_extension": ".py",
   "mimetype": "text/x-python",
   "name": "python",
   "nbconvert_exporter": "python",
   "pygments_lexer": "ipython2",
   "version": "2.7.9"
  }
 },
 "nbformat": 4,
 "nbformat_minor": 0
}
