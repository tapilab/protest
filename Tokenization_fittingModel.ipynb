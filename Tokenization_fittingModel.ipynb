{
 "metadata": {
  "name": "",
  "signature": "sha256:4340268e594c3ac3b2a15f1576200a8963006b4c84c4b149bd1b109f080e848a"
 },
 "nbformat": 3,
 "nbformat_minor": 0,
 "worksheets": [
  {
   "cells": [
    {
     "cell_type": "code",
     "collapsed": false,
     "input": [
      "#seach for organic tweets and save them in one list\n",
      "from collections import Counter\n",
      "import csv\n",
      "tweets=[]\n",
      "positive_tweets = 0\n",
      "negative_tweets = 0\n",
      "other_tweets = 0\n",
      "\n",
      "with open( 'D:\\AllSamples.csv', \"rb\" ) as theFile:\n",
      "    reader = csv.DictReader( theFile )\n",
      "    for row in reader:\n",
      "        if row['sent']=='P':\n",
      "            positive_tweets += 1\n",
      "        elif row['sent']=='N':\n",
      "            negative_tweets += 1\n",
      "        else:\n",
      "            other_tweets += 1\n",
      "        \n",
      "        tweets.append(row) \n",
      "print 'We have', len(tweets), 'sampled tweets'\n",
      "print positive_tweets, 'are positive'\n",
      "print negative_tweets, 'are negative'\n",
      "print other_tweets, 'are nothing'"
     ],
     "language": "python",
     "metadata": {},
     "outputs": [
      {
       "output_type": "stream",
       "stream": "stdout",
       "text": [
        "We have 2000 sampled tweets\n",
        "676 are positive\n",
        "275 are negative\n",
        "1049 are nothing\n"
       ]
      }
     ],
     "prompt_number": 129
    },
    {
     "cell_type": "code",
     "collapsed": false,
     "input": [
      "# Create label vector (y) and print its stats.\n",
      "from collections import Counter\n",
      "import numpy as np\n",
      "y = np.array([t['sent'] for t in tweets])\n",
      "print 'label counts=', Counter(y)\n"
     ],
     "language": "python",
     "metadata": {},
     "outputs": [
      {
       "output_type": "stream",
       "stream": "stdout",
       "text": [
        "label counts= Counter({'O': 1049, 'P': 676, 'N': 275})\n"
       ]
      }
     ],
     "prompt_number": 130
    },
    {
     "cell_type": "code",
     "collapsed": false,
     "input": [
      "%pylab inline\n",
      "# What is the distribution of scores?\n",
      "from collections import Counter\n",
      "import matplotlib.pyplot as plt\n",
      "\n",
      "counts = Counter(y).values()\n",
      "vals = [1,2,3]\n",
      "\n",
      "plt.bar(vals, counts)\n",
      "plt.xticks(vals)\n",
      "plt.xlabel('sentiment')\n",
      "plt.ylabel('count')\n",
      "plt.title('1:Positive, 2: Other, 3: Negative')\n",
      "plt.show()"
     ],
     "language": "python",
     "metadata": {},
     "outputs": [
      {
       "output_type": "stream",
       "stream": "stdout",
       "text": [
        "Populating the interactive namespace from numpy and matplotlib\n"
       ]
      },
      {
       "metadata": {},
       "output_type": "display_data",
       "png": "[encoded data removed]",
       "text": [
        "<matplotlib.figure.Figure at 0x32b0ec160>"
       ]
      }
     ],
     "prompt_number": 131
    },
    {
     "cell_type": "code",
     "collapsed": false,
     "input": [
      "import re\n",
      "\n",
      "def tokenize(string, lowercase, keep_punctuation, prefix,\n",
      "             collapse_urls, collapse_mentions):\n",
      "    if not string:\n",
      "        return []\n",
      "    if lowercase:\n",
      "        string = string.lower()\n",
      "    tokens = []\n",
      "    if collapse_urls:\n",
      "        string = re.sub('http\\S+', 'THIS_IS_A_URL', string)\n",
      "    if collapse_mentions:\n",
      "        string = re.sub('@\\S+', 'THIS_IS_A_MENTION', string)\n",
      "    if keep_punctuation:\n",
      "        tokens = string.split()\n",
      "    else:\n",
      "        tokens = re.sub('\\W+', ' ', string).split()\n",
      "    if prefix:\n",
      "        tokens = ['%s%s' % (prefix, t) for t in tokens]\n",
      "    return tokens\n",
      "\n",
      "def tweet2tokens(tweet, lowercase=True,keep_punctuation=True,collapse_urls=True, collapse_mentions=True):\n",
      "    tokens = tokenize(tweet['text'], lowercase, keep_punctuation, None,collapse_urls, collapse_mentions)\n",
      "    return tokens\n"
     ],
     "language": "python",
     "metadata": {},
     "outputs": [],
     "prompt_number": 132
    },
    {
     "cell_type": "code",
     "collapsed": false,
     "input": [
      "# Let's tokenize all tweets.\n",
      "tokens_list = [tweet2tokens(t, lowercase=True,keep_punctuation=False,collapse_urls=True, collapse_mentions=True) for t in tweets]"
     ],
     "language": "python",
     "metadata": {},
     "outputs": [],
     "prompt_number": 133
    },
    {
     "cell_type": "code",
     "collapsed": false,
     "input": [
      "tokens_list[1]"
     ],
     "language": "python",
     "metadata": {},
     "outputs": [
      {
       "metadata": {},
       "output_type": "pyout",
       "prompt_number": 134,
       "text": [
        "['THIS_IS_A_MENTION',\n",
        " 'anything',\n",
        " 'that',\n",
        " 'attracts',\n",
        " 'people',\n",
        " 'away',\n",
        " 'from',\n",
        " 'tobacco',\n",
        " 'cigarettes',\n",
        " 'is',\n",
        " 'a',\n",
        " 'good',\n",
        " 'thing',\n",
        " 'inc',\n",
        " 'ecig',\n",
        " 'flavours',\n",
        " 'euecigban']"
       ]
      }
     ],
     "prompt_number": 134
    },
    {
     "cell_type": "code",
     "collapsed": false,
     "input": [
      "for t in range(len(tokens_list)):\n",
      "    print tokens_list[t]\n",
      "    break"
     ],
     "language": "python",
     "metadata": {},
     "outputs": [
      {
       "output_type": "stream",
       "stream": "stdout",
       "text": [
        "['vaping', 'kush', 'gt', 'smoking', 'kush']\n"
       ]
      }
     ],
     "prompt_number": 135
    },
    {
     "cell_type": "code",
     "collapsed": false,
     "input": [
      "for t in tweets:\n",
      "    print t['text']\n",
      "    break"
     ],
     "language": "python",
     "metadata": {},
     "outputs": [
      {
       "output_type": "stream",
       "stream": "stdout",
       "text": [
        "Vaping kush&gt;Smoking kush\n"
       ]
      }
     ],
     "prompt_number": 136
    },
    {
     "cell_type": "code",
     "collapsed": false,
     "input": [
      "'Way to use tokenized tokens or use default tokenization with my own modifications'\n",
      "'Right each detail in report format'\n",
      "'create a schedule to follow'\n",
      "'project CSP571 - social unrest, weather and mood -  maybe use this to publish other articles....'\n"
     ],
     "language": "python",
     "metadata": {},
     "outputs": [
      {
       "metadata": {},
       "output_type": "pyout",
       "prompt_number": 170,
       "text": [
        "'Right each detail in report format'"
       ]
      }
     ],
     "prompt_number": 170
    },
    {
     "cell_type": "code",
     "collapsed": false,
     "input": [
      "#use after pre processing \n",
      "# Create feature vectors (X)\n",
      "from sklearn.feature_extraction.text import TfidfVectorizer\n",
      "vectorizer = TfidfVectorizer(decode_error='ignore')# CountVectorizer(decode_error='ignore',lowercase =False)\n",
      "X = vectorizer.fit_transform(t['text'] for t in tweets)\n",
      "print 'default - vectorized %d tweets. found %d terms.' % (X.shape[0], X.shape[1])"
     ],
     "language": "python",
     "metadata": {},
     "outputs": [
      {
       "output_type": "stream",
       "stream": "stdout",
       "text": [
        "default - vectorized 2000 tweets. found 7370 terms.\n"
       ]
      }
     ],
     "prompt_number": 167
    },
    {
     "cell_type": "code",
     "collapsed": false,
     "input": [
      "#use after pre processing \n",
      "# Create feature vectors (X)\n",
      "from sklearn.feature_extraction.text import TfidfVectorizer\n",
      "vectorizer = TfidfVectorizer(decode_error='ignore', lowercase=False)\n",
      "X = vectorizer.fit_transform(t['text'] for t in tweets)\n",
      "print 'no lower case vectorized %d tweets. found %d terms.' % (X.shape[0], X.shape[1])"
     ],
     "language": "python",
     "metadata": {},
     "outputs": [
      {
       "output_type": "stream",
       "stream": "stdout",
       "text": [
        "no lower case vectorized 2000 tweets. found 8439 terms.\n"
       ]
      }
     ],
     "prompt_number": 138
    },
    {
     "cell_type": "code",
     "collapsed": false,
     "input": [
      "#use after pre processing \n",
      "# Create feature vectors (X)\n",
      "from sklearn.feature_extraction.text import TfidfVectorizer\n",
      "vectorizer = TfidfVectorizer(decode_error='ignore', lowercase=True, stop_words='english')# CountVectorizer(decode_error='ignore',lowercase =False)\n",
      "X = vectorizer.fit_transform(t['text'] for t in tweets)\n",
      "print 'lower case, stop words - vectorized %d tweets. found %d terms.' % (X.shape[0], X.shape[1])"
     ],
     "language": "python",
     "metadata": {},
     "outputs": [
      {
       "output_type": "stream",
       "stream": "stdout",
       "text": [
        "lower case, stop words - vectorized 2000 tweets. found 7140 terms.\n"
       ]
      }
     ],
     "prompt_number": 139
    },
    {
     "cell_type": "code",
     "collapsed": false,
     "input": [
      "print vectorizer.vocabulary_.items()[:10]"
     ],
     "language": "python",
     "metadata": {},
     "outputs": [
      {
       "output_type": "stream",
       "stream": "stdout",
       "text": [
        "[(u'yffvsl6y9a', 7034), (u'todays', 6276), (u'rrihhjzh', 5372), (u'taggwyhi', 6066), (u'nottingham', 4483), (u'hanging', 2872), (u'tweetiatrician', 6417), (u'boningmugger', 976), (u'3m', 160), (u'increase', 3170)]\n"
       ]
      }
     ],
     "prompt_number": 140
    },
    {
     "cell_type": "code",
     "collapsed": false,
     "input": [
      "# What are the most frequent terms?\n",
      "# Sum columns:\n",
      "col_sums = X.sum(axis=0).tolist()[0]\n",
      "# Sort sums in descending order, and return the indices.\n",
      "top_indices = np.argsort(col_sums)[::-1]\n",
      "print 'top_indices=', top_indices\n",
      "vocab = np.array(vectorizer.get_feature_names())\n",
      "top_terms = vocab[top_indices]\n",
      "print 'top_terms:\\n', '\\n'.join('%s %d' % (term, count) for term, count in zip(top_terms, top_indices)[:10])"
     ],
     "language": "python",
     "metadata": {},
     "outputs": [
      {
       "output_type": "stream",
       "stream": "stdout",
       "text": [
        "top_indices= [3061 5378 1368 ..., 5074 2254 6492]\n",
        "top_terms:\n",
        "http 3061\n",
        "rt 5378\n",
        "cigarettes 1368\n",
        "cigarette 1364\n",
        "cig 1357\n",
        "electronic 2154\n",
        "ecig 2052\n",
        "smoke 5721\n",
        "smoking 5737\n",
        "vaping 6610\n"
       ]
      }
     ],
     "prompt_number": 141
    },
    {
     "cell_type": "code",
     "collapsed": false,
     "input": [
      "# Compute accuracy\n",
      "def accuracy(truth, predicted):\n",
      "    return (1. * len([1 for tr, pr in zip(truth, predicted) if tr == pr]) / len(truth))\n",
      "\n",
      "predicted = model.predict(X)\n",
      "print 'accuracy on training data=%.3f' % accuracy(y, predicted)"
     ],
     "language": "python",
     "metadata": {},
     "outputs": [
      {
       "output_type": "stream",
       "stream": "stdout",
       "text": [
        "accuracy on training data=0.805\n"
       ]
      }
     ],
     "prompt_number": 147
    },
    {
     "cell_type": "code",
     "collapsed": false,
     "input": [
      "# Fit a LogisticRegression model\n",
      "from sklearn.linear_model import LogisticRegression\n",
      "model = LogisticRegression()\n",
      "model.fit(X, y)"
     ],
     "language": "python",
     "metadata": {},
     "outputs": [
      {
       "metadata": {},
       "output_type": "pyout",
       "prompt_number": 148,
       "text": [
        "LogisticRegression(C=1.0, class_weight=None, dual=False, fit_intercept=True,\n",
        "          intercept_scaling=1, penalty='l2', random_state=None, tol=0.0001)"
       ]
      }
     ],
     "prompt_number": 148
    },
    {
     "cell_type": "code",
     "collapsed": false,
     "input": [
      "from sklearn.cross_validation import cross_val_score\n",
      "from sklearn.cross_validation import KFold\n",
      "from sklearn.linear_model import LogisticRegression\n",
      "\n",
      "def do_cv(X, y, nfolds=10):\n",
      "    cv = KFold(len(y), nfolds)\n",
      "    return np.mean(cross_val_score(LogisticRegression(), X, y, cv=cv))\n",
      "  \n",
      "print do_cv(X, y)"
     ],
     "language": "python",
     "metadata": {},
     "outputs": [
      {
       "output_type": "stream",
       "stream": "stdout",
       "text": [
        "0.687\n"
       ]
      }
     ],
     "prompt_number": 151
    },
    {
     "cell_type": "code",
     "collapsed": false,
     "input": [
      "# 5 Cross-validation accuracy\n",
      "from sklearn.cross_validation import KFold\n",
      "\n",
      "cv = KFold(len(y), 5)\n",
      "accuracies = []\n",
      "print 'Fitting in the labeled data:'\n",
      "#print 'Train set:',X[train_ind].shape[0], '\\f Test set:', X[test_ind].shape[0]\n",
      "for train_ind, test_ind in cv:\n",
      "    model.fit(X[train_ind], y[train_ind])\n",
      "    \n",
      "    predictions = model.predict(X[test_ind])\n",
      "    accuracies.append(accuracy(y[test_ind], predictions))\n",
      "    \n",
      "print 'Average 5-fold cross validation accuracy=%.2f (std=%.2f)' % (np.mean(accuracies), np.std(accuracies))"
     ],
     "language": "python",
     "metadata": {},
     "outputs": [
      {
       "output_type": "stream",
       "stream": "stdout",
       "text": [
        "Fitting in the labeled data:\n",
        "Average 5-fold cross validation accuracy=0.68 (std=0.03)"
       ]
      },
      {
       "output_type": "stream",
       "stream": "stdout",
       "text": [
        "\n"
       ]
      }
     ],
     "prompt_number": 152
    },
    {
     "cell_type": "code",
     "collapsed": false,
     "input": [
      "# This time, we'll use sklearn's built in tokenization.\n",
      "from sklearn.feature_extraction.text import TfidfVectorizer\n",
      "def tokenize(tweets, vectorizer):\n",
      "    X = vectorizer.fit_transform(t['text'] for t in tweets)\n",
      "    print 'X dimensions=', X.shape\n",
      "    return X\n",
      "\n",
      "X = tokenize(tweets, TfidfVectorizer(decode_error='ignore', lowercase=True, stop_words='english'))"
     ],
     "language": "python",
     "metadata": {},
     "outputs": [
      {
       "output_type": "stream",
       "stream": "stdout",
       "text": [
        "X dimensions= (2000, 7140)\n"
       ]
      }
     ],
     "prompt_number": 156
    },
    {
     "cell_type": "code",
     "collapsed": false,
     "input": [
      "# How does using ngrams help?\n",
      "import matplotlib.pyplot as plt\n",
      "\n",
      "def compare_ngrams(tweets, y):\n",
      "    accuracies = []\n",
      "    ngrams = [(1,1), (1,2), (2,2), (1,3), (2, 3), (3,3)]\n",
      "    for ngram in ngrams:\n",
      "        print ngram\n",
      "        accuracies.append(do_cv(tokenize(tweets, TfidfVectorizer(decode_error='ignore', lowercase=True, stop_words='english',min_df=2, ngram_range=ngram)), y))\n",
      "    plt.figure()\n",
      "    plt.plot(accuracies, 'bo-')\n",
      "    plt.xticks(range(len(ngrams)), ngrams)\n",
      "    plt.xlabel('ngrams')\n",
      "    plt.ylabel('accuracy')\n",
      "    plt.show()\n",
      "        \n",
      "compare_ngrams(tweets, y)"
     ],
     "language": "python",
     "metadata": {},
     "outputs": [
      {
       "output_type": "stream",
       "stream": "stdout",
       "text": [
        "(1, 1)\n",
        "X dimensions="
       ]
      },
      {
       "output_type": "stream",
       "stream": "stdout",
       "text": [
        " (2000, 1877)\n",
        "(1, 2)"
       ]
      },
      {
       "output_type": "stream",
       "stream": "stdout",
       "text": [
        "\n",
        "X dimensions="
       ]
      },
      {
       "output_type": "stream",
       "stream": "stdout",
       "text": [
        " (2000, 3098)\n",
        "(2, 2)"
       ]
      },
      {
       "output_type": "stream",
       "stream": "stdout",
       "text": [
        "\n",
        "X dimensions="
       ]
      },
      {
       "output_type": "stream",
       "stream": "stdout",
       "text": [
        " (2000, 1221)\n",
        "(1, 3)"
       ]
      },
      {
       "output_type": "stream",
       "stream": "stdout",
       "text": [
        "\n",
        "X dimensions="
       ]
      },
      {
       "output_type": "stream",
       "stream": "stdout",
       "text": [
        " (2000, 3797)\n",
        "(2, 3)"
       ]
      },
      {
       "output_type": "stream",
       "stream": "stdout",
       "text": [
        "\n",
        "X dimensions="
       ]
      },
      {
       "output_type": "stream",
       "stream": "stdout",
       "text": [
        " (2000, 1920)\n",
        "(3, 3)"
       ]
      },
      {
       "output_type": "stream",
       "stream": "stdout",
       "text": [
        "\n",
        "X dimensions="
       ]
      },
      {
       "output_type": "stream",
       "stream": "stdout",
       "text": [
        " (2000, 699)\n"
       ]
      },
      {
       "metadata": {},
       "output_type": "display_data",
       "png": "[encoded data removed]",
       "text": [
        "<matplotlib.figure.Figure at 0x32b864358>"
       ]
      }
     ],
     "prompt_number": 159
    },
    {
     "cell_type": "code",
     "collapsed": false,
     "input": [
      "# What are the top weighted features?\n",
      "\n",
      "# Get the learned coefficients for the Positive class.\n",
      "coef = model.coef_[2]\n",
      "# Sort them in descending order.\n",
      "top_coef_ind = np.argsort(coef)[::-1]\n",
      "# Get the names of those features.\n",
      "top_coef_terms = vocab[top_coef_ind]\n",
      "# Get the weights of those features\n",
      "top_coef = coef[top_coef_ind]\n",
      "# Print the top 10.\n",
      "print 'top weighted terms for positive class:\\n', \\\n",
      "    '\\n'.join('%s %.2f' % (term, weight) for term, weight in zip(top_coef_terms, top_coef)[:10])"
     ],
     "language": "python",
     "metadata": {},
     "outputs": [
      {
       "output_type": "stream",
       "stream": "stdout",
       "text": [
        "top weighted terms for positive class:\n",
        "vaping 3.07\n",
        "ecig 2.69\n",
        "cig 2.41\n",
        "vape 2.06\n",
        "need 1.50\n",
        "got 1.48\n",
        "green 1.40\n",
        "good 1.39\n",
        "want 1.18\n",
        "electric 1.18\n"
       ]
      }
     ],
     "prompt_number": 106
    },
    {
     "cell_type": "code",
     "collapsed": false,
     "input": [
      "# Get the learned coefficients for the Negative class.\n",
      "coef = model.coef_[0]\n",
      "# Sort them in descending order.\n",
      "top_coef_ind = np.argsort(coef)[::-1]\n",
      "# Get the names of those features.\n",
      "top_coef_terms = vocab[top_coef_ind]\n",
      "# Get the weights of those features\n",
      "top_coef = coef[top_coef_ind]\n",
      "# Print the top 10.\n",
      "print 'top weighted terms for negative class:\\n', \\\n",
      "    '\\n'.join('%s %.2f' % (term, weight) for term, weight in zip(top_coef_terms, top_coef)[:10])"
     ],
     "language": "python",
     "metadata": {},
     "outputs": [
      {
       "output_type": "stream",
       "stream": "stdout",
       "text": [
        "top weighted terms for negative class:\n",
        "stupid 1.57\n",
        "sorry 1.28\n",
        "smokes 1.27\n",
        "he 1.22\n",
        "pussy 1.22\n",
        "shit 1.15\n",
        "class 1.14\n",
        "faggot 1.14\n",
        "one 1.13\n",
        "look 1.11\n"
       ]
      }
     ],
     "prompt_number": 143
    },
    {
     "cell_type": "code",
     "collapsed": false,
     "input": [
      "# Get the learned coefficients for the OTHER class.\n",
      "coef = model.coef_[1]\n",
      "# Sort them in descending order.\n",
      "top_coef_ind = np.argsort(coef)[::-1]\n",
      "# Get the names of those features.\n",
      "top_coef_terms = vocab[top_coef_ind]\n",
      "# Get the weights of those features\n",
      "top_coef = coef[top_coef_ind]\n",
      "# Print the top 10.\n",
      "print 'top weighted terms for negative class:\\n', \\\n",
      "    '\\n'.join('%s %.2f' % (term, weight) for term, weight in zip(top_coef_terms, top_coef)[:10])"
     ],
     "language": "python",
     "metadata": {},
     "outputs": [
      {
       "output_type": "stream",
       "stream": "stdout",
       "text": [
        "top weighted terms for negative class:\n",
        "http 6.25\n",
        "cigarettes 1.28\n",
        "retail 1.28\n",
        "vaper_trail_ 1.18\n",
        "smokers 1.06\n",
        "la 1.01\n",
        "10 1.00\n",
        "dallas 1.00\n",
        "ni 0.99\n",
        "stores 0.96\n"
       ]
      }
     ],
     "prompt_number": 111
    },
    {
     "cell_type": "code",
     "collapsed": false,
     "input": [
      "'Idea: Sample tweets that don\\'t have the label ' "
     ],
     "language": "python",
     "metadata": {},
     "outputs": [
      {
       "metadata": {},
       "output_type": "pyout",
       "prompt_number": 165,
       "text": [
        "\"Idea: Sample tweets that don't have the label \""
       ]
      }
     ],
     "prompt_number": 165
    },
    {
     "cell_type": "code",
     "collapsed": false,
     "input": [
      "#sampling tweets for testing\n",
      "import csv\n",
      "import random\n",
      "tweets_test=[]\n",
      "with open( 'D:/ecig.csv', \"rb\" ) as theFile:\n",
      "    reader = csv.DictReader( theFile )\n",
      "    #chances_selected = desired_num_results / total_entries\n",
      "    chances_selected = 2000\n",
      "\n",
      "    for row in reader:\n",
      "        if random.random() < 0.3:\n",
      "            tweets_test.append(row) "
     ],
     "language": "python",
     "metadata": {},
     "outputs": [],
     "prompt_number": 97
    },
    {
     "cell_type": "code",
     "collapsed": false,
     "input": [
      "print len(tweets_test) ,'tweets were sampled for testing'\n",
      "print tweets_test[1]['sent']"
     ],
     "language": "python",
     "metadata": {},
     "outputs": [
      {
       "output_type": "stream",
       "stream": "stdout",
       "text": [
        "1393742 tweets were sampled for testing\n",
        "None\n"
       ]
      }
     ],
     "prompt_number": 98
    },
    {
     "cell_type": "code",
     "collapsed": false,
     "input": [
      "#saving sampled test tweets\n",
      "import csv\n",
      "with open( 'D:/training.csv','wb') as train:\n",
      "    writer = csv.DictWriter(train, fieldnames=['country_code', 'flag', 'followers_count', 'friends_count', 'hashtag', 'id', 'is_retweet',\n",
      " 'klout_score', 'link', 'location_coord_type', 'location_coords', 'location_displayname', 'location_type', 'media_display_url', 'media_type',\n",
      " 'media_url', 'posted_time', 'real_name', 'rule_match', 'source', 'statuses_count', 'text', 'title', 'tweet_url', 'user_bio_summary',\n",
      " 'user_location', 'user_mention', 'user_mention_username', 'user_twitter_page', 'username', 'shorttime', 'week', 'hand_label', 'svm', 'mdy',\n",
      " '_merge','sent'])\n",
      "    writer.writeheader()\n",
      "    for row in tweets_test:\n",
      "        writer.writerow(row)   \n",
      "train.close()  "
     ],
     "language": "python",
     "metadata": {},
     "outputs": [],
     "prompt_number": 99
    },
    {
     "cell_type": "code",
     "collapsed": false,
     "input": [
      "#reading tweets from disk - test tweets\n",
      "import csv\n",
      "import random\n",
      "tweets_train=[]\n",
      "with open( 'D:/training.csv', \"rb\" ) as theFile:\n",
      "    reader = csv.DictReader( theFile )\n",
      "    for row in reader:\n",
      "        tweets_train.append(row) "
     ],
     "language": "python",
     "metadata": {},
     "outputs": [],
     "prompt_number": 100
    },
    {
     "cell_type": "code",
     "collapsed": false,
     "input": [
      "print tweets_train[1]\n"
     ],
     "language": "python",
     "metadata": {},
     "outputs": [
      {
       "output_type": "stream",
       "stream": "stdout",
       "text": [
        "{'week': '', 'user_twitter_page': 'http://www.twitter.com/pizzzatimes', 'media_display_url': '', 'text': 'nickdrake: C3P0 Enjoys a cigarette break during filming. http://t.co/AVCtEml4', 'mdy': '19267', 'country_code': '', 'tweet_url': '', 'id': 'tag:search.twitter.com,2005:252558775297376257', '_merge': '3', 'title': 'nickdrake: C3P0 Enjoys a cigarette break during filming. http://t.co/AVCtEml4', 'hand_label': 'N/A', 'user_location': 'Lawnguy Land', 'source': 'Tumblr', 'followers_count': '22', 'klout_score': '22', 'user_mention_username': '', 'location_coords': '', 'user_mention': '', 'shorttime': '', 'media_type': '', 'sent': '', 'is_retweet': '.', 'username': 'pizzzatimes', 'location_displayname': '', 'statuses_count': '8825', 'friends_count': '9', 'flag': '', 'svm': '-', 'link': 'http://twitter.com/pizzzatimes/statuses/252558775297376257', 'location_coord_type': '', 'hashtag': '', 'location_type': '', 'user_bio_summary': 'http://pizzzatime.tumblr.com', 'real_name': 'Steven Barry', 'rule_match': 'cigarette', 'posted_time': '10/1/2012 00:01:19', 'media_url': ''}\n"
       ]
      }
     ],
     "prompt_number": 105
    },
    {
     "cell_type": "code",
     "collapsed": false,
     "input": [
      "#use after pre processing \n",
      "# Create feature vectors (X)\n",
      "from sklearn.feature_extraction.text import TfidfVectorizer\n",
      "vectorizer = TfidfVectorizer(decode_error='ignore', lowercase=True, stop_words='english')# CountVectorizer(decode_error='ignore',lowercase =False)\n",
      "XX = vectorizer.fit_transform(t['text'] for t in tweets_train)\n",
      "print 'lower case, stop words - vectorized %d tweets. found %d terms.' % (XX.shape[0], XX.shape[1])"
     ],
     "language": "python",
     "metadata": {},
     "outputs": [
      {
       "output_type": "stream",
       "stream": "stdout",
       "text": [
        "lower case, stop words - vectorized 1393742 tweets. found 415958 terms.\n"
       ]
      }
     ],
     "prompt_number": 107
    },
    {
     "cell_type": "code",
     "collapsed": false,
     "input": [
      "just predict\n",
      "plot tweets per day classified as positive and negative"
     ],
     "language": "python",
     "metadata": {},
     "outputs": [
      {
       "ename": "SyntaxError",
       "evalue": "invalid syntax (<ipython-input-171-3024f2a358c5>, line 1)",
       "output_type": "pyerr",
       "traceback": [
        "\u001b[1;36m  File \u001b[1;32m\"<ipython-input-171-3024f2a358c5>\"\u001b[1;36m, line \u001b[1;32m1\u001b[0m\n\u001b[1;33m    just predict\u001b[0m\n\u001b[1;37m               ^\u001b[0m\n\u001b[1;31mSyntaxError\u001b[0m\u001b[1;31m:\u001b[0m invalid syntax\n"
       ]
      }
     ],
     "prompt_number": 171
    },
    {
     "cell_type": "code",
     "collapsed": false,
     "input": [],
     "language": "python",
     "metadata": {},
     "outputs": []
    }
   ],
   "metadata": {}
  }
 ]
}