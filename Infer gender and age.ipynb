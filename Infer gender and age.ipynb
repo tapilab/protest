{
 "cells": [
  {
   "cell_type": "code",
   "execution_count": 1,
   "metadata": {
    "collapsed": true
   },
   "outputs": [],
   "source": [
    "#from collections import Counter\n",
    "import csv\n",
    "names = []\n",
    "pos = 0\n",
    "neg = 0\n",
    "\n",
    "with open( 'D:\\\\Research\\\\testingTweets_Classes.csv', \"rb\" ) as theFile:\n",
    "    reader = csv.DictReader( theFile )\n",
    "    for row in reader:\n",
    "        names.append(row)"
   ]
  },
  {
   "cell_type": "markdown",
   "metadata": {},
   "source": [
    "# Infer Gender"
   ]
  },
  {
   "cell_type": "markdown",
   "metadata": {},
   "source": [
    "**Getting census data names**"
   ]
  },
  {
   "cell_type": "code",
   "execution_count": 2,
   "metadata": {
    "collapsed": false
   },
   "outputs": [
    {
     "name": "stdout",
     "output_type": "stream",
     "text": [
      "males:\n",
      "JAMES          3.318  3.318      1\n",
      "JOHN           3.271  6.589      2\n",
      "ROBERT         3.143  9.732      3\n",
      "MICHAEL        2.629 12.361      4\n",
      "WILLIAM        2.451 14.812      5\n",
      "DAVID          2.363 17.176      6\n",
      "RICHARD        1.703 18.878      7\n",
      "CHARLES        1.523 20.401      8\n",
      "JOSEPH         1.404 21.805      9\n",
      "THOMAS         1.380 23.185     10 \n",
      "233 male names\n",
      "\n",
      "females:\n",
      "MARY           2.629  2.629      1\n",
      "PATRICIA       1.073  3.702      2\n",
      "LINDA          1.035  4.736      3\n",
      "BARBARA        0.980  5.716      4\n",
      "ELIZABETH      0.937  6.653      5\n",
      "JENNIFER       0.932  7.586      6\n",
      "MARIA          0.828  8.414      7\n",
      "SUSAN          0.794  9.209      8\n",
      "MARGARET       0.768  9.976      9\n",
      "DOROTHY        0.727 10.703     10 \n",
      "525 female names\n"
     ]
    }
   ],
   "source": [
    "# Fetch census name data from:\n",
    "# http://www.census.gov/genealogy/www/data/1990surnames/index.html\n",
    "\n",
    "import requests\n",
    "males_url = 'http://www2.census.gov/topics/genealogy/1990surnames/dist.male.first'\n",
    "females_url = 'http://www2.census.gov/topics/genealogy/1990surnames/dist.female.first'\n",
    "males = (requests.get(males_url).text.split('\\n'))[:233]\n",
    "females = (requests.get(females_url).text.split('\\n'))[:525]\n",
    "print 'males:\\n', '\\n'.join(males[:10]), '\\n',len(males), 'male names'\n",
    "print '\\nfemales:\\n', '\\n'.join(females[:10]),'\\n', len(females), 'female names'"
   ]
  },
  {
   "cell_type": "code",
   "execution_count": 3,
   "metadata": {
    "collapsed": false
   },
   "outputs": [
    {
     "name": "stdout",
     "output_type": "stream",
     "text": [
      "males:\n",
      "tim\n",
      "thomas\n",
      "alvin\n",
      "jason\n",
      "ron\n",
      "lewis\n",
      "charles\n",
      "lester\n",
      "steve\n",
      "roy\n",
      "\n",
      "females:\n",
      "cynthia\n",
      "sonja\n",
      "hilda\n",
      "laura\n",
      "marion\n",
      "colleen\n",
      "kate\n",
      "emily\n",
      "jessie\n",
      "rhonda\n"
     ]
    }
   ],
   "source": [
    "# Get just names. \n",
    "male_names = set([m.split()[0].lower() for m in males if m])\n",
    "female_names = set([f.split()[0].lower() for f in females if f])\n",
    "\n",
    "print 'males:\\n', '\\n'.join(list(male_names)[:10])\n",
    "print '\\nfemales:\\n', '\\n'.join(list(female_names)[:10])"
   ]
  },
  {
   "cell_type": "code",
   "execution_count": 4,
   "metadata": {
    "collapsed": false
   },
   "outputs": [
    {
     "name": "stdout",
     "output_type": "stream",
     "text": [
      "found 7 ambiguous names:\n",
      "\n",
      "jamie\n",
      "leslie\n",
      "willie\n",
      "francis\n",
      "angel\n",
      "terry\n",
      "lee\n"
     ]
    }
   ],
   "source": [
    "# What about ambiguous names?\n",
    "\n",
    "def remove_ambiguous_names(male_names, female_names):\n",
    "    ambiguous = [n for n in male_names if n in female_names]\n",
    "    for a in ambiguous:\n",
    "        if a in male_names and a in female_names:\n",
    "            male_names.remove(a)\n",
    "            female_names.remove(a)\n",
    "    print 'found %d ambiguous names:\\n'% len(ambiguous)\n",
    "    print '\\n'.join(ambiguous[:20])\n",
    "    \n",
    "remove_ambiguous_names(male_names, female_names)"
   ]
  },
  {
   "cell_type": "code",
   "execution_count": 5,
   "metadata": {
    "collapsed": false
   },
   "outputs": [
    {
     "name": "stdout",
     "output_type": "stream",
     "text": [
      "[]\n"
     ]
    }
   ],
   "source": [
    "#Check if ambiguous names were eliminated\n",
    "print [n for n in male_names if n in female_names]"
   ]
  },
  {
   "cell_type": "code",
   "execution_count": 6,
   "metadata": {
    "collapsed": false
   },
   "outputs": [
    {
     "name": "stdout",
     "output_type": "stream",
     "text": [
      "male\n"
     ]
    }
   ],
   "source": [
    "#labeling tweets according to first names of users\n",
    "\n",
    "def gender_by_name(tweets, male_names, female_names):\n",
    "    for t in tweets:\n",
    "        if len(t['real_name'])>1:\n",
    "            first = t['real_name'].split()[0].lower()\n",
    "        else:\n",
    "            first = t['real_name'].lower()\n",
    "        if first in male_names:\n",
    "            t['gender'] = 'male'\n",
    "        elif first in female_names:\n",
    "            t['gender'] = 'female'\n",
    "        else:\n",
    "            t['gender'] = 'unknown'\n",
    "\n",
    "gender_by_name(names, male_names, female_names)\n",
    "print names[1]['gender']"
   ]
  },
  {
   "cell_type": "code",
   "execution_count": 19,
   "metadata": {
    "collapsed": false,
    "scrolled": true
   },
   "outputs": [
    {
     "name": "stdout",
     "output_type": "stream",
     "text": [
      "Positive:  Counter({'unknown': 190828, 'male': 43775, 'female': 31228})\n",
      "Negative:  Counter({'unknown': 542789, 'male': 113127, 'female': 70886})\n"
     ]
    }
   ],
   "source": [
    "#Genders by class\n",
    "\n",
    "from collections import Counter\n",
    "\n",
    "def print_genders_positive(tweets):\n",
    "    return Counter([t['gender'] for t in tweets if t['class']=='1'])\n",
    "    #for t in tweets[:20]:\n",
    "    #    print t['gender'], t['real_name']\n",
    "\n",
    "def print_genders_negative(tweets):\n",
    "    return Counter([t['gender'] for t in tweets if t['class']=='0'])\n",
    "    #for t in tweets[:20]:\n",
    "    #    print t['gender'], t['real_name']\n",
    "        \n",
    "        \n",
    "print 'Positive: ', print_genders_positive(names)\n",
    "print 'Negative: ', print_genders_negative(names)\n"
   ]
  },
  {
   "cell_type": "code",
   "execution_count": 8,
   "metadata": {
    "collapsed": false
   },
   "outputs": [
    {
     "name": "stdout",
     "output_type": "stream",
     "text": [
      "('Electronic Cigarette', 15270)\n",
      "('Dragonfly Ecigs', 14278)\n",
      "('Lewisville E Cig', 4837)\n",
      "('g james', 4541)\n",
      "('Vapornine', 4105)\n",
      "(\"DFW Vapor's Store\", 2901)\n",
      "('RokkiMoon', 2301)\n",
      "('RoyalVapor', 2183)\n",
      "('Lesley Anna Lawless', 1962)\n",
      "('vereybowring', 1455)\n",
      "('CouponAndDiscount', 1404)\n",
      "('Proper Longboards', 1351)\n",
      "('Caerulea Sea', 1176)\n",
      "('vapers.it', 1116)\n",
      "('', 1086)\n",
      "('FlamingKaty', 962)\n",
      "('Dorsey List', 936)\n",
      "('NgTrader.co.uk', 917)\n",
      "('vapourworld.co.uk', 891)\n",
      "('?????', 865)\n"
     ]
    }
   ],
   "source": [
    "# Who are the unknowns?\n",
    "# \"Filtered\" data can have big impact on analysis.\n",
    "\n",
    "unknown_names = Counter(t['real_name']\n",
    "                        for t in names if t['gender'] == 'unknown')\n",
    "print '\\n'.join(str(x) for x in unknown_names.most_common(20))"
   ]
  },
  {
   "cell_type": "code",
   "execution_count": 9,
   "metadata": {
    "collapsed": false
   },
   "outputs": [
    {
     "name": "stdout",
     "output_type": "stream",
     "text": [
      "Most Common Male Terms:\n",
      "('and', 49820)\n",
      "('i', 40595)\n",
      "('the', 31287)\n",
      "('a', 23995)\n",
      "('of', 22705)\n",
      "('to', 21280)\n",
      "('my', 20708)\n",
      "('for', 19906)\n",
      "('in', 16666)\n",
      "('you', 11569)\n",
      "\n",
      "Most Common Female Terms:\n",
      "('i', 34720)\n",
      "('and', 30629)\n",
      "('the', 24178)\n",
      "('a', 23177)\n",
      "('to', 18615)\n",
      "('of', 16271)\n",
      "('my', 15296)\n",
      "('in', 11788)\n",
      "('is', 11350)\n",
      "('you', 11191)\n"
     ]
    }
   ],
   "source": [
    "# How do the profiles of male Twitter users differ from\n",
    "# those of female users?\n",
    "\n",
    "male_profiles = [t['user_bio_summary'] for t in names\n",
    "                if t['gender'] == 'male']\n",
    "\n",
    "female_profiles = [t['user_bio_summary'] for t in names\n",
    "                if t['gender'] == 'female']\n",
    "\n",
    "import re\n",
    "def tokenize(s):\n",
    "    return re.sub('\\W+', ' ', s).lower().split()\n",
    "\n",
    "male_words = Counter()\n",
    "female_words = Counter()\n",
    "\n",
    "for p in male_profiles:\n",
    "    male_words.update(Counter(tokenize(p)))\n",
    "                      \n",
    "for p in female_profiles:\n",
    "    female_words.update(Counter(tokenize(p)))\n",
    "\n",
    "print 'Most Common Male Terms:\\n', \\\n",
    "    '\\n'.join(str(x) for x in male_words.most_common(10))\n",
    "    \n",
    "print '\\nMost Common Female Terms:\\n', \\\n",
    "    '\\n'.join(str(x) for x in female_words.most_common(10))"
   ]
  },
  {
   "cell_type": "code",
   "execution_count": 10,
   "metadata": {
    "collapsed": false
   },
   "outputs": [
    {
     "name": "stdout",
     "output_type": "stream",
     "text": [
      "Top Male Terms (diff):\n",
      "('and', -19191)\n",
      "('for', -12424)\n",
      "('the', -7109)\n",
      "('of', -6434)\n",
      "('i', -5875)\n",
      "('my', -5412)\n",
      "('at', -5329)\n",
      "('vaper', -5220)\n",
      "('in', -4878)\n",
      "('casaa', -4852)\n",
      "\n",
      "Top Female Terms (diff):\n",
      "('topic', 944)\n",
      "('mandy', 947)\n",
      "('coffee', 992)\n",
      "('get', 1016)\n",
      "('mother', 1029)\n",
      "('addict', 1040)\n",
      "('mom', 1295)\n",
      "('girl', 1660)\n",
      "('love', 1683)\n",
      "('health', 2014)\n"
     ]
    }
   ],
   "source": [
    "# Compute difference\n",
    "diff_counts = dict([(w, female_words[w] - male_words[w])\n",
    "                    for w in\n",
    "                    set(female_words.keys()) | set(male_words.keys())])\n",
    "\n",
    "sorted_diffs = sorted(diff_counts.items(), key=lambda x: x[1])\n",
    "\n",
    "print 'Top Male Terms (diff):\\n', \\\n",
    "    '\\n'.join(str(x) for x in sorted_diffs[:10])\n",
    "\n",
    "print '\\nTop Female Terms (diff):\\n', \\\n",
    "    '\\n'.join(str(x) for x in sorted_diffs[-10:])"
   ]
  },
  {
   "cell_type": "code",
   "execution_count": 11,
   "metadata": {
    "collapsed": false
   },
   "outputs": [
    {
     "name": "stdout",
     "output_type": "stream",
     "text": [
      "[('and', 0.031813781459372616), ('i', 0.025922931721060444), ('the', 0.019979080299465896), ('a', 0.015322595064585425), ('of', 0.014498833962967788), ('to', 0.013588865304204119), ('my', 0.013223600691703896), ('for', 0.012711463944806729), ('in', 0.010642482573301967), ('you', 0.007387668360166234)]\n"
     ]
    }
   ],
   "source": [
    "def counts_to_probs(gender_words):\n",
    "    \"\"\" Compute probability of each term according to the frequency\n",
    "    in a gender. \"\"\"\n",
    "    total = 1. * sum(gender_words.values())\n",
    "    return dict([(word, count / total)\n",
    "                 for word, count in gender_words.items()])\n",
    "\n",
    "male_probs = counts_to_probs(male_words)\n",
    "female_probs = counts_to_probs(female_words)\n",
    "print sorted(male_probs.items(), key=lambda x: -x[1])[:10]"
   ]
  },
  {
   "cell_type": "code",
   "execution_count": 12,
   "metadata": {
    "collapsed": false
   },
   "outputs": [
    {
     "name": "stdout",
     "output_type": "stream",
     "text": [
      "('and', 0.029659629541874483)\n",
      "('i', 0.02416776702358316)\n",
      "('the', 0.018626492625723468)\n",
      "('a', 0.01428539110990988)\n",
      "('of', 0.013517423343124427)\n",
      "('to', 0.0126690868565591)\n",
      "('my', 0.012328561614232526)\n",
      "('for', 0.011851111886355058)\n",
      "('in', 0.009922262611638104)\n",
      "('you', 0.006887896947060232)\n"
     ]
    }
   ],
   "source": [
    "# Additive smoothing. Add count of 1 for all words.\n",
    "all_words = set(male_words) | set(female_words)\n",
    "male_words.update(all_words)  \n",
    "female_words.update(all_words)\n",
    "\n",
    "male_probs = counts_to_probs(male_words)\n",
    "female_probs = counts_to_probs(female_words)\n",
    "print '\\n'.join(str(x) for x in \n",
    "                sorted(male_probs.items(), key=lambda x: -x[1])[:10])"
   ]
  },
  {
   "cell_type": "code",
   "execution_count": 13,
   "metadata": {
    "collapsed": false
   },
   "outputs": [
    {
     "name": "stdout",
     "output_type": "stream",
     "text": [
      "Top Female Terms (OR):\n",
      "('mandy', 1337.4475985063418)\n",
      "('snowcentre', 547.3941647895155)\n",
      "('wang120899', 411.9564332952023)\n",
      "('skyp', 366.810522797098)\n",
      "('vapenstein', 334.36189962658545)\n",
      "('diets', 328.71866081432245)\n",
      "('cont', 320.2538025959279)\n",
      "('l2i2wzt7', 318.84299289286207)\n",
      "('bdcmg', 308.96732497140175)\n",
      "('batteries', 256.2970960569467)\n",
      "\n",
      "Top Male Terms (OR):\n",
      "('statistical', 0.0029514847344472)\n",
      "('tpd', 0.0023592135502771934)\n",
      "('ecigy', 0.002012567336755723)\n",
      "('hammers', 0.0015623584751558823)\n",
      "('bongonaut', 0.0015301623677502838)\n",
      "('actively', 0.001513744316594165)\n",
      "('swof', 0.0008488626372236834)\n",
      "('bii', 0.0007068184885099006)\n",
      "('gconley', 0.0005871034969062678)\n",
      "('casaa', 0.0002907087787071423)\n"
     ]
    }
   ],
   "source": [
    "def odds_ratios(male_probs, female_probs):\n",
    "    return dict([(w, female_probs[w] / male_probs[w])\n",
    "                 for w in set(male_probs) | set(female_probs)])\n",
    "\n",
    "ors = odds_ratios(male_probs, female_probs)\n",
    "\n",
    "sorted_ors = sorted(ors.items(), key=lambda x: -x[1])\n",
    "\n",
    "print 'Top Female Terms (OR):\\n', \\\n",
    "    '\\n'.join(str(x) for x in sorted_ors[:10])\n",
    "\n",
    "print '\\nTop Male Terms (OR):\\n', \\\n",
    "    '\\n'.join(str(x) for x in sorted_ors[-10:])"
   ]
  },
  {
   "cell_type": "code",
   "execution_count": 20,
   "metadata": {
    "collapsed": false
   },
   "outputs": [
    {
     "name": "stdout",
     "output_type": "stream",
     "text": [
      "Positive:  Counter({'unknown': 190828, 'male': 43775, 'female': 31228}) \n",
      "Negative: Counter({'unknown': 542789, 'male': 113127, 'female': 70886})\n"
     ]
    }
   ],
   "source": [
    "c1 = print_genders_positive(names)\n",
    "c2 = print_genders_negative(names)\n",
    "print 'Positive: ', c1, '\\nNegative:', c2"
   ]
  },
  {
   "cell_type": "code",
   "execution_count": 21,
   "metadata": {
    "collapsed": false
   },
   "outputs": [],
   "source": [
    "import plotly.plotly as py\n",
    "from plotly.graph_objs import *\n",
    "\n",
    "import plotly.plotly as py              # for sending things to plotly\n",
    "import plotly.tools as tls              # for mpl, config, etc.\n",
    "from plotly.graph_objs import *         # __all__ is safely defined\n",
    "py.sign_in('elaine_resende', 'qvxpg7lfcd')   # get your own at https://plot.ly/\n",
    "\n",
    "trace1 = Bar(\n",
    "    x=c1.keys(),\n",
    "    y=c1.values(),\n",
    "    name='Positive tweets'\n",
    ")\n",
    "trace2 = Bar(\n",
    "    x=c2.keys(),\n",
    "    y=c2.values(),\n",
    "    name='Negative Tweets'\n",
    ")\n",
    "data = Data([trace1, trace2])\n",
    "layout = Layout(\n",
    "    barmode='group'\n",
    ")\n",
    "fig = Figure(data=data, layout=layout)\n",
    "plot_url = py.plot(fig, filename='grouped-bar')"
   ]
  },
  {
   "cell_type": "code",
   "execution_count": 93,
   "metadata": {
    "collapsed": false
   },
   "outputs": [
    {
     "data": {
      "text/html": [
       "<iframe id=\"igraph\" scrolling=\"no\" style=\"border:none;\"seamless=\"seamless\" src=\"https://plot.ly/~elaine_resende/3.embed\" height=\"525\" width=\"100%\"></iframe>"
      ],
      "text/plain": [
       "<plotly.tools.PlotlyDisplay object>"
      ]
     },
     "execution_count": 93,
     "metadata": {},
     "output_type": "execute_result"
    }
   ],
   "source": [
    "import plotly.tools as tls\n",
    "tls.embed(\"https://plot.ly/~elaine_resende/3/genders-by-sentiment/?share_key=DcMWdxDgYNqHaFpHJz8r2m\")"
   ]
  },
  {
   "cell_type": "code",
   "execution_count": 97,
   "metadata": {
    "collapsed": true
   },
   "outputs": [],
   "source": [
    "# Save these tweets.\n",
    "import pickle\n",
    "pickle.dump(names, open('tweets.pkl', 'wb'))"
   ]
  },
  {
   "cell_type": "code",
   "execution_count": 98,
   "metadata": {
    "collapsed": true
   },
   "outputs": [],
   "source": [
    "# Load these tweets\n",
    "import pickle\n",
    "tweets = pickle.load(open('tweets.pkl', 'rb'))"
   ]
  },
  {
   "cell_type": "code",
   "execution_count": 103,
   "metadata": {
    "collapsed": false
   },
   "outputs": [
    {
     "name": "stdout",
     "output_type": "stream",
     "text": [
      "Steven Barry male 0 nickdrake: C3P0 Enjoys a cigarette break during filming. http://t.co/AVCtEml4\n"
     ]
    }
   ],
   "source": [
    "print tweets[1]['real_name'], tweets[1]['gender'], tweets[1]['class'], tweets[1]['text']"
   ]
  },
  {
   "cell_type": "code",
   "execution_count": 85,
   "metadata": {
    "collapsed": false
   },
   "outputs": [
    {
     "name": "stdout",
     "output_type": "stream",
     "text": [
      "Populating the interactive namespace from numpy and matplotlib\n"
     ]
    },
    {
     "name": "stderr",
     "output_type": "stream",
     "text": [
      "WARNING: pylab import has clobbered these variables: ['info', 'linalg', 'draw_if_interactive', 'random', 'fft', 'power']\n",
      "`%matplotlib` prevents importing * from pylab and numpy\n"
     ]
    },
    {
     "data": {
      "image/png": "[encoded data removed]",
      "text/plain": [
       "<matplotlib.figure.Figure at 0x132b6a7b8>"
      ]
     },
     "metadata": {},
     "output_type": "display_data"
    }
   ],
   "source": [
    "#!/usr/bin/env python\n",
    "# a bar plot with errorbars\n",
    "# http://matplotlib.org/examples/api/barchart_demo.html\n",
    "import numpy as np\n",
    "import matplotlib.pyplot as plt\n",
    "% pylab inline\n",
    "\n",
    "ind = np.arange(3)  # locations for the groups\n",
    "width = 0.25       # width of the bars\n",
    "\n",
    "fig, ax = plt.subplots()\n",
    "bar1 = ax.bar(ind, c1.values(), width, color='green')\n",
    "bar2 = ax.bar(ind+width, c2.values(), width, color='red')\n",
    "\n",
    "# add some text for labels, title and axes ticks\n",
    "ax.set_ylabel('# of tweets')\n",
    "ax.set_title('Gender by Sentiment')\n",
    "ax.set_xticks(ind+width)\n",
    "ax.set_xticklabels( [c1.keys()[0].title(),c1.keys()[1].title(),c1.keys()[2].title()])\n",
    "\n",
    "ax.legend( (bar1[0], bar2[0]), ('Positive','Negative') )\n",
    "\n",
    "def autolabel(rects):\n",
    "    # attach some text labels\n",
    "    for rect in rects:\n",
    "        height = rect.get_height()\n",
    "        ax.text(rect.get_x()+rect.get_width()/2., 1.05*height, '%d'%int(height),\n",
    "                ha='center', va='bottom')\n",
    "\n",
    "autolabel(bar1)\n",
    "autolabel(bar2)\n",
    "\n",
    "plt.show()"
   ]
  },
  {
   "cell_type": "code",
   "execution_count": null,
   "metadata": {
    "collapsed": false
   },
   "outputs": [],
   "source": []
  },
  {
   "cell_type": "code",
   "execution_count": null,
   "metadata": {
    "collapsed": false
   },
   "outputs": [],
   "source": []
  },
  {
   "cell_type": "code",
   "execution_count": null,
   "metadata": {
    "collapsed": true
   },
   "outputs": [],
   "source": []
  }
 ],
 "metadata": {
  "kernelspec": {
   "display_name": "Python 2",
   "language": "python",
   "name": "python2"
  },
  "language_info": {
   "codemirror_mode": {
    "name": "ipython",
    "version": 2
   },
   "file_extension": ".py",
   "mimetype": "text/x-python",
   "name": "python",
   "nbconvert_exporter": "python",
   "pygments_lexer": "ipython2",
   "version": "2.7.9"
  }
 },
 "nbformat": 4,
 "nbformat_minor": 0
}
