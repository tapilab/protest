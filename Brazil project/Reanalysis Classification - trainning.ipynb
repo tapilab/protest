{
 "cells": [
  {
   "cell_type": "code",
   "execution_count": 10,
   "metadata": {
    "collapsed": true
   },
   "outputs": [],
   "source": [
    "import re \n",
    "import string\n",
    "import timestring\n",
    "from sklearn.linear_model import LinearRegression, LogisticRegression\n",
    "from collections import Counter\n",
    "from sklearn.feature_extraction.text import TfidfVectorizer\n",
    "from sklearn.cross_validation import cross_val_score, KFold\n",
    "import glob, os\n",
    "import numpy as np\n",
    "from sklearn import svm\n",
    "from collections import defaultdict\n",
    "from scipy.sparse import csr_matrix\n",
    "from sklearn.cross_validation import cross_val_score\n",
    "from sklearn.cross_validation import KFold\n",
    "from sklearn.linear_model import LogisticRegression\n",
    "from sklearn.metrics import accuracy_score\n",
    "from sklearn.cross_validation import cross_val_score\n",
    "from sklearn.cross_validation import KFold\n",
    "from sklearn.linear_model import LogisticRegression\n",
    "from sklearn.grid_search import GridSearchCV\n",
    "from sklearn.pipeline import Pipeline\n",
    "from pprint import pprint\n",
    "from sklearn.feature_extraction import text"
   ]
  },
  {
   "cell_type": "code",
   "execution_count": 11,
   "metadata": {
    "collapsed": true
   },
   "outputs": [],
   "source": [
    "class Tokenizer:\n",
    "    def __init__(self, collapse_mentions=False, collapse_digits=True):\n",
    "        self.collapse_mentions = collapse_mentions\n",
    "        self.collapse_digits = collapse_digits\n",
    "        \n",
    "    def tokenize(self, text):\n",
    "        punc_re = '[' + '\\\\!\\\\\"\\\\#\\\\$\\\\%\\\\&\\\\\\'\\\\(\\\\)\\\\*\\\\+\\\\,\\\\-\\\\.\\\\/\\\\:\\\\;\\\\<\\\\=\\\\>\\\\?\\\\@\\\\[\\\\\\\\\\\\]\\\\_\\\\{\\\\|\\\\}' + ']'\n",
    "        text = text.lower()\n",
    "        text = re.sub('#(\\S+)', r'HASHTAG_\\1', text)\n",
    "        if self.collapse_mentions:\n",
    "            text = re.sub('@\\S+', 'MENTION', text)\n",
    "        else:\n",
    "            text = re.sub('@\\S+', 'MENTION_\\1', text)\n",
    "        text = re.sub('http\\S+', 'THIS_IS_A_URL', text)\n",
    "        text = re.sub(r'(.)\\1\\1\\1+', r'\\1', text)\n",
    "        if self.collapse_digits: # Numbers help!\n",
    "            text = re.sub(r'[0-9]', '9', text) \n",
    "        toks = []\n",
    "        for tok in text.split():\n",
    "            tok = re.sub(r'^(' + punc_re + '+)', r'\\1 ', tok)\n",
    "            tok = re.sub(r'(' + punc_re + '+)$', r' \\1', tok)\n",
    "            for subtok in tok.split():\n",
    "                if re.search('\\w', subtok):\n",
    "                    toks.append(subtok)\n",
    "        return toks"
   ]
  },
  {
   "cell_type": "code",
   "execution_count": 12,
   "metadata": {
    "collapsed": true
   },
   "outputs": [],
   "source": [
    "DIR = '/data/2/protest'"
   ]
  },
  {
   "cell_type": "code",
   "execution_count": 13,
   "metadata": {
    "collapsed": true
   },
   "outputs": [],
   "source": [
    "#read file with stopwords\n",
    "def read_stopwords(path):\n",
    "    return [s.strip().lower() for s in open(path)]"
   ]
  },
  {
   "cell_type": "code",
   "execution_count": 14,
   "metadata": {
    "collapsed": false
   },
   "outputs": [],
   "source": [
    "#define vectorizer \n",
    "toker = Tokenizer(collapse_digits=False, collapse_mentions=True)\n",
    "\n",
    "#Adding new stopwords to the model\n",
    "stopwords = set(read_stopwords(DIR + '/stopwords.txt'))    \n",
    "my_stop_words = text.ENGLISH_STOP_WORDS.union(stopwords)\n",
    "\n",
    "vectorizer = TfidfVectorizer(binary=False, decode_error='ignore',ngram_range=(1,2),\n",
    "                                 max_df=1.0, min_df=2, use_idf=True,\n",
    "                                 tokenizer=toker.tokenize,\n",
    "                                 norm='l2', stop_words=set(my_stop_words))"
   ]
  },
  {
   "cell_type": "code",
   "execution_count": 15,
   "metadata": {
    "collapsed": false
   },
   "outputs": [
    {
     "data": {
      "text/plain": [
       "['foradilma', 'fora dilma', 'forapt', 'fora pt', 'vemprarua', 'vem pra rua']"
      ]
     },
     "execution_count": 15,
     "metadata": {},
     "output_type": "execute_result"
    }
   ],
   "source": [
    "def read_keywords(path):\n",
    "    return [s.strip().lower() for s in open(path)]\n",
    "    \n",
    "keywords = read_keywords(DIR + '/keywords.txt')\n",
    "keywords"
   ]
  },
  {
   "cell_type": "code",
   "execution_count": 27,
   "metadata": {
    "collapsed": false,
    "scrolled": false
   },
   "outputs": [
    {
     "name": "stdout",
     "output_type": "stream",
     "text": [
      "read 642 instances into X matrix with shape (642, 339508)\n",
      "label distribution= Counter({0: 321, 1: 321})\n"
     ]
    }
   ],
   "source": [
    "import os, io, json, codecs\n",
    "\n",
    "def matches_keywords(text, keywords):\n",
    "    \"\"\" Return true if any keyword is a substring of this text, ignoring case. \"\"\"\n",
    "    text = text.lower()\n",
    "    for kw in keywords:\n",
    "        if kw in text:\n",
    "            return True\n",
    "    return False\n",
    "\n",
    "def filename2user(fname):\n",
    "    \"\"\"Convert filename like this\n",
    "      /data/2/protest/Timeline/MandinhaSimone.txt.txt\n",
    "    into a username like\n",
    "      MandinhaSimone\n",
    "    \"\"\"\n",
    "    return re.sub(r'^([^\\.]+)\\..+', r'\\1', os.path.basename(fname))\n",
    "\n",
    "def after_iterate_instances_changed(files, keywords, window_sz, gap_sz):\n",
    "    \"\"\"\n",
    "    Return an iterator over tuples containing:\n",
    "    (concatenated tweet text, label, username, percentage of neightbors who used one of the keywords)\n",
    "    For each user in path, we find the first tweet containing one of the specified keywords.\n",
    "    We then create one positive instance, defined as window = N tweets prior to the matched tweet.\n",
    "    We also create one negative instance, which is the same size as positive, but defined after a gap=g.\n",
    "    We additionally filter users if they use one of the keywords in one of their first (2*window + gap)\n",
    "    tweets. \n",
    "    Also we find neighbors (define as those with symetric mentions) who have also used one of the keywords \n",
    "    during positive or negative window \n",
    "    \"\"\"\n",
    "    DIR = '/home/elaine/Protest/protest/Brazil project/'\n",
    "    DIR2='/data/2/protest/mentions/'\n",
    "    dic = defaultdict(tuple)\n",
    "    #pkl_file = open(DIR+'all_mentions_graph.pkl', 'rb')#open pickle file where the edges of the graph is saved\n",
    "    #data1 = pickle.load(pkl_file)\n",
    "    for _, _, f in os.walk(DIR2): f    \n",
    "    for _, _, arquivos in os.walk(files): arquivos\n",
    "        \n",
    "    for fname in arquivos:\n",
    "        #print(fname)\n",
    "        user = filename2user(fname)\n",
    "        #print('this is', user)\n",
    "        lines = []\n",
    "        lines_neg = []\n",
    "        #countneg=0\n",
    "        #countpos=0\n",
    "        #print('treino',user)\n",
    "        #print(open(files+arquivos[fname]))\n",
    "        for i, line in enumerate(open(files+fname)):\n",
    "            js = json.loads(line)\n",
    "                # exclude people who use keyword within first `window` of tweets.\n",
    "            if i <= (2*window_sz + gap_sz) and matches_keywords(js['text'], keywords):\n",
    "                #print('skipping', arquivos[fname], 'because uses keyword in first', negative_window, 'tweets')\n",
    "                break\n",
    "            if i > (2*window_sz + gap_sz) and matches_keywords(js['text'], keywords):\n",
    "                #yield (' '.join(lines), 1, user)\n",
    "                # yield (' '.join(lines[:-negative_window]), 0, user)\n",
    "                lines.append((js['text'],js['created_at']))\n",
    "            if not(matches_keywords(js['text'],keywords)):\n",
    "                lines_neg.append((js['text'],js['created_at']))\n",
    "    \n",
    "                \n",
    "                \n",
    "        testepos = \" \".join(l[0] for l in lines)\n",
    "        testeneg = \" \".join(l[0] for l in lines_neg)\n",
    "                \n",
    "        yield (testepos, 1, user)\n",
    "        yield (testeneg, 0, user)\n",
    "\n",
    "            \n",
    "y = []\n",
    "users = []\n",
    "negative_window = 10\n",
    "# The loop below iterates over each instance and vectorizes the text.\n",
    "# Simulataneously, we append to the y (labels) and users lists.\n",
    "# We do this to avoid having to store all the text in memory at once and to \n",
    "# only require one loop through the files.(files, keywords, window_sz, gap_sz,files_train\n",
    "iterator = after_iterate_instances_changed(DIR + '/Timeline/', keywords, 20,100)\n",
    "X = vectorizer.fit_transform(x[0] for x in iterator if not users.append(x[2]) and not y.append(x[1]))\n",
    "print('read %d instances into X matrix with shape %s' % (len(users), str(X.shape)))\n",
    "print('label distribution=', Counter(y))\n",
    "\n",
    "#iterator = iterate_instances(DIR + '/Timeline', keywords, negative_window)\n",
    "#i=list(iterator)\n"
   ]
  },
  {
   "cell_type": "code",
   "execution_count": 23,
   "metadata": {
    "collapsed": false
   },
   "outputs": [
    {
     "name": "stdout",
     "output_type": "stream",
     "text": [
      "Average 10-fold cross validation accuracy=0.9393 (std=0.02)\n",
      "accuracy on training data=0.9751\n"
     ]
    }
   ],
   "source": [
    "y = np.array(y)\n",
    "model_mod = LogisticRegression(penalty='l2', C=2.6)\n",
    "model_mod.fit(X, y)\n",
    "\n",
    "\n",
    "# Compute accuracy\n",
    "def accuracy(truth, predicted):\n",
    "    return (1. * len([1 for tr, pr in zip(truth, predicted) if tr == pr]) / len(truth))\n",
    "\n",
    "# 10 Cross-validation accuracy\n",
    "cv = KFold(len(y), 10, shuffle=False)  # Don't shuffle b/c we don't want a user in both training and testing set.\n",
    "accuracies = []\n",
    "for train_ind, test_ind in cv:\n",
    "    model_mod.fit(X[train_ind],y[train_ind])   \n",
    "    accuracies.append(accuracy_score(y[test_ind], model_mod.predict(X[test_ind])))\n",
    "    \n",
    "print('Average 10-fold cross validation accuracy=%.4f (std=%.2f)' % (np.mean(accuracies), np.std(accuracies)))\n",
    "\n",
    "predicted = model_mod.predict(X)\n",
    "print('accuracy on training data=%.4f' % accuracy(y, predicted))"
   ]
  },
  {
   "cell_type": "code",
   "execution_count": 24,
   "metadata": {
    "collapsed": false
   },
   "outputs": [
    {
     "name": "stdout",
     "output_type": "stream",
     "text": [
      "[('MENTION', -5.2257298810562158),\n",
      " ('THIS_IS_A_URL', -4.227552444607789),\n",
      " ('HASHTAG_somostodossergiomoro', -1.4893833173014652),\n",
      " ('eu', -1.4674372915096341),\n",
      " ('rt', -1.0869185009509323),\n",
      " ('rt MENTION', -1.0416741051499223),\n",
      " (\"THIS_IS_A_URL i'm\", -0.92877233422348993),\n",
      " (\"i'm\", -0.84592901329289882),\n",
      " ('bom', -0.81384897450187221),\n",
      " ('ser', -0.81183133436800792),\n",
      " ('THIS_IS_A_URL MENTION', -0.76368825775916083),\n",
      " ('deus', -0.74078886193204263),\n",
      " ('HASHTAG_trndnl', -0.71717604961607084),\n",
      " ('THIS_IS_A_URL HASHTAG_trndnl', -0.71717604961607084),\n",
      " ('THIS_IS_A_URL THIS_IS_A_URL', -0.70596333198766803),\n",
      " ('vai', -0.65764374990020846),\n",
      " ('muito', -0.65364718513111386),\n",
      " ('dia', -0.62753882525598581),\n",
      " ('HASHTAG_tdc', -0.60517540876090059),\n",
      " ('te', -0.60282448343122785),\n",
      " ('vida', -0.60091921443958629),\n",
      " ('são', -0.59692771180091531),\n",
      " ('HASHTAG_desesperodaveja', -0.59663402336894777),\n",
      " ('HASHTAG_sabadocomdetremuranosdv THIS_IS_A_URL', -0.58463552728785972),\n",
      " ('depoimento youssef', -0.56982151561713212),\n",
      " ('HASHTAG_sabadocomdetremuranosdv', -0.53889334792797194),\n",
      " ('governo', -0.53457429577087734),\n",
      " ('dilma colocar', -0.51744855965578773),\n",
      " ('mora marte', -0.51654889196006615),\n",
      " ('era governador', -0.51652832153614037)]\n",
      "[('THIS_IS_A_URL HASHTAG_foradilma', 0.401976201671224),\n",
      " ('MENTION HASHTAG_vemprarua', 0.40451646334843472),\n",
      " ('MENTION xainirô', 0.42834103855104366),\n",
      " ('xainirô', 0.42834103855104366),\n",
      " ('xainirô THIS_IS_A_URL', 0.42834103855104366),\n",
      " ('dilma', 0.42970407096438445),\n",
      " ('pt', 0.43841082692130307),\n",
      " ('HASHTAG_forapt HASHTAG_foradilma', 0.44330535544191008),\n",
      " ('MENTION MENTION', 0.4637393202647202),\n",
      " ('HASHTAG_forapt rt', 0.47881008266596436),\n",
      " ('dilma fora', 0.48024935217274017),\n",
      " ('MENTION HASHTAG_forapt', 0.48829336652481242),\n",
      " ('HASHTAG_foradilma MENTION', 0.50423837490523171),\n",
      " ('MENTION HASHTAG_foradilma', 0.59517643060505476),\n",
      " ('HASHTAG_forapt MENTION', 0.73949739019515637),\n",
      " ('rua', 0.85934492717161581),\n",
      " ('HASHTAG_vemprarua16ago THIS_IS_A_URL', 0.97764300114667435),\n",
      " ('HASHTAG_forapt THIS_IS_A_URL', 1.0474917450243171),\n",
      " ('HASHTAG_vemprarua THIS_IS_A_URL', 1.0784894284652506),\n",
      " ('HASHTAG_foradilma THIS_IS_A_URL', 1.1075224539460253),\n",
      " ('vem rua', 1.1381765034479445),\n",
      " ('HASHTAG_foradilma HASHTAG_forapt', 1.3216668520421293),\n",
      " ('fora pt', 1.4284766964205882),\n",
      " ('HASHTAG_foradilmacommafiadosdv', 2.0961815659541929),\n",
      " ('fora', 2.1650741564354221),\n",
      " ('HASHTAG_vemprarua16ago', 2.1675240905876838),\n",
      " ('fora dilma', 2.2064787229538227),\n",
      " ('HASHTAG_vemprarua', 2.895041125461375),\n",
      " ('HASHTAG_foradilma', 4.3427209507833835),\n",
      " ('HASHTAG_forapt', 4.4376727741234401)]\n"
     ]
    }
   ],
   "source": [
    "from pprint import pprint \n",
    "coefs = sorted(zip(vectorizer.get_feature_names(), model_mod.coef_[0]),key=lambda x:x[1])\n",
    "pprint(coefs[:30])\n",
    "pprint(coefs[-30:])"
   ]
  },
  {
   "cell_type": "code",
   "execution_count": 25,
   "metadata": {
    "collapsed": false
   },
   "outputs": [],
   "source": [
    "def do_cv(X, y, nfolds=10):\n",
    "    y = np.array(y)\n",
    "    cv = KFold(len(y), nfolds, shuffle=False)\n",
    "    return np.mean(cross_val_score(LogisticRegression(), X, y, cv=cv))"
   ]
  },
  {
   "cell_type": "code",
   "execution_count": 26,
   "metadata": {
    "collapsed": false
   },
   "outputs": [],
   "source": [
    "def create_feature_vector(iterator, vectorizer_):\n",
    "    y=[]\n",
    "    X = vectorizer_.fit_transform(x[0] for x in iterator if not users.append(x[2]) and not y.append(x[1]))\n",
    "    print('X dimensions=', X.shape)\n",
    "    return X,y"
   ]
  },
  {
   "cell_type": "code",
   "execution_count": 16,
   "metadata": {
    "collapsed": false
   },
   "outputs": [
    {
     "name": "stdout",
     "output_type": "stream",
     "text": [
      "Populating the interactive namespace from numpy and matplotlib\n",
      "(1, 1)\n",
      "X dimensions= (570, 36214)\n",
      "(1, 2)\n",
      "X dimensions= (570, 152438)\n",
      "(2, 2)\n",
      "X dimensions= (570, 116224)\n",
      "(1, 3)\n",
      "X dimensions= (570, 214327)\n",
      "(2, 3)\n",
      "X dimensions= (570, 178113)\n",
      "(3, 3)\n",
      "X dimensions= (570, 61889)\n"
     ]
    },
    {
     "data": {
      "image/png": "[encoded data removed]",
      "text/plain": [
       "<matplotlib.figure.Figure at 0x7fae704b75f8>"
      ]
     },
     "metadata": {},
     "output_type": "display_data"
    }
   ],
   "source": [
    "# How does using ngrams help?\n",
    "import matplotlib.pyplot as plt\n",
    "%pylab inline\n",
    "def compare_ngrams(y):\n",
    "    accuracies = []\n",
    "    ngrams = [(1,1), (1,2), (2,2), (1,3), (2, 3), (3,3)]\n",
    "    for ngram in ngrams:\n",
    "        iterator = iterate_instances(DIR + '/Timeline', keywords, negative_window)\n",
    "        print(ngram)\n",
    "        a=create_feature_vector(iterator, TfidfVectorizer(decode_error='ignore',\n",
    "                             use_idf=True, tokenizer=tokenize, ngram_range=ngram, min_df=5))\n",
    "        accuracies.append(do_cv(a[0],a[1]))\n",
    "    plt.figure()\n",
    "    plt.plot(accuracies, 'bo-')\n",
    "    plt.xticks(range(len(ngrams)), ngrams)\n",
    "    plt.xlabel('ngrams')\n",
    "    plt.ylabel('accuracy')\n",
    "    plt.show()\n",
    "\n",
    "#iterator = iterate_instances(DIR + '/Timeline', keywords, negative_window)\n",
    "compare_ngrams(y)"
   ]
  },
  {
   "cell_type": "code",
   "execution_count": 35,
   "metadata": {
    "collapsed": false
   },
   "outputs": [
    {
     "name": "stdout",
     "output_type": "stream",
     "text": [
      "X dimensions= (548, 1521921)\n",
      "X dimensions= (548, 1521921)\n",
      "X dimensions= (548, 1495657)\n",
      "X dimensions= (548, 272452)\n",
      "X dimensions= (548, 267505)\n",
      "X dimensions= (548, 152244)\n",
      "X dimensions= (548, 149494)\n",
      "X dimensions= (548, 105986)\n",
      "X dimensions= (548, 104084)\n",
      "X dimensions= (548, 80877)\n",
      "X dimensions= (548, 79367)\n",
      "X dimensions= (548, 65322)\n",
      "X dimensions= (548, 64179)\n",
      "X dimensions= (548, 54801)\n",
      "X dimensions= (548, 53817)\n",
      "X dimensions= (548, 46994)\n",
      "X dimensions= (548, 46183)\n",
      "X dimensions= (548, 41162)\n",
      "X dimensions= (548, 40407)\n",
      "X dimensions= (548, 36416)\n"
     ]
    },
    {
     "data": {
      "image/png": "[encoded data removed]",
      "text/plain": [
       "<matplotlib.figure.Figure at 0x7fae6f5e38d0>"
      ]
     },
     "metadata": {},
     "output_type": "display_data"
    }
   ],
   "source": [
    "def compare_mindDF(y):\n",
    "    accuracies = []\n",
    "    for freq in range(20):\n",
    "        iterator = iterate_instances(DIR + '/Timeline', keywords, negative_window)\n",
    "        a=create_feature_vector(iterator, TfidfVectorizer(decode_error='ignore', min_df=freq, max_df=1.,ngram_range=(1,2),\n",
    "                                                          use_idf=True, tokenizer=tokenize))\n",
    "        accuracies.append(do_cv(a[0],a[1]))\n",
    "    plt.figure()\n",
    "    plt.plot(accuracies, 'bo-')\n",
    "    plt.xticks(range(20))\n",
    "    plt.xlabel('minDF')\n",
    "    plt.ylabel('accuracy')\n",
    "    plt.show()\n",
    "compare_mindDF(y)"
   ]
  },
  {
   "cell_type": "code",
   "execution_count": 26,
   "metadata": {
    "collapsed": false
   },
   "outputs": [
    {
     "name": "stdout",
     "output_type": "stream",
     "text": [
      "1.0\n",
      "X dimensions= (570, 36214)\n",
      "0.1\n",
      "X dimensions= (570, 31440)\n",
      "0.05\n",
      "X dimensions= (570, 27253)\n",
      "0.04\n",
      "X dimensions= (570, 25319)\n",
      "0.03\n",
      "X dimensions= (570, 22286)\n",
      "0.02\n",
      "X dimensions= (570, 16507)\n",
      "0.01\n",
      "X dimensions= (570, 313)\n"
     ]
    },
    {
     "data": {
      "image/png": "[encoded data removed]",
      "text/plain": [
       "<matplotlib.figure.Figure at 0x7fae6422ef98>"
      ]
     },
     "metadata": {},
     "output_type": "display_data"
    }
   ],
   "source": [
    "# How does filtering common words affect accuracy?\n",
    "import matplotlib.pyplot as plt\n",
    "\n",
    "def compare_maxdf(y):\n",
    "    accuracies = []\n",
    "    maxdfs = [1., .1, .05, .04, .03, .02, .01]\n",
    "    for freq in maxdfs:\n",
    "        print(freq)\n",
    "        iterator = iterate_instances(DIR + '/Timeline', keywords, negative_window)\n",
    "        a=create_feature_vector(iterator, TfidfVectorizer(decode_error='ignore', max_df=freq, min_df=5, ngram_range=(1,1),\n",
    "                             use_idf=True, tokenizer=tokenize))\n",
    "        accuracies.append(do_cv(a[0],a[1]))\n",
    "    plt.figure()\n",
    "    plt.plot(maxdfs, accuracies, 'bo-')\n",
    "    plt.xlabel('maxdf (fraction)')\n",
    "    plt.ylabel('accuracy')\n",
    "    plt.show()\n",
    "        \n",
    "compare_maxdf(y)"
   ]
  },
  {
   "cell_type": "code",
   "execution_count": 134,
   "metadata": {
    "collapsed": false
   },
   "outputs": [
    {
     "name": "stdout",
     "output_type": "stream",
     "text": [
      "True\n",
      "X dimensions= (570, 184830)\n",
      "False\n",
      "X dimensions= (570, 184830)\n"
     ]
    },
    {
     "data": {
      "image/png": "[encoded data removed]",
      "text/plain": [
       "<matplotlib.figure.Figure at 0x7f42aa53ea90>"
      ]
     },
     "metadata": {},
     "output_type": "display_data"
    }
   ],
   "source": [
    "# Does binary/freq help?\n",
    "def compare_binary(y):\n",
    "    accuracies = []\n",
    "    choices = [True, False]\n",
    "    for choice in choices:\n",
    "        print(choice)\n",
    "        iterator = iterate_instances(DIR + '/Timeline', keywords, negative_window)\n",
    "        a=create_feature_vector(iterator, TfidfVectorizer(decode_error='ignore',\n",
    "                             use_idf=True, tokenizer=tokenize, binary=choice, norm='l2'))\n",
    "        accuracies.append(do_cv(a[0],a[1]))\n",
    "    plt.figure()\n",
    "    plt.plot(accuracies, 'bo-')\n",
    "    plt.xticks([0,1], [str(c) for c in choices])\n",
    "    plt.xlabel('binary')\n",
    "    plt.ylabel('accuracy')\n",
    "    plt.show()\n",
    "        \n",
    "compare_binary(y)"
   ]
  },
  {
   "cell_type": "code",
   "execution_count": 136,
   "metadata": {
    "collapsed": false
   },
   "outputs": [
    {
     "name": "stdout",
     "output_type": "stream",
     "text": [
      "True\n",
      "X dimensions= (570, 184830)\n",
      "False\n",
      "X dimensions= (570, 184830)\n"
     ]
    },
    {
     "data": {
      "image/png": "[encoded data removed]",
      "text/plain": [
       "<matplotlib.figure.Figure at 0x7f42c1503390>"
      ]
     },
     "metadata": {},
     "output_type": "display_data"
    }
   ],
   "source": [
    "# Does idf help?\n",
    "def compare_idf(y):\n",
    "    accuracies = []\n",
    "    choices = [True, False]\n",
    "    for choice in choices:\n",
    "        print(choice)\n",
    "        iterator = iterate_instances(DIR + '/Timeline', keywords, negative_window)\n",
    "        a=create_feature_vector(iterator, TfidfVectorizer(decode_error='ignore',\n",
    "                             use_idf=choice, tokenizer=tokenize, norm='l2'))\n",
    "        accuracies.append(do_cv(a[0],a[1]))\n",
    "    plt.figure()\n",
    "    plt.plot(accuracies, 'bo-')\n",
    "    plt.xticks([0,1], [str(c) for c in choices])\n",
    "    plt.xlabel('binary')\n",
    "    plt.ylabel('use idf?')\n",
    "    plt.show()\n",
    "        \n",
    "compare_idf(y)"
   ]
  },
  {
   "cell_type": "code",
   "execution_count": 30,
   "metadata": {
    "collapsed": false,
    "scrolled": false
   },
   "outputs": [
    {
     "name": "stdout",
     "output_type": "stream",
     "text": [
      "Performing grid search...\n",
      "pipeline: ['vect', 'clf']\n",
      "parameters:\n",
      "{'vect__max_df': (1.0, 0.1, 0.05, 0.04, 0.03, 0.02),\n",
      " 'vect__ngram_range': ((1, 1), (1, 2), (1, 3), (2, 2), (2, 3))}\n",
      "Fitting 10 folds for each of 30 candidates, totalling 300 fits\n"
     ]
    },
    {
     "name": "stderr",
     "output_type": "stream",
     "text": [
      "[Parallel(n_jobs=1)]: Done  49 tasks       | elapsed: 35.0min\n",
      "[Parallel(n_jobs=1)]: Done 199 tasks       | elapsed: 139.3min\n",
      "[Parallel(n_jobs=1)]: Done 300 out of 300 | elapsed: 210.3min finished\n"
     ]
    },
    {
     "name": "stdout",
     "output_type": "stream",
     "text": [
      "done.\n",
      "Best score: 0.949\n",
      "Best parameters set:\n",
      "\tvect__max_df: 1.0\n",
      "\tvect__ngram_range: (1, 1)\n"
     ]
    }
   ],
   "source": [
    "# Do GridSearch on all parameters.\n",
    "\n",
    "pipeline = Pipeline([\n",
    "    ('vect', TfidfVectorizer(decode_error='ignore')),\n",
    "    ('clf', LogisticRegression()),\n",
    "])\n",
    "\n",
    "parameters = {\n",
    "    'vect__ngram_range': ((1, 1), (1, 2), (1, 3),(2,2),(2,3)),  # unigrams or bigrams or trigrams\n",
    "    'vect__max_df':(1., .1, .05, .04, .03, .02),\n",
    "}\n",
    "\n",
    "iterator = after_iterate_instances_changed(DIR + '/Timeline/', keywords, 20,100)\n",
    "data = [item[0] for item in iterator]\n",
    "grid_search = GridSearchCV(pipeline, parameters, verbose=1, cv=KFold(len(y), 10,shuffle=False))\n",
    "\n",
    "print(\"Performing grid search...\")\n",
    "print(\"pipeline:\", [name for name, _ in pipeline.steps])\n",
    "print(\"parameters:\")\n",
    "pprint(parameters)\n",
    "grid_search.fit(data, y)\n",
    "print(\"done.\")\n",
    "\n",
    "print(\"Best score: %0.3f\" % grid_search.best_score_)\n",
    "print(\"Best parameters set:\")\n",
    "best_parameters = grid_search.best_estimator_.get_params()\n",
    "for param_name in sorted(parameters.keys()):\n",
    "    print(\"\\t%s: %r\" % (param_name, best_parameters[param_name]))"
   ]
  },
  {
   "cell_type": "code",
   "execution_count": null,
   "metadata": {
    "collapsed": true
   },
   "outputs": [],
   "source": []
  }
 ],
 "metadata": {
  "kernelspec": {
   "display_name": "Python 3",
   "language": "python",
   "name": "python3"
  },
  "language_info": {
   "codemirror_mode": {
    "name": "ipython",
    "version": 3
   },
   "file_extension": ".py",
   "mimetype": "text/x-python",
   "name": "python",
   "nbconvert_exporter": "python",
   "pygments_lexer": "ipython3",
   "version": "3.4.3"
  }
 },
 "nbformat": 4,
 "nbformat_minor": 0
}
