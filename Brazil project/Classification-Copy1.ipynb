{
 "cells": [
  {
   "cell_type": "code",
   "execution_count": 15,
   "metadata": {
    "collapsed": false
   },
   "outputs": [
    {
     "name": "stdout",
     "output_type": "stream",
     "text": [
      "Populating the interactive namespace from numpy and matplotlib\n"
     ]
    }
   ],
   "source": [
    "import re \n",
    "import string\n",
    "import timestring\n",
    "from sklearn.linear_model import LinearRegression, LogisticRegression\n",
    "from collections import Counter\n",
    "from sklearn.feature_extraction.text import TfidfVectorizer\n",
    "from sklearn.cross_validation import cross_val_score, KFold\n",
    "import glob, os\n",
    "import numpy as np\n",
    "from sklearn import svm\n",
    "from collections import defaultdict\n",
    "from scipy.sparse import csr_matrix\n",
    "import matplotlib.pyplot as plt\n",
    "%pylab inline"
   ]
  },
  {
   "cell_type": "code",
   "execution_count": 28,
   "metadata": {
    "collapsed": true
   },
   "outputs": [],
   "source": [
    "def tokenize(text):\n",
    "    punc_re = '[' + '\\\\!\\\\\"\\\\#\\\\$\\\\%\\\\&\\\\\\'\\\\(\\\\)\\\\*\\\\+\\\\,\\\\-\\\\.\\\\/\\\\:\\\\;\\\\<\\\\=\\\\>\\\\?\\\\@\\\\[\\\\\\\\\\\\]\\\\_\\\\{\\\\|\\\\}' + ']'\n",
    "    text = text.lower()\n",
    "    text = re.sub('#(\\S+)', r'HASHTAG_\\1', text)\n",
    "    text = re.sub('@\\S+', 'MENTION', text)\n",
    "    text = re.sub('http\\S+', 'THIS_IS_A_URL', text)\n",
    "    text = re.sub(r'(.)\\1\\1\\1+', r'\\1', text)\n",
    "    text = re.sub(r'[0-9]', '9', text)\n",
    "    toks = []\n",
    "    for tok in text.split():\n",
    "        tok = re.sub(r'^(' + punc_re + '+)', r'\\1 ', tok)\n",
    "        tok = re.sub(r'(' + punc_re + '+)$', r' \\1', tok)\n",
    "        for subtok in tok.split():\n",
    "            if re.search('\\w', subtok):\n",
    "                toks.append(subtok)\n",
    "    return toks"
   ]
  },
  {
   "cell_type": "code",
   "execution_count": 65,
   "metadata": {
    "collapsed": false
   },
   "outputs": [],
   "source": [
    "vectorizer = TfidfVectorizer(decode_error='ignore',ngram_range=(1, 2), max_df=1., min_df=2,use_idf=True, tokenizer=tokenize)"
   ]
  },
  {
   "cell_type": "code",
   "execution_count": 66,
   "metadata": {
    "collapsed": true
   },
   "outputs": [],
   "source": [
    "DIR = '/data/2/protest'"
   ]
  },
  {
   "cell_type": "code",
   "execution_count": 67,
   "metadata": {
    "collapsed": false
   },
   "outputs": [
    {
     "data": {
      "text/plain": [
       "['foradilma', 'fora dilma', 'forapt', 'fora pt', 'vemprarua', 'vem pra rua']"
      ]
     },
     "execution_count": 67,
     "metadata": {},
     "output_type": "execute_result"
    }
   ],
   "source": [
    "def read_keywords(path):\n",
    "    return [s.strip().lower() for s in open(path)]\n",
    "    \n",
    "keywords = read_keywords(DIR + '/keywords.txt')\n",
    "keywords"
   ]
  },
  {
   "cell_type": "code",
   "execution_count": 68,
   "metadata": {
    "collapsed": false,
    "scrolled": false
   },
   "outputs": [
    {
     "name": "stdout",
     "output_type": "stream",
     "text": [
      "read 570 instances into X matrix with shape (570, 1289249)\n",
      "label distribution= Counter({0: 285, 1: 285})\n",
      "<class 'list'>\n"
     ]
    }
   ],
   "source": [
    "import os, io, json, codecs\n",
    "\n",
    "def matches_keywords(text, keywords):\n",
    "    \"\"\" Return true if any keyword is a substring of this text, ignoring case. \"\"\"\n",
    "    text = text.lower()\n",
    "    for kw in keywords:\n",
    "        if kw in text:\n",
    "            return True\n",
    "    return False\n",
    "\n",
    "def filename2user(fname):\n",
    "    \"\"\"Convert filename like this\n",
    "      /data/2/protest/Timeline/MandinhaSimone.txt.txt\n",
    "    into a username like\n",
    "      MandinhaSimone\n",
    "    \"\"\"\n",
    "    return re.sub(r'^([^\\.]+)\\..+', r'\\1', os.path.basename(fname))\n",
    "\n",
    "def iterate_instances(path, keywords, negative_window):\n",
    "    \"\"\"\n",
    "    Return an iterator over tuples containing:\n",
    "    (concatenated tweet text, label, username)\n",
    "    For each user in path, we find the first tweet containing one of the specified keywords.\n",
    "    We then create one positive instance, containing all tweets prior to the matched tweet.\n",
    "    We also create one negative instance, which is the same as the positive instance, except\n",
    "    the N most recent tweets are removed (where N is set by the negative_window parameter).\n",
    "    We additionally filter users if they use one of the keywords in one of their first `negative_window`\n",
    "    tweets. This is to we have enough tweets to make a negative example.\n",
    "    \"\"\"\n",
    "    for fname in glob.glob(path + '/*.txt'):\n",
    "        user = filename2user(fname)\n",
    "        lines = []\n",
    "        for i, line in enumerate(open(fname)):\n",
    "            js = json.loads(line)\n",
    "            # exclude people who use keyword within first `window` of tweets.\n",
    "            if i <= negative_window and matches_keywords(js['text'], keywords):\n",
    "                #print('skipping', fname, 'because uses keyword in first', negative_window, 'tweets')\n",
    "                break\n",
    "            if i > negative_window and matches_keywords(js['text'], keywords):\n",
    "                yield (' '.join(lines), 1, user)\n",
    "                yield (' '.join(lines[:-negative_window]), 0, user)\n",
    "                break\n",
    "            lines.append(js['text'])\n",
    "            \n",
    "y = []\n",
    "users = []\n",
    "negative_window = 10\n",
    "# The loop below iterates over each instance and vectorizes the text.\n",
    "# Simulataneously, we append to the y (labels) and users lists.\n",
    "# We do this to avoid having to store all the text in memory at once and to \n",
    "# only require one loop through the files.\n",
    "iterator = iterate_instances(DIR + '/Timeline', keywords, negative_window)\n",
    "X = vectorizer.fit_transform(x[0] for x in iterator if not users.append(x[2]) and not y.append(x[1]))\n",
    "print('read %d instances into X matrix with shape %s' % (len(users), str(X.shape)))\n",
    "print('label distribution=', Counter(y))\n",
    "#y = np.array(y)\n",
    "#users = np.array(users)\n",
    "print(type(y))\n",
    "#iterator = iterate_instances(DIR + '/Timeline', keywords, negative_window)\n",
    "#i=list(iterator)\n"
   ]
  },
  {
   "cell_type": "code",
   "execution_count": null,
   "metadata": {
    "collapsed": false
   },
   "outputs": [],
   "source": []
  },
  {
   "cell_type": "code",
   "execution_count": 69,
   "metadata": {
    "collapsed": false
   },
   "outputs": [
    {
     "name": "stdout",
     "output_type": "stream",
     "text": [
      "Average 10-fold cross validation accuracy=0.5070 (std=0.01)\n",
      "accuracy on training data=0.5912\n"
     ]
    }
   ],
   "source": [
    "from sklearn.cross_validation import cross_val_score\n",
    "from sklearn.cross_validation import KFold\n",
    "from sklearn.linear_model import LogisticRegression\n",
    "from sklearn.metrics import accuracy_score\n",
    "y = np.array(y)\n",
    "model_mod = LogisticRegression(penalty='l2', C=2.6)\n",
    "model_mod.fit(X, y)\n",
    "\n",
    "\n",
    "# Compute accuracy\n",
    "def accuracy(truth, predicted):\n",
    "    return (1. * len([1 for tr, pr in zip(truth, predicted) if tr == pr]) / len(truth))\n",
    "\n",
    "# 10 Cross-validation accuracy\n",
    "cv = KFold(len(y), 10, shuffle=False)  # Don't shuffle b/c we don't want a user in both training and testing set.\n",
    "accuracies = []\n",
    "for train_ind, test_ind in cv:\n",
    "    model_mod.fit(X[train_ind],y[train_ind])   \n",
    "    accuracies.append(accuracy_score(y[test_ind], model_mod.predict(X[test_ind])))\n",
    "    \n",
    "print('Average 10-fold cross validation accuracy=%.4f (std=%.2f)' % (np.mean(accuracies), np.std(accuracies)))\n",
    "\n",
    "predicted = model_mod.predict(X)\n",
    "print('accuracy on training data=%.4f' % accuracy(y, predicted))"
   ]
  },
  {
   "cell_type": "code",
   "execution_count": 70,
   "metadata": {
    "collapsed": false
   },
   "outputs": [
    {
     "name": "stdout",
     "output_type": "stream",
     "text": [
      "[('MENTION acredito', -0.57389167443187339),\n",
      " ('acredito', -0.30455655876144622),\n",
      " ('ninguem gosta', -0.22858022845284878),\n",
      " ('um comunista', -0.21080474216813011),\n",
      " ('gosta mais', -0.18869955547649608),\n",
      " ('MENTION ninguem', -0.15390131056937204),\n",
      " ('vica', -0.14499037067039525),\n",
      " ('comunista', -0.1428552875564871),\n",
      " ('dinheiro do', -0.12880089602143444),\n",
      " ('no', -0.11013305513735402),\n",
      " ('da', -0.10454260385136857),\n",
      " ('q', -0.099142601741870506),\n",
      " ('via', -0.097257682262687981),\n",
      " ('ninguem', -0.092612175467488275),\n",
      " ('mais de', -0.091573668831712488),\n",
      " ('via MENTION', -0.086946883741631523),\n",
      " ('do que', -0.086381956522772377),\n",
      " ('oi larissa', -0.084431915986719633),\n",
      " ('THIS_IS_A_URL via', -0.083790964693914699),\n",
      " ('de dinheiro', -0.083396865045283722),\n",
      " ('que um', -0.077659776128477132),\n",
      " ('minha', -0.07427317332657829),\n",
      " ('pra', -0.072343193002620876),\n",
      " ('sua', -0.071354926485293138),\n",
      " ('gosta', -0.071225324510301863),\n",
      " ('mais', -0.07001123363890871),\n",
      " ('MENTION boa', -0.065576857148829104),\n",
      " ('on', -0.059815233005192918),\n",
      " ('HASHTAG_lulanacadeiaja', -0.059422795488672214),\n",
      " ('MENTION bjinhs', -0.058636050428663378)]\n",
      "[('derrotados vocês', 0.17031394566901062),\n",
      " ('humilharam', 0.17031394566901062),\n",
      " ('humilharam os', 0.17031394566901062),\n",
      " ('incompetentes bundões', 0.17031394566901062),\n",
      " ('seus fracos', 0.17031394566901062),\n",
      " ('vocês humilharam', 0.17031394566901062),\n",
      " ('fracos', 0.17261907984982472),\n",
      " ('para', 0.17653734952627503),\n",
      " ('pt', 0.17947286564412018),\n",
      " ('caiado', 0.17948410214205204),\n",
      " ('panelaço', 0.17964941478895721),\n",
      " ('HASHTAG_avpaulista', 0.1805198666672912),\n",
      " ('petistas que', 0.18090615410257341),\n",
      " ('todos às', 0.18181014652291985),\n",
      " ('o', 0.18727702417473835),\n",
      " ('HASHTAG_sabadocomdetremuranosdv THIS_IS_A_URL', 0.18882649017078365),\n",
      " ('bundões', 0.19818215105797191),\n",
      " ('fracos incompetentes', 0.19818215105797191),\n",
      " ('HASHTAG_sabadodetremuranosdv', 0.19915590059194418),\n",
      " ('HASHTAG_favquetesigosemfrescura', 0.20547859259670043),\n",
      " ('e', 0.21381682914264497),\n",
      " ('HASHTAG_vaiadilma', 0.23723608798083728),\n",
      " ('MENTION', 0.25662503482324567),\n",
      " ('a', 0.30256487676677524),\n",
      " ('panelinhas', 0.32310858143408633),\n",
      " ('MENTION MENTION', 0.3436320009592454),\n",
      " ('dilma', 0.36355173299628551),\n",
      " ('THIS_IS_A_URL rt', 0.45841688380205081),\n",
      " ('HASHTAG_lulanacadeia', 0.47187568819920162),\n",
      " ('THIS_IS_A_URL', 0.50282541288561922)]\n"
     ]
    }
   ],
   "source": [
    "from pprint import pprint \n",
    "coefs = sorted(zip(vectorizer.get_feature_names(), model_mod.coef_[0]),key=lambda x:x[1])\n",
    "pprint(coefs[:30])\n",
    "pprint(coefs[-30:])"
   ]
  },
  {
   "cell_type": "markdown",
   "metadata": {},
   "source": [
    "Results:\n",
    "\n",
    "| negative_window      |   train acc  | test acc | n users |\n",
    "| -------------------- | ------------ | -------- | ------- |\n",
    "| 10                   | .591         | .507     | 285     |\n",
    "| 20                   | .610         | .509     | 274     |\n",
    "| 30                   | .614         | .515     | 264     |"
   ]
  },
  {
   "cell_type": "code",
   "execution_count": 11,
   "metadata": {
    "collapsed": false
   },
   "outputs": [],
   "source": [
    "from sklearn.cross_validation import cross_val_score\n",
    "from sklearn.cross_validation import KFold\n",
    "from sklearn.linear_model import LogisticRegression\n",
    "\n",
    "def do_cv(X, y, nfolds=10):\n",
    "    y = np.array(y)\n",
    "    cv = KFold(len(y), nfolds, shuffle=False)\n",
    "    return np.mean(cross_val_score(LogisticRegression(), X, y, cv=cv))\n",
    "  \n",
    "#print(do_cv(X, y))"
   ]
  },
  {
   "cell_type": "code",
   "execution_count": 12,
   "metadata": {
    "collapsed": false
   },
   "outputs": [],
   "source": [
    "def create_feature_vector(iterator, vectorizer_):\n",
    "    y=[]\n",
    "    X = vectorizer_.fit_transform(x[0] for x in iterator if not users.append(x[2]) and not y.append(x[1]))\n",
    "    print('X dimensions=', X.shape)\n",
    "    return X,y"
   ]
  },
  {
   "cell_type": "code",
   "execution_count": 16,
   "metadata": {
    "collapsed": false
   },
   "outputs": [
    {
     "name": "stdout",
     "output_type": "stream",
     "text": [
      "Populating the interactive namespace from numpy and matplotlib\n",
      "(1, 1)\n",
      "X dimensions= (570, 36214)\n",
      "(1, 2)\n",
      "X dimensions= (570, 152438)\n",
      "(2, 2)\n",
      "X dimensions= (570, 116224)\n",
      "(1, 3)\n",
      "X dimensions= (570, 214327)\n",
      "(2, 3)\n",
      "X dimensions= (570, 178113)\n",
      "(3, 3)\n",
      "X dimensions= (570, 61889)\n"
     ]
    },
    {
     "data": {
      "image/png": "[encoded data removed]",
      "text/plain": [
       "<matplotlib.figure.Figure at 0x7fae704b75f8>"
      ]
     },
     "metadata": {},
     "output_type": "display_data"
    }
   ],
   "source": [
    "# How does using ngrams help?\n",
    "def compare_ngrams(y):\n",
    "    accuracies = []\n",
    "    ngrams = [(1,1), (1,2), (2,2), (1,3), (2, 3), (3,3)]\n",
    "    for ngram in ngrams:\n",
    "        iterator = iterate_instances(DIR + '/Timeline', keywords, negative_window)\n",
    "        print(ngram)\n",
    "        a=create_feature_vector(iterator, TfidfVectorizer(decode_error='ignore',\n",
    "                             use_idf=True, tokenizer=tokenize, ngram_range=ngram, min_df=5))\n",
    "        accuracies.append(do_cv(a[0],a[1]))\n",
    "    plt.figure()\n",
    "    plt.plot(accuracies, 'bo-')\n",
    "    plt.xticks(range(len(ngrams)), ngrams)\n",
    "    plt.xlabel('ngrams')\n",
    "    plt.ylabel('accuracy')\n",
    "    plt.show()\n",
    "\n",
    "#iterator = iterate_instances(DIR + '/Timeline', keywords, negative_window)\n",
    "compare_ngrams(y)"
   ]
  },
  {
   "cell_type": "code",
   "execution_count": 23,
   "metadata": {
    "collapsed": false
   },
   "outputs": [
    {
     "name": "stdout",
     "output_type": "stream",
     "text": [
      "X dimensions= (518, 179177)\n",
      "0.540648567119\n",
      "X dimensions= (518, 179177)\n",
      "0.540648567119\n",
      "X dimensions= (518, 173511)\n",
      "0.536802413273\n",
      "X dimensions= (518, 48769)\n",
      "0.529034690799\n",
      "X dimensions= (518, 47240)\n",
      "0.534803921569\n",
      "X dimensions= (518, 30837)\n",
      "0.536764705882\n",
      "X dimensions= (518, 29878)\n",
      "0.536689291101\n",
      "X dimensions= (518, 22731)\n",
      "0.530957767722\n",
      "X dimensions= (518, 22025)\n",
      "0.532918552036\n",
      "X dimensions= (518, 17825)\n",
      "0.527073906486\n",
      "X dimensions= (518, 17230)\n",
      "0.530957767722\n",
      "X dimensions= (518, 14536)\n",
      "0.534841628959\n",
      "X dimensions= (518, 14063)\n",
      "0.540648567119\n",
      "X dimensions= (518, 12149)\n",
      "0.534917043741\n",
      "X dimensions= (518, 11739)\n",
      "0.538687782805\n",
      "X dimensions= (518, 10290)\n",
      "0.534841628959\n",
      "X dimensions= (518, 9927)\n",
      "0.534841628959\n",
      "X dimensions= (518, 8749)\n",
      "0.540648567119\n",
      "X dimensions= (518, 8424)\n",
      "0.540610859729\n",
      "X dimensions= (518, 7479)\n",
      "0.536764705882\n"
     ]
    },
    {
     "data": {
      "image/png": "[encoded data removed]",
      "text/plain": [
       "<matplotlib.figure.Figure at 0x7f7a7c37fe48>"
      ]
     },
     "metadata": {},
     "output_type": "display_data"
    }
   ],
   "source": [
    "def compare_mindDF(y):\n",
    "    a=None\n",
    "    accuracies = []\n",
    "    for freq in range(20):\n",
    "        iterator = iterate_instances(DIR + '/Timeline', keywords, negative_window)\n",
    "        a=create_feature_vector(iterator, TfidfVectorizer(decode_error='ignore', min_df=freq, ngram_range=(1,1),\n",
    "                                                          max_df= 0.1, use_idf=True, tokenizer=tokenize))\n",
    "        acc=do_cv(a[0],a[1])\n",
    "        print(acc)\n",
    "        accuracies.append(acc)\n",
    "    plt.figure()\n",
    "    plt.plot(accuracies, 'bo-')\n",
    "    plt.xticks(range(20))\n",
    "    plt.xlabel('minDF')\n",
    "    plt.ylabel('accuracy')\n",
    "    plt.show()\n",
    "compare_mindDF(y)"
   ]
  },
  {
   "cell_type": "code",
   "execution_count": 26,
   "metadata": {
    "collapsed": false
   },
   "outputs": [
    {
     "name": "stdout",
     "output_type": "stream",
     "text": [
      "1.0\n",
      "X dimensions= (570, 36214)\n",
      "0.1\n",
      "X dimensions= (570, 31440)\n",
      "0.05\n",
      "X dimensions= (570, 27253)\n",
      "0.04\n",
      "X dimensions= (570, 25319)\n",
      "0.03\n",
      "X dimensions= (570, 22286)\n",
      "0.02\n",
      "X dimensions= (570, 16507)\n",
      "0.01\n",
      "X dimensions= (570, 313)\n"
     ]
    },
    {
     "data": {
      "image/png": "[encoded data removed]",
      "text/plain": [
       "<matplotlib.figure.Figure at 0x7fae6422ef98>"
      ]
     },
     "metadata": {},
     "output_type": "display_data"
    }
   ],
   "source": [
    "# How does filtering common words affect accuracy?\n",
    "import matplotlib.pyplot as plt\n",
    "\n",
    "def compare_maxdf(y):\n",
    "    accuracies = []\n",
    "    maxdfs = [1., .1, .05, .04, .03, .02, .01]\n",
    "    for freq in maxdfs:\n",
    "        print(freq)\n",
    "        iterator = iterate_instances(DIR + '/Timeline', keywords, negative_window)\n",
    "        a=create_feature_vector(iterator, TfidfVectorizer(decode_error='ignore', max_df=freq, min_df=5, ngram_range=(1,1),\n",
    "                             use_idf=True, tokenizer=tokenize))\n",
    "        accuracies.append(do_cv(a[0],a[1]))\n",
    "    plt.figure()\n",
    "    plt.plot(maxdfs, accuracies, 'bo-')\n",
    "    plt.xlabel('maxdf (fraction)')\n",
    "    plt.ylabel('accuracy')\n",
    "    plt.show()\n",
    "        \n",
    "compare_maxdf(y)"
   ]
  },
  {
   "cell_type": "code",
   "execution_count": 134,
   "metadata": {
    "collapsed": false
   },
   "outputs": [
    {
     "name": "stdout",
     "output_type": "stream",
     "text": [
      "True\n",
      "X dimensions= (570, 184830)\n",
      "False\n",
      "X dimensions= (570, 184830)\n"
     ]
    },
    {
     "data": {
      "image/png": "[encoded data removed]",
      "text/plain": [
       "<matplotlib.figure.Figure at 0x7f42aa53ea90>"
      ]
     },
     "metadata": {},
     "output_type": "display_data"
    }
   ],
   "source": [
    "# Does binary/freq help?\n",
    "def compare_binary(y):\n",
    "    accuracies = []\n",
    "    choices = [True, False]\n",
    "    for choice in choices:\n",
    "        print(choice)\n",
    "        iterator = iterate_instances(DIR + '/Timeline', keywords, negative_window)\n",
    "        a=create_feature_vector(iterator, TfidfVectorizer(decode_error='ignore',\n",
    "                             use_idf=True, tokenizer=tokenize, binary=choice, norm='l2'))\n",
    "        accuracies.append(do_cv(a[0],a[1]))\n",
    "    plt.figure()\n",
    "    plt.plot(accuracies, 'bo-')\n",
    "    plt.xticks([0,1], [str(c) for c in choices])\n",
    "    plt.xlabel('binary')\n",
    "    plt.ylabel('accuracy')\n",
    "    plt.show()\n",
    "        \n",
    "compare_binary(y)"
   ]
  },
  {
   "cell_type": "code",
   "execution_count": 136,
   "metadata": {
    "collapsed": false
   },
   "outputs": [
    {
     "name": "stdout",
     "output_type": "stream",
     "text": [
      "True\n",
      "X dimensions= (570, 184830)\n",
      "False\n",
      "X dimensions= (570, 184830)\n"
     ]
    },
    {
     "data": {
      "image/png": "[encoded data removed]",
      "text/plain": [
       "<matplotlib.figure.Figure at 0x7f42c1503390>"
      ]
     },
     "metadata": {},
     "output_type": "display_data"
    }
   ],
   "source": [
    "# Does idf help?\n",
    "def compare_idf(y):\n",
    "    accuracies = []\n",
    "    choices = [True, False]\n",
    "    for choice in choices:\n",
    "        print(choice)\n",
    "        iterator = iterate_instances(DIR + '/Timeline', keywords, negative_window)\n",
    "        a=create_feature_vector(iterator, TfidfVectorizer(decode_error='ignore',\n",
    "                             use_idf=choice, tokenizer=tokenize, norm='l2'))\n",
    "        accuracies.append(do_cv(a[0],a[1]))\n",
    "    plt.figure()\n",
    "    plt.plot(accuracies, 'bo-')\n",
    "    plt.xticks([0,1], [str(c) for c in choices])\n",
    "    plt.xlabel('binary')\n",
    "    plt.ylabel('use idf?')\n",
    "    plt.show()\n",
    "        \n",
    "compare_idf(y)"
   ]
  },
  {
   "cell_type": "code",
   "execution_count": 7,
   "metadata": {
    "collapsed": false,
    "scrolled": false
   },
   "outputs": [
    {
     "name": "stderr",
     "output_type": "stream",
     "text": [
      "[Parallel(n_jobs=1)]: Done   1 jobs       | elapsed:    7.7s\n",
      "[Parallel(n_jobs=1)]: Done  50 jobs       | elapsed: 28.0min\n",
      "[Parallel(n_jobs=1)]: Done 200 jobs       | elapsed: 109.1min\n",
      "[Parallel(n_jobs=1)]: Done 300 out of 300 | elapsed: 161.5min finished\n"
     ]
    },
    {
     "name": "stdout",
     "output_type": "stream",
     "text": [
      "Performing grid search...\n",
      "pipeline: ['vect', 'clf']\n",
      "parameters:\n",
      "{'vect__max_df': (1.0, 0.1, 0.05, 0.04, 0.03, 0.02),\n",
      " 'vect__ngram_range': ((1, 1), (1, 2), (1, 3), (2, 2), (2, 3))}\n",
      "Fitting 10 folds for each of 30 candidates, totalling 300 fits\n",
      "done.\n",
      "Best score: 0.546\n",
      "Best parameters set:\n",
      "\tvect__max_df: 0.1\n",
      "\tvect__ngram_range: (1, 1)\n"
     ]
    }
   ],
   "source": [
    "# Do GridSearch on all parameters.\n",
    "from sklearn.grid_search import GridSearchCV\n",
    "from sklearn.pipeline import Pipeline\n",
    "from pprint import pprint\n",
    "\n",
    "#yy=np.array(y)\n",
    "pipeline = Pipeline([\n",
    "    ('vect', TfidfVectorizer(decode_error='ignore')),\n",
    "    ('clf', LogisticRegression()),\n",
    "])\n",
    "\n",
    "parameters = {\n",
    "    #'vect__min_df': (1, 2, 3, 4, 5,6,7,8),\n",
    "    'vect__ngram_range': ((1, 1), (1, 2), (1, 3),(2,2),(2,3)),  # unigrams or bigrams or trigrams\n",
    "    #'vect__use_idf': (True, False),\n",
    "    'vect__max_df':(1., .1, .05, .04, .03, .02),\n",
    "    #'vect__tokenizer':(None, tokenize)\n",
    "}\n",
    "\n",
    "iterator = iterate_instances(DIR + '/Timeline', keywords, negative_window)\n",
    "data = [item[0] for item in i]\n",
    "grid_search = GridSearchCV(pipeline, parameters, verbose=1, cv=KFold(len(y), 10,shuffle=False))\n",
    "\n",
    "print(\"Performing grid search...\")\n",
    "print(\"pipeline:\", [name for name, _ in pipeline.steps])\n",
    "print(\"parameters:\")\n",
    "pprint(parameters)\n",
    "grid_search.fit(data, y)\n",
    "print(\"done.\")\n",
    "\n",
    "print(\"Best score: %0.3f\" % grid_search.best_score_)\n",
    "print(\"Best parameters set:\")\n",
    "best_parameters = grid_search.best_estimator_.get_params()\n",
    "for param_name in sorted(parameters.keys()):\n",
    "    print(\"\\t%s: %r\" % (param_name, best_parameters[param_name]))"
   ]
  },
  {
   "cell_type": "code",
   "execution_count": null,
   "metadata": {
    "collapsed": false
   },
   "outputs": [],
   "source": [
    "len(i)"
   ]
  },
  {
   "cell_type": "code",
   "execution_count": null,
   "metadata": {
    "collapsed": false
   },
   "outputs": [],
   "source": []
  },
  {
   "cell_type": "code",
   "execution_count": null,
   "metadata": {
    "collapsed": true
   },
   "outputs": [],
   "source": []
  }
 ],
 "metadata": {
  "kernelspec": {
   "display_name": "Python 3",
   "language": "python",
   "name": "python3"
  },
  "language_info": {
   "codemirror_mode": {
    "name": "ipython",
    "version": 3
   },
   "file_extension": ".py",
   "mimetype": "text/x-python",
   "name": "python",
   "nbconvert_exporter": "python",
   "pygments_lexer": "ipython3",
   "version": "3.4.3"
  }
 },
 "nbformat": 4,
 "nbformat_minor": 0
}
