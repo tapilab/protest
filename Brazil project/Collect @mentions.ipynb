{
 "cells": [
  {
   "cell_type": "code",
   "execution_count": 1,
   "metadata": {
    "collapsed": true
   },
   "outputs": [],
   "source": [
    "DIR = 'C:/Users/Elaine/Desktop/TCC/all timeline/'\n",
    "import os,glob, io\n",
    "import json\n",
    "import re\n",
    "import random"
   ]
  },
  {
   "cell_type": "code",
   "execution_count": null,
   "metadata": {
    "collapsed": false,
    "scrolled": true
   },
   "outputs": [],
   "source": [
    "os.chdir(DIR)\n",
    "mentions=[]\n",
    "mentions_perUser = []\n",
    "\n",
    "for file in glob.glob(\"*.txt\"):\n",
    "    print 'file ', file, '\\n'\n",
    "    with io.open(DIR+file,'r',encoding=\"utf-8\") as f:\n",
    "        for line in  f.readlines():\n",
    "            tweet= json.loads(line)\n",
    "            if '@' in tweet['text']:\n",
    "                #print tweet['text']\n",
    "                for part in tweet['text'].split():\n",
    "                    if \"@\" in part:\n",
    "                        #print part\n",
    "                        try:\n",
    "                            text = str(part)\n",
    "                        except:\n",
    "                            continue\n",
    "                        text = text.translate(None, \";-+!?\\\"@#$%^&*()/\\[]:\")\n",
    "                        #text = re.sub(r'(' + punc_re + '+)$', r' \\1', tok)\n",
    "                        if len(text) < 15:#maximum size of a user name is 20\n",
    "                            mentions.append(text) \n",
    "        mentions_perUser=random.sample(set(mentions),10)\n",
    "        mentions = []\n",
    "        for f in mentions_perUser:\n",
    "            #print f\n",
    "            get_timeline(f)\n",
    "        "
   ]
  },
  {
   "cell_type": "code",
   "execution_count": 28,
   "metadata": {
    "collapsed": false
   },
   "outputs": [
    {
     "name": "stdout",
     "output_type": "stream",
     "text": [
      "<_sre.SRE_Match object at 0x0000000006E5B1D0>\n"
     ]
    }
   ],
   "source": [
    "text = ''\n",
    "text = re.sub('', r' \\1', tok)\n"
   ]
  },
  {
   "cell_type": "code",
   "execution_count": 24,
   "metadata": {
    "collapsed": false
   },
   "outputs": [
    {
     "name": "stdout",
     "output_type": "stream",
     "text": [
      "elainehttwojcj.comss\n"
     ]
    }
   ],
   "source": [
    "text = '@elaine:htt[://wojcj.comss'\n",
    "text = text.translate(None, \"[]!@#$%^&*()//:\")\n",
    "print text\n",
    "if len(text) < 20:\n",
    "    print text"
   ]
  },
  {
   "cell_type": "code",
   "execution_count": 9,
   "metadata": {
    "collapsed": true
   },
   "outputs": [],
   "source": [
    "import io \n",
    "from TwitterAPI import TwitterAPI\n",
    "from TwitterAPI import TwitterRequestError\n",
    "from TwitterAPI import TwitterConnectionError\n",
    "import json\n",
    "import glob, os\n",
    "import time\n",
    "\n",
    "api = TwitterAPI(\"IwwzYhMQOY42t6pseaNKeTuMm\", \n",
    "\"qbmPysSls2lQ5ikuB3ruPKai9wSPacIjd8iVCsf95nQTchdwRd\", \n",
    "\"2775525967-hlnZ74NVMwDOoh1ceYvsJKVWPxPNLpx7c7Np8gp\", \n",
    "\"fHu3p5psMq5hLJRmhUkaMP1ngjiJZNPsgKNp3MpuFJw9S\")\n",
    "\n",
    "\"\"\"api = TwitterAPI(\"420P5d0Q1ptYHhugHAJmY9XHO\",\n",
    "\"FoW4I0LEguVa8KkxGizf94UBDis5cfxG0kERtd823t8EwdEJZV\",\n",
    "\"2775525967-jpumdnG9FaLpEbmJWfWvWlqItsrNr07ILJebhx3\",\n",
    "\"YMMKnvJOS1JByaA0JMPnHnfpGvkopcbE4wXUU6YqoYhgi\")\"\"\"\n",
    "\n",
    "def get_timeline(screen_name, limit=16):\n",
    "    \n",
    "    max_id = None\n",
    "    lim = 0\n",
    "    \n",
    "    import fnmatch\n",
    "    import os\n",
    "\n",
    "    for file in os.listdir('C:/Users/Elaine/Desktop/TCC/mentions/'):\n",
    "        if fnmatch.fnmatch(screen_name, '*.txt'):\n",
    "            return\n",
    "\n",
    "    \n",
    "    user = 'C:/Users/Elaine/Desktop/TCC/mentions/'+screen_name + \".txt\"\n",
    "    file = io.open(user, mode='w+', encoding='utf-8')\n",
    "    while (lim<limit):\n",
    "            \n",
    "            try:\n",
    "                if max_id:\n",
    "                    response = api.request('statuses/user_timeline', {'screen_name': screen_name, 'count': 200, 'max_id': max_id})\n",
    "                else:\n",
    "                    response = api.request('statuses/user_timeline', {'screen_name': screen_name, 'count': 200})\n",
    "                if response.status_code == 200:\n",
    "                    items = [t for t in response]\n",
    "                #response.content.partition('(')[-1].rpartition(')')[0]\n",
    "                 \n",
    "                    if len(items) == 0:\n",
    "                        return\n",
    "                    else:\n",
    "                        for item in items:\n",
    "                            file.write(json.dumps(item, ensure_ascii=False, encoding='utf-8') + u\"\\n\")\n",
    "                            \n",
    "                                         \n",
    "                    max_id = min(t['id'] for t in response) - 1\n",
    "                    lim += 1\n",
    "                elif response.status_code == 429:\n",
    "                    print \"something wrong, sleeping\"\n",
    "                    time.sleep(300)\n",
    "                    print \"sleep time is over\"\n",
    "                elif response.status_code == 401 or response.status_code == 404 or response.status_code == 34:\n",
    "                    print \"unauthorized\"\n",
    "                    return\n",
    "               \n",
    "                 \n",
    "            except TwitterRequestError as e:\n",
    "                print str(e) \n",
    "            except TwitterConnectionError as er:\n",
    "                print str(er)"
   ]
  },
  {
   "cell_type": "code",
   "execution_count": 38,
   "metadata": {
    "collapsed": false,
    "scrolled": true
   },
   "outputs": [
    {
     "name": "stdout",
     "output_type": "stream",
     "text": [
      "something wrong, sleeping\n",
      "sleep time is over\n",
      "something wrong, sleeping\n",
      "sleep time is over\n",
      "unauthorized\n",
      "something wrong, sleeping\n",
      "sleep time is over\n",
      "something wrong, sleeping\n",
      "sleep time is over\n"
     ]
    }
   ],
   "source": [
    "for f in random.sample(set(mentions[11000:12000]),30):\n",
    "    get_timeline(f)"
   ]
  },
  {
   "cell_type": "code",
   "execution_count": 58,
   "metadata": {
    "collapsed": false
   },
   "outputs": [
    {
     "data": {
      "text/plain": [
       "[u'@csanjel1:', u'@BotafogoOficial:', u'@desihdzleon']"
      ]
     },
     "execution_count": 58,
     "metadata": {},
     "output_type": "execute_result"
    }
   ],
   "source": [
    "random.sample(mentions, 3)"
   ]
  },
  {
   "cell_type": "code",
   "execution_count": 20,
   "metadata": {
    "collapsed": false
   },
   "outputs": [
    {
     "data": {
      "text/plain": [
       "{'\"Qir43w0XiGT3gQg',\n",
       " '\"salimgalodoido',\n",
       " '0686966667ff496',\n",
       " '16AgoEuVou',\n",
       " 'AMdeAlcantara',\n",
       " 'AcordouAcordou',\n",
       " 'Acuio',\n",
       " 'AdrianaCammargo',\n",
       " 'AdrianaSerpa1',\n",
       " 'Anaviazan',\n",
       " 'Andarilhaaa',\n",
       " 'ArtInovar',\n",
       " 'Ary_AntiPT',\n",
       " 'AvSoberano',\n",
       " 'BR45IL100PT',\n",
       " 'BeaBia2015',\n",
       " 'BetoCosta__',\n",
       " 'BlogDoPim',\n",
       " 'BoscoPessoa',\n",
       " 'BrunnoBoy',\n",
       " 'CarlosBrickmann',\n",
       " 'Claudiadabreu12',\n",
       " 'ClaudioMachado',\n",
       " 'CleberBuneko',\n",
       " 'CleideWilliam',\n",
       " 'Costaleudo',\n",
       " 'CubaSinFrontera',\n",
       " 'DecioNeves',\n",
       " 'Dellacorte1311',\n",
       " 'DeltanMD',\n",
       " 'DilmaZueira',\n",
       " 'Estadao',\n",
       " 'EstranhoSemNome',\n",
       " 'HARCKANJO',\n",
       " 'Hellblazer2014',\n",
       " 'Ihamma_1',\n",
       " 'JBarbosa2014',\n",
       " 'Jackeline_Motta',\n",
       " 'Kasuleka',\n",
       " 'LuanaDaTV',\n",
       " 'MCCNacional',\n",
       " 'MaEducacao',\n",
       " 'Miranda50sonia',\n",
       " 'O_Caustico',\n",
       " 'OdeCarvalho',\n",
       " 'Oilleer',\n",
       " 'OrganizadAntiPT',\n",
       " 'PAULOPARMM',\n",
       " 'PaulistaEuVou',\n",
       " 'Qir43w0XiGT3gQg',\n",
       " 'RTcartamaior',\n",
       " 'RomarioOnze',\n",
       " 'SakaSakamori',\n",
       " 'SandraARomano',\n",
       " 'Tom_brz',\n",
       " 'VemPraRua16Ago',\n",
       " 'WellKonkel',\n",
       " 'Xicohria',\n",
       " 'ababisi',\n",
       " 'advpaulak',\n",
       " 'ajax0ba',\n",
       " 'albuquerquejr',\n",
       " 'as_sousa',\n",
       " 'belemtransito',\n",
       " 'benhuralbuq',\n",
       " 'blogdojosias',\n",
       " 'br45ilnocorrupt',\n",
       " 'brendacarames',\n",
       " 'capslock_io',\n",
       " 'cartamaior',\n",
       " 'cbonlinedf',\n",
       " 'chicocasado',\n",
       " 'coroneldoblog',\n",
       " 'cunha_edison',\n",
       " 'deFreitasMarcia',\n",
       " 'estadao',\n",
       " 'g1',\n",
       " 'gazetaonline',\n",
       " 'infraton',\n",
       " 'ivonizio',\n",
       " 'jackieaus',\n",
       " 'juniorpitangui',\n",
       " 'lobaoeletrico',\n",
       " 'lymadenis',\n",
       " 'mararubiamedes',\n",
       " 'marcoskinka87',\n",
       " 'maria_lima',\n",
       " 'marisascruz',\n",
       " 'matheusbrazmatt',\n",
       " 'mfmateus',\n",
       " 'monikalive',\n",
       " 'muylaerte',\n",
       " 'nzmendes1',\n",
       " 'o_antagonista',\n",
       " 'ofiltro',\n",
       " 'onyxlorenzoni',\n",
       " 'prosapolitica',\n",
       " 'revoltadoonline',\n",
       " 'roxmo',\n",
       " 'salimgalodoido',\n",
       " 'sibamanchado13',\n",
       " 'silva_jarbas',\n",
       " 'taniaoliveira_',\n",
       " 'tuitaco7set',\n",
       " 'w4wendetta',\n",
       " 'wseijo',\n",
       " 'xyzw12341'}"
      ]
     },
     "execution_count": 20,
     "metadata": {},
     "output_type": "execute_result"
    }
   ],
   "source": [
    "set(mentions[:200])"
   ]
  },
  {
   "cell_type": "code",
   "execution_count": null,
   "metadata": {
    "collapsed": true
   },
   "outputs": [],
   "source": []
  }
 ],
 "metadata": {
  "kernelspec": {
   "display_name": "Python 2",
   "language": "python",
   "name": "python2"
  },
  "language_info": {
   "codemirror_mode": {
    "name": "ipython",
    "version": 2
   },
   "file_extension": ".py",
   "mimetype": "text/x-python",
   "name": "python",
   "nbconvert_exporter": "python",
   "pygments_lexer": "ipython2",
   "version": "2.7.9"
  }
 },
 "nbformat": 4,
 "nbformat_minor": 0
}
