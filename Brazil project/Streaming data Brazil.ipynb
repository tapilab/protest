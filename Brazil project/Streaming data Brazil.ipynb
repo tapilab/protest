{
 "cells": [
  {
   "cell_type": "code",
   "execution_count": null,
   "metadata": {
    "collapsed": false
   },
   "outputs": [],
   "source": [
    "import sys\n",
    "import tweepy\n",
    "import json\n",
    "import io\n",
    "\n",
    "consumer_key=\"IwwzYhMQOY42t6pseaNKeTuMm\"\n",
    "consumer_secret=\"qbmPysSls2lQ5ikuB3ruPKai9wSPacIjd8iVCsf95nQTchdwRd\"\n",
    "access_key=\"2775525967-hlnZ74NVMwDOoh1ceYvsJKVWPxPNLpx7c7Np8gp\"\n",
    "access_secret=\"fHu3p5psMq5hLJRmhUkaMP1ngjiJZNPsgKNp3MpuFJw9S\"\n",
    "\n",
    "auth = tweepy.OAuthHandler(consumer_key, consumer_secret)\n",
    "auth.set_access_token(access_key, access_secret)\n",
    "api = tweepy.API(auth)\n",
    "\n",
    "class CustomStreamListener(tweepy.StreamListener):\n",
    "    \n",
    "    def on_status(self, status):\n",
    "        with io.open( 'file_test15.json',  mode='a+',encoding='utf-8' ) as theFile:            \n",
    "            #if 'dilma' or 'lava-jato' or 'petrolão'or'petrolao' or  'lavajato' or 'pt' or  in status.text.lower():\n",
    "                #print status._json\n",
    "                #print status.place.country\n",
    "                #print status.text\n",
    "                #print status, '\\n'\n",
    "                \n",
    "                if status.place != None:\n",
    "                    if status.place.country == 'Brasil' and status.lang == 'pt' or status.place.country_code == 'BR':\n",
    "                        #print 'test'\n",
    "                        var = status._json\n",
    "                        theFile.write(json.dumps(var, ensure_ascii=False,encoding='utf-8') + '\\n')\n",
    "                    #theFile.write(json.dumps('\\n',ensure_ascii=False,encoding='utf-8'))\n",
    "            \n",
    "\n",
    "    def on_error(self, status_code):\n",
    "        print >> sys.stderr, 'Encountered error with status code:', status_code\n",
    "        return True # Don't kill the stream\n",
    "\n",
    "    def on_timeout(self):\n",
    "        print >> sys.stderr, 'Timeout...'\n",
    "        return True # Don't kill the stream\n",
    "\n",
    "while True:\n",
    "    try:\n",
    "        sapi = tweepy.streaming.Stream(auth, CustomStreamListener()) \n",
    "        sapi.filter(locations=[ -73.817 , -33.733 , -28.850 ,  16.800 ],track=['#vemprarua16deagosto','#vemprarua','#acordabrasil','#Panela&#231co6Ago','#Tuita&#231co6AGO','#ForaDILMA', '#16Ago','#ForaPT','#ImpeachmentDilma','dilma' ,'petrol&#126ao', 'corrup&#231c&#126ao', 'lavajato', 'pt' ])\n",
    "    except: \n",
    "        continue\n",
    "\n",
    "#sapi.filter( lang=pt, country=Brasil)\n",
    "#sapi.filter()#5.26486, -28.839041, -33.750702, -73.985527])#-6.38,49.87,1.77,55.81])"
   ]
  },
  {
   "cell_type": "code",
   "execution_count": 10,
   "metadata": {
    "collapsed": true
   },
   "outputs": [],
   "source": [
    "import codecs, json\n",
    "with codecs.open('data.json', 'w', 'utf8') as f:\n",
    "     f.write(json.dumps('testen;a', sort_keys = True, ensure_ascii=False))"
   ]
  },
  {
   "cell_type": "code",
   "execution_count": null,
   "metadata": {
    "collapsed": true
   },
   "outputs": [],
   "source": []
  }
 ],
 "metadata": {
  "kernelspec": {
   "display_name": "Python 2",
   "language": "python",
   "name": "python2"
  },
  "language_info": {
   "codemirror_mode": {
    "name": "ipython",
    "version": 2
   },
   "file_extension": ".py",
   "mimetype": "text/x-python",
   "name": "python",
   "nbconvert_exporter": "python",
   "pygments_lexer": "ipython2",
   "version": "2.7.9"
  }
 },
 "nbformat": 4,
 "nbformat_minor": 0
}
