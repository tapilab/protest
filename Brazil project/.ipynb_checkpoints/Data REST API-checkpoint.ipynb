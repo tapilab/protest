{
 "cells": [
  {
   "cell_type": "code",
   "execution_count": 34,
   "metadata": {
    "collapsed": false,
    "scrolled": true
   },
   "outputs": [
    {
     "name": "stdout",
     "output_type": "stream",
     "text": [
      "Nao sei o que sentir após esse epi de pll \n",
      "\n",
      "{\"contributors\": null, \"truncated\": false, \"text\": \"Nao sei o que sentir após esse epi de pll\", \"in_reply_to_status_id\": null, \"id\": 631514387174551552, \"favorite_count\": 0, \"source\": \"<a href=\\\"http://twitter.com/download/android\\\" rel=\\\"nofollow\\\">Twitter for Android</a>\", \"retweeted\": false, \"coordinates\": null, \"timestamp_ms\": \"1439399737529\", \"entities\": {\"user_mentions\": [], \"symbols\": [], \"trends\": [], \"hashtags\": [], \"urls\": []}, \"in_reply_to_screen_name\": null, \"id_str\": \"631514387174551552\", \"retweet_count\": 0, \"in_reply_to_user_id\": null, \"favorited\": false, \"user\": {\"follow_request_sent\": null, \"profile_use_background_image\": false, \"default_profile_image\": false, \"id\": 454881985, \"verified\": false, \"profile_image_url_https\": \"https://pbs.twimg.com/profile_images/628357024879890432/tajhMDTI_normal.jpg\", \"profile_sidebar_fill_color\": \"FFD8D8\", \"profile_text_color\": \"FFF0F0\", \"followers_count\": 885, \"profile_sidebar_border_color\": \"FFFFFF\", \"id_str\": \"454881985\", \"profile_background_color\": \"FAFEFF\", \"listed_count\": 6, \"profile_background_image_url_https\": \"https://pbs.twimg.com/profile_background_images/441298943729606656/ZImjgCKQ.jpeg\", \"utc_offset\": -7200, \"statuses_count\": 93847, \"description\": \"Haters gonna haters...\", \"friends_count\": 908, \"location\": \"Belo Horizonte, Minas Gerais\", \"profile_link_color\": \"F5ABB5\", \"profile_image_url\": \"http://pbs.twimg.com/profile_images/628357024879890432/tajhMDTI_normal.jpg\", \"following\": null, \"geo_enabled\": true, \"profile_banner_url\": \"https://pbs.twimg.com/profile_banners/454881985/1426784827\", \"profile_background_image_url\": \"http://pbs.twimg.com/profile_background_images/441298943729606656/ZImjgCKQ.jpeg\", \"name\": \"fernanda \", \"lang\": \"pt\", \"profile_background_tile\": false, \"favourites_count\": 9409, \"screen_name\": \"fernaandaoli\", \"notifications\": null, \"url\": \"http://www.invern4r.tumblr.com\", \"created_at\": \"Wed Jan 04 13:58:01 +0000 2012\", \"contributors_enabled\": false, \"time_zone\": \"Greenland\", \"protected\": false, \"default_profile\": false, \"is_translator\": false}, \"geo\": null, \"in_reply_to_user_id_str\": null, \"possibly_sensitive\": false, \"lang\": \"pt\", \"created_at\": \"Wed Aug 12 17:15:37 +0000 2015\", \"filter_level\": \"low\", \"in_reply_to_status_id_str\": null, \"place\": {\"country_code\": \"BR\", \"url\": \"https://api.twitter.com/1.1/geo/id/d9d978b087a92583.json\", \"country\": \"Brasil\", \"place_type\": \"city\", \"bounding_box\": {\"type\": \"Polygon\", \"coordinates\": [[[-44.062789, -20.059816], [-44.062789, -19.777568], [-43.856856, -19.777568], [-43.856856, -20.059816]]]}, \"full_name\": \"Belo Horizonte, Minas Gerais\", \"attributes\": {}, \"id\": \"d9d978b087a92583\", \"name\": \"Belo Horizonte\"}}\n",
      "\n"
     ]
    }
   ],
   "source": [
    "import codecs\n",
    "import json\n",
    "import io\n",
    "data = []\n",
    "with io.open('file_test1.json','rt',encoding=\"utf-8\") as f:\n",
    "    for line in f:\n",
    "        print json.loads(line)['text'], '\\n'\n",
    "        print line\n",
    "\n",
    "        line = line.encode('utf-8')\n",
    "        data.append(json.loads(line))\n",
    "        break\n",
    "    "
   ]
  },
  {
   "cell_type": "code",
   "execution_count": 16,
   "metadata": {
    "collapsed": false
   },
   "outputs": [
    {
     "data": {
      "text/plain": [
       "'\"'"
      ]
     },
     "execution_count": 16,
     "metadata": {},
     "output_type": "execute_result"
    }
   ],
   "source": [
    "data[0]['text']"
   ]
  },
  {
   "cell_type": "code",
   "execution_count": 20,
   "metadata": {
    "collapsed": false
   },
   "outputs": [
    {
     "data": {
      "text/plain": [
       "'\"'"
      ]
     },
     "execution_count": 20,
     "metadata": {},
     "output_type": "execute_result"
    }
   ],
   "source": []
  },
  {
   "cell_type": "code",
   "execution_count": null,
   "metadata": {
    "collapsed": true
   },
   "outputs": [],
   "source": [
    "\n",
    "\n"
   ]
  }
 ],
 "metadata": {
  "kernelspec": {
   "display_name": "Python 2",
   "language": "python",
   "name": "python2"
  },
  "language_info": {
   "codemirror_mode": {
    "name": "ipython",
    "version": 2
   },
   "file_extension": ".py",
   "mimetype": "text/x-python",
   "name": "python",
   "nbconvert_exporter": "python",
   "pygments_lexer": "ipython2",
   "version": "2.7.9"
  }
 },
 "nbformat": 4,
 "nbformat_minor": 0
}
