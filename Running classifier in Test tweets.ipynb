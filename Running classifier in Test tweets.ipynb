{
 "cells": [
  {
   "cell_type": "code",
   "execution_count": null,
   "metadata": {
    "collapsed": true
   },
   "outputs": [],
   "source": [
    "#seach for organic tweets and save them in one list\n",
    "from collections import Counter\n",
    "import csv\n",
    "tweets=[]\n",
    "positive_tweets = 0\n",
    "negative_tweets = 0\n",
    "other_tweets = 0\n",
    "\n",
    "with open( 'D:\\AllSamplesPositiveandNeutral.csv', \"rb\" ) as theFile:\n",
    "    reader = csv.DictReader( theFile )\n",
    "    for row in reader:\n",
    "        if row['sent']== '1':\n",
    "            positive_tweets += 1\n",
    "        elif row['sent']== '-1':\n",
    "            negative_tweets += 1\n",
    "        else:\n",
    "            other_tweets += 1\n",
    "        \n",
    "        tweets.append(row) \n",
    "print 'We have', len(tweets), 'sampled tweets'\n",
    "print positive_tweets, 'are positive'\n",
    "print negative_tweets, 'are negative'\n",
    "print other_tweets, 'are nothing'"
   ]
  }
 ],
 "metadata": {
  "kernelspec": {
   "display_name": "Python 2",
   "language": "python",
   "name": "python2"
  },
  "language_info": {
   "codemirror_mode": {
    "name": "ipython",
    "version": 2
   },
   "file_extension": ".py",
   "mimetype": "text/x-python",
   "name": "python",
   "nbconvert_exporter": "python",
   "pygments_lexer": "ipython2",
   "version": "2.7.8"
  }
 },
 "nbformat": 4,
 "nbformat_minor": 0
}
