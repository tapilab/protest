{
 "metadata": {
  "name": "",
  "signature": "sha256:2b6487fc0678158f4855a703c75dd7854da7f0e0aed24086681c23ef4f876c54"
 },
 "nbformat": 3,
 "nbformat_minor": 0,
 "worksheets": [
  {
   "cells": [
    {
     "cell_type": "code",
     "collapsed": false,
     "input": [
      "#seach for organic tweets and save them in one list\n",
      "from collections import Counter\n",
      "import csv\n",
      "tweets=[]\n",
      "positive_tweets = 0\n",
      "negative_tweets = 0\n",
      "other_tweets = 0\n",
      "\n",
      "with open( 'D:\\AllSamplesPositiveandNeutral.csv', \"rb\" ) as theFile:\n",
      "    reader = csv.DictReader( theFile )\n",
      "    for row in reader:\n",
      "        if row['sent']== '1':\n",
      "            positive_tweets += 1\n",
      "        elif row['sent']== '-1':\n",
      "            negative_tweets += 1\n",
      "        else:\n",
      "            other_tweets += 1\n",
      "        \n",
      "        tweets.append(row) \n",
      "print 'We have', len(tweets), 'sampled tweets'\n",
      "print positive_tweets, 'are positive'\n",
      "print negative_tweets, 'are negative'\n",
      "print other_tweets, 'are nothing'"
     ],
     "language": "python",
     "metadata": {},
     "outputs": [
      {
       "output_type": "stream",
       "stream": "stdout",
       "text": [
        "We have 2000 sampled tweets\n",
        "676 are positive\n",
        "0 are negative\n",
        "1324 are nothing\n"
       ]
      }
     ],
     "prompt_number": 1
    },
    {
     "cell_type": "code",
     "collapsed": false,
     "input": [
      "# Create label vector (y) that show the class labels of each tweet\n",
      "#print the count of each class label\n",
      "from collections import Counter\n",
      "import numpy as np\n",
      "y = np.array([int(t['sent']) for t in tweets])#savind labels of the class in y\n",
      "print 'label counts=', Counter(y)\n"
     ],
     "language": "python",
     "metadata": {},
     "outputs": [
      {
       "output_type": "stream",
       "stream": "stdout",
       "text": [
        "label counts= Counter({0: 1324, 1: 676})\n"
       ]
      }
     ],
     "prompt_number": 2
    },
    {
     "cell_type": "code",
     "collapsed": false,
     "input": [
      "%pylab inline\n",
      "# What is the distribution of scores?\n",
      "from collections import Counter\n",
      "import matplotlib.pyplot as plt\n",
      "\n",
      "counts = Counter(y).values()\n",
      "vals = [1,2]\n",
      "\n",
      "plt.bar(vals, counts)\n",
      "plt.xticks(vals)\n",
      "plt.xlabel('sentiment')\n",
      "plt.ylabel('count')\n",
      "plt.title('1:Other, 2:Positive')\n",
      "plt.show()"
     ],
     "language": "python",
     "metadata": {},
     "outputs": [
      {
       "output_type": "stream",
       "stream": "stdout",
       "text": [
        "Populating the interactive namespace from numpy and matplotlib\n"
       ]
      },
      {
       "metadata": {},
       "output_type": "display_data",
       "png": "[encoded data removed]",
       "text": [
        "<matplotlib.figure.Figure at 0x3a5b8d0>"
       ]
      }
     ],
     "prompt_number": 3
    },
    {
     "cell_type": "code",
     "collapsed": false,
     "input": [
      "def tokenize1(string, lowercase=True, keep_punctuation=False,collapse_urls=True, collapse_mentions=True):\n",
      "    if not string:\n",
      "        return []\n",
      "    if lowercase:\n",
      "        string = string.lower()\n",
      "    tokens = []\n",
      "    if collapse_urls:\n",
      "        string = re.sub('http\\S+', 'THIS_IS_A_URL', string)\n",
      "    if collapse_mentions:\n",
      "        string = re.sub('@\\S+', 'THIS_IS_A_MENTION', string)\n",
      "    if keep_punctuation:\n",
      "        tokens = string.split()\n",
      "    else:\n",
      "        tokens = re.sub('\\W+', ' ', string).split()\n",
      "    return tokens\n",
      "\n",
      "def tweet2tokens(tweet, lowercase=True,keep_punctuation=True,collapse_urls=True, collapse_mentions=True):\n",
      "    tokens = tokenize(tweet['text'], lowercase, keep_punctuation, collapse_urls, collapse_mentions)\n",
      "    return tokens\n"
     ],
     "language": "python",
     "metadata": {},
     "outputs": [],
     "prompt_number": 7
    },
    {
     "cell_type": "code",
     "collapsed": false,
     "input": [
      "# Create feature vectors (X)\n",
      "from sklearn.feature_extraction.text import TfidfVectorizer\n",
      "vectorizer = TfidfVectorizer(decode_error='ignore', ngram_range=(1, 1), max_df=1.0, min_df=2, tokenizer=tokenize1,binary=False)#lowercase, url's, mentions\n",
      "X = vectorizer.fit_transform(t['text'] for t in tweets)\n",
      "print 'vectorized %d tweet. found %d terms.' % (X.shape[0], X.shape[1])"
     ],
     "language": "python",
     "metadata": {},
     "outputs": [
      {
       "output_type": "stream",
       "stream": "stdout",
       "text": [
        "vectorized 2000 tweet. found 1996 terms.\n"
       ]
      }
     ],
     "prompt_number": 107
    },
    {
     "cell_type": "code",
     "collapsed": false,
     "input": [
      "from sklearn.cross_validation import cross_val_score\n",
      "from sklearn.cross_validation import KFold\n",
      "from sklearn.linear_model import LogisticRegression\n",
      "\n",
      "def do_cv(X, y, nfolds=10):\n",
      "    cv = KFold(len(y), nfolds)\n",
      "    return np.mean(cross_val_score(LogisticRegression(), X, y, cv=cv))\n",
      "  \n",
      "print do_cv(X, y)"
     ],
     "language": "python",
     "metadata": {},
     "outputs": [
      {
       "output_type": "stream",
       "stream": "stdout",
       "text": [
        "0.8105\n"
       ]
      }
     ],
     "prompt_number": 115
    },
    {
     "cell_type": "code",
     "collapsed": false,
     "input": [
      "# Fit a LogisticRegression model\n",
      "from sklearn.linear_model import LogisticRegression\n",
      "model = LogisticRegression()\n",
      "model.fit(X, y)\n",
      "\n",
      "# Compute accuracy\n",
      "def accuracy(truth, predicted):\n",
      "    return (1. * len([1 for tr, pr in zip(truth, predicted) if tr == pr]) / len(truth))\n",
      "\n",
      "predicted = model.predict(X)\n",
      "print 'accuracy on training data=%.3f' % accuracy(y, predicted)\n",
      "\n",
      "\n",
      "# 5 Cross-validation accuracy\n",
      "from sklearn.cross_validation import KFold\n",
      "\n",
      "cv = KFold(len(y), 10)\n",
      "accuracies = []\n",
      "print 'Fitting in the labeled data:'\n",
      "#print 'Train set:',X[train_ind].shape[0], '\\f Test set:', X[test_ind].shape[0]\n",
      "for train_ind, test_ind in cv:\n",
      "    model.fit(X[train_ind], y[train_ind])\n",
      "    \n",
      "    predictions = model.predict(X[test_ind])\n",
      "    accuracies.append(accuracy(y[test_ind], predictions))\n",
      "    \n",
      "print 'Average 5-fold cross validation accuracy=%.4f (std=%.2f)' % (np.mean(accuracies), np.std(accuracies))"
     ],
     "language": "python",
     "metadata": {},
     "outputs": [
      {
       "output_type": "stream",
       "stream": "stdout",
       "text": [
        "accuracy on training data=0.864\n",
        "Fitting in the labeled data:\n",
        "Average 5-fold cross validation accuracy=0.8105 (std=0.03)"
       ]
      },
      {
       "output_type": "stream",
       "stream": "stdout",
       "text": [
        "\n"
       ]
      }
     ],
     "prompt_number": 109
    },
    {
     "cell_type": "code",
     "collapsed": false,
     "input": [
      "# changing parameters of classifier \n",
      "#penalty=l1 and l2\n",
      "from sklearn.cross_validation import cross_val_score\n",
      "from sklearn.cross_validation import KFold\n",
      "from sklearn.linear_model import LogisticRegression\n",
      "\n",
      "def do_cv_penalty(X, y, penalty, nfolds=10):\n",
      "    cv = KFold(len(y), nfolds)\n",
      "    return np.mean(cross_val_score(LogisticRegression(penalty=penalty), X, y, cv=cv))\n",
      "  \n",
      "#print do_cv_penalty(X, y)\n",
      "\n",
      "\n",
      "import matplotlib.pyplot as plt\n",
      "\n",
      "def compare_penalty(tweets, y):\n",
      "    accuracies = []\n",
      "    clf_param = ['l1','l2']\n",
      "    i=0\n",
      "    for pr in clf_param:\n",
      "        accuracies.append(do_cv_penalty(X,y,penalty=pr))\n",
      "        print 'Parameter:', pr, 'Accuracy:', accuracies[i]\n",
      "        i+=1\n",
      "    plt.figure()\n",
      "    plt.plot(accuracies, 'bo-')\n",
      "    plt.xticks(range(len(pr)), pr)\n",
      "    plt.xlabel('penalty')\n",
      "    plt.ylabel('accuracy')\n",
      "    plt.show()\n",
      "        \n",
      "compare_penalty(tweets, y)\n",
      "\n"
     ],
     "language": "python",
     "metadata": {},
     "outputs": [
      {
       "output_type": "stream",
       "stream": "stdout",
       "text": [
        "Parameter: l1 Accuracy: 0.797\n",
        "Parameter:"
       ]
      },
      {
       "output_type": "stream",
       "stream": "stdout",
       "text": [
        " l2 Accuracy: 0.8105\n"
       ]
      },
      {
       "metadata": {},
       "output_type": "display_data",
       "png": "[encoded data removed]",
       "text": [
        "<matplotlib.figure.Figure at 0x184d4080>"
       ]
      }
     ],
     "prompt_number": 111
    },
    {
     "cell_type": "code",
     "collapsed": false,
     "input": [
      "# changing parameters of classifier \n",
      "#penalty=l1 and l2\n",
      "from sklearn.cross_validation import cross_val_score\n",
      "from sklearn.cross_validation import KFold\n",
      "from sklearn.linear_model import LogisticRegression\n",
      "\n",
      "def do_cv_C(X, y, c, nfolds=10):\n",
      "    cv = KFold(len(y), nfolds)\n",
      "    return np.mean(cross_val_score(LogisticRegression(C=c, penalty='l2'), X, y, cv=cv))\n",
      "  \n",
      "#print do_cv(X, y)\n",
      "\n",
      "\n",
      "import matplotlib.pyplot as plt\n",
      "\n",
      "def compare_c(tweets, y):\n",
      "    accuracies = []\n",
      "    c_param = [.01, .5,.6,.7,.8,.9,1, 5, 10, 30,50,70,100]\n",
      "    i=0\n",
      "    for c in c_param:\n",
      "        accuracies.append(do_cv_C(X,y,c))\n",
      "        print 'C parameter:',c,'Accuracy:',accuracies[i]\n",
      "        i+=1\n",
      "    plt.figure()\n",
      "    plt.plot(accuracies, 'bo-')\n",
      "    #plt.xticks(range(len(c)), c)\n",
      "    plt.xlabel('C')\n",
      "    plt.ylabel('accuracy')\n",
      "    plt.show()\n",
      "        \n",
      "compare_c(tweets, y)\n"
     ],
     "language": "python",
     "metadata": {},
     "outputs": [
      {
       "output_type": "stream",
       "stream": "stdout",
       "text": [
        "C parameter: 0.01 Accuracy: 0.662\n",
        "C parameter:"
       ]
      },
      {
       "output_type": "stream",
       "stream": "stdout",
       "text": [
        " 0.5 Accuracy: 0.7955\n",
        "C parameter:"
       ]
      },
      {
       "output_type": "stream",
       "stream": "stdout",
       "text": [
        " 0.6 Accuracy: 0.8035\n",
        "C parameter:"
       ]
      },
      {
       "output_type": "stream",
       "stream": "stdout",
       "text": [
        " 0.7 Accuracy: 0.8045\n",
        "C parameter:"
       ]
      },
      {
       "output_type": "stream",
       "stream": "stdout",
       "text": [
        " 0.8 Accuracy: 0.8055\n",
        "C parameter:"
       ]
      },
      {
       "output_type": "stream",
       "stream": "stdout",
       "text": [
        " 0.9 Accuracy: 0.808\n",
        "C parameter:"
       ]
      },
      {
       "output_type": "stream",
       "stream": "stdout",
       "text": [
        " 1 Accuracy: 0.8105\n",
        "C parameter:"
       ]
      },
      {
       "output_type": "stream",
       "stream": "stdout",
       "text": [
        " 5 Accuracy: 0.8125\n",
        "C parameter:"
       ]
      },
      {
       "output_type": "stream",
       "stream": "stdout",
       "text": [
        " 10 Accuracy: 0.8035\n",
        "C parameter:"
       ]
      },
      {
       "output_type": "stream",
       "stream": "stdout",
       "text": [
        " 30 Accuracy: 0.8015\n",
        "C parameter:"
       ]
      },
      {
       "output_type": "stream",
       "stream": "stdout",
       "text": [
        " 50 Accuracy: 0.7965\n",
        "C parameter:"
       ]
      },
      {
       "output_type": "stream",
       "stream": "stdout",
       "text": [
        " 70 Accuracy: 0.7945\n",
        "C parameter:"
       ]
      },
      {
       "output_type": "stream",
       "stream": "stdout",
       "text": [
        " 100 Accuracy: 0.7905\n"
       ]
      },
      {
       "metadata": {},
       "output_type": "display_data",
       "png": "[encoded data removed]",
       "text": [
        "<matplotlib.figure.Figure at 0x191b82b0>"
       ]
      }
     ],
     "prompt_number": 112
    },
    {
     "cell_type": "code",
     "collapsed": false,
     "input": [
      "from sklearn.cross_validation import cross_val_score\n",
      "from sklearn.cross_validation import KFold\n",
      "from sklearn.linear_model import LogisticRegression\n",
      "\n",
      "def do_cv(X, y, nfolds=10):\n",
      "    cv = KFold(len(y), nfolds)\n",
      "    return np.mean(cross_val_score(LogisticRegression(penalty='l2', C=5), X, y, cv=cv))\n",
      "  \n",
      "print do_cv(X, y)"
     ],
     "language": "python",
     "metadata": {},
     "outputs": [
      {
       "output_type": "stream",
       "stream": "stdout",
       "text": [
        "0.8125\n"
       ]
      }
     ],
     "prompt_number": 119
    },
    {
     "cell_type": "code",
     "collapsed": false,
     "input": [
      "# Do GridSearch on all parameters.\n",
      "from sklearn.grid_search import GridSearchCV\n",
      "from sklearn.pipeline import Pipeline\n",
      "from pprint import pprint\n",
      "\n",
      "pipeline = Pipeline([\n",
      "    ('vect', vectorizer),\n",
      "    ('clf', LogisticRegression()),\n",
      "])\n",
      "\n",
      "parameters = {\n",
      "    'clf__penalty': ('l1','l2'),\n",
      "    'clf__C': (.01, .5,.6,.7,.8,.9,1, 5, 10, 30,50,70, 100),  \n",
      "    #'vect__min_df': (1, 2, 3, 4, 5),\n",
      "    #'vect__ngram_range': ((1, 1), (1, 2), (1, 3)),  # unigrams or bigrams or trigrams\n",
      "    #'vect__use_idf': (True, False),\n",
      "    #'vect__max_df':(1., .1, .05, .04, .03)\n",
      "}\n",
      "\n",
      "data = [t['text'] for t in tweets]\n",
      "grid_search = GridSearchCV(pipeline, parameters, verbose=1, cv=KFold(len(y), 10))\n",
      "\n",
      "print \"Performing grid search...\"\n",
      "print \"pipeline:\", [name for name, _ in pipeline.steps]\n",
      "print \"parameters:\"\n",
      "pprint(parameters)\n",
      "grid_search.fit(data, y)\n",
      "print \"done.\"\n",
      "\n",
      "print(\"Best score: %0.4f\" % grid_search.best_score_)\n",
      "print(\"Best parameters set:\")\n",
      "best_parameters = grid_search.best_estimator_.get_params()\n",
      "for param_name in sorted(parameters.keys()):\n",
      "    print(\"\\t%s: %r\" % (param_name, best_parameters[param_name]))"
     ],
     "language": "python",
     "metadata": {},
     "outputs": [
      {
       "output_type": "stream",
       "stream": "stderr",
       "text": [
        "[Parallel(n_jobs=1)]: Done   1 jobs       | elapsed:    0.0s\n",
        "[Parallel(n_jobs=1)]: Done  50 jobs       | elapsed:    3.3s\n"
       ]
      },
      {
       "output_type": "stream",
       "stream": "stderr",
       "text": [
        "[Parallel(n_jobs=1)]: Done 200 jobs       | elapsed:   13.7s\n",
        "[Parallel(n_jobs=1)]: Done 260 out of 260 | elapsed:   19.3s finished\n"
       ]
      },
      {
       "output_type": "stream",
       "stream": "stdout",
       "text": [
        "Performing grid search...\n",
        "pipeline: ['vect', 'clf']\n",
        "parameters:\n",
        "{'clf__C': (0.01, 0.5, 0.6, 0.7, 0.8, 0.9, 1, 5, 10, 30, 50, 70, 100),\n",
        " 'clf__penalty': ('l1', 'l2')}\n",
        "Fitting 10 folds for each of 26 candidates, totalling 260 fits\n",
        "done."
       ]
      },
      {
       "output_type": "stream",
       "stream": "stdout",
       "text": [
        "\n",
        "Best score: 0.8125\n",
        "Best parameters set:\n",
        "\tclf__C: 1\n",
        "\tclf__penalty: 'l2'\n"
       ]
      }
     ],
     "prompt_number": 122
    },
    {
     "cell_type": "code",
     "collapsed": false,
     "input": [
      "print '\\n'.join(str(x) for x in grid_search.grid_scores_)"
     ],
     "language": "python",
     "metadata": {},
     "outputs": [
      {
       "output_type": "stream",
       "stream": "stdout",
       "text": [
        "mean: 0.66200, std: 0.04622, params: {'clf__penalty': 'l1', 'clf__C': 0.01}\n",
        "mean: 0.66200, std: 0.04622, params: {'clf__penalty': 'l2', 'clf__C': 0.01}\n",
        "mean: 0.78600, std: 0.03040, params: {'clf__penalty': 'l1', 'clf__C': 0.5}\n",
        "mean: 0.79850, std: 0.02975, params: {'clf__penalty': 'l2', 'clf__C': 0.5}\n",
        "mean: 0.78950, std: 0.02788, params: {'clf__penalty': 'l1', 'clf__C': 0.6}\n",
        "mean: 0.80650, std: 0.02992, params: {'clf__penalty': 'l2', 'clf__C': 0.6}\n",
        "mean: 0.79300, std: 0.02750, params: {'clf__penalty': 'l1', 'clf__C': 0.7}\n",
        "mean: 0.80950, std: 0.02867, params: {'clf__penalty': 'l2', 'clf__C': 0.7}\n",
        "mean: 0.79350, std: 0.02890, params: {'clf__penalty': 'l1', 'clf__C': 0.8}\n",
        "mean: 0.81000, std: 0.03008, params: {'clf__penalty': 'l2', 'clf__C': 0.8}\n",
        "mean: 0.79750, std: 0.02977, params: {'clf__penalty': 'l1', 'clf__C': 0.9}\n",
        "mean: 0.81100, std: 0.02818, params: {'clf__penalty': 'l2', 'clf__C': 0.9}\n",
        "mean: 0.79800, std: 0.02968, params: {'clf__penalty': 'l1', 'clf__C': 1}\n",
        "mean: 0.81250, std: 0.02839, params: {'clf__penalty': 'l2', 'clf__C': 1}\n",
        "mean: 0.79800, std: 0.03378, params: {'clf__penalty': 'l1', 'clf__C': 5}\n",
        "mean: 0.80650, std: 0.03362, params: {'clf__penalty': 'l2', 'clf__C': 5}\n",
        "mean: 0.78950, std: 0.02867, params: {'clf__penalty': 'l1', 'clf__C': 10}\n",
        "mean: 0.80350, std: 0.03218, params: {'clf__penalty': 'l2', 'clf__C': 10}\n",
        "mean: 0.78550, std: 0.01650, params: {'clf__penalty': 'l1', 'clf__C': 30}\n",
        "mean: 0.80200, std: 0.03195, params: {'clf__penalty': 'l2', 'clf__C': 30}\n",
        "mean: 0.77900, std: 0.02131, params: {'clf__penalty': 'l1', 'clf__C': 50}\n",
        "mean: 0.79100, std: 0.03048, params: {'clf__penalty': 'l2', 'clf__C': 50}\n",
        "mean: 0.77750, std: 0.02194, params: {'clf__penalty': 'l1', 'clf__C': 70}\n",
        "mean: 0.78650, std: 0.02618, params: {'clf__penalty': 'l2', 'clf__C': 70}\n",
        "mean: 0.77400, std: 0.02035, params: {'clf__penalty': 'l1', 'clf__C': 100}\n",
        "mean: 0.78600, std: 0.02653, params: {'clf__penalty': 'l2', 'clf__C': 100}\n"
       ]
      }
     ],
     "prompt_number": 120
    },
    {
     "cell_type": "code",
     "collapsed": false,
     "input": [
      "# Fit a LogisticRegression model modified parameters (actually same parameters)\n",
      "from sklearn.linear_model import LogisticRegression\n",
      "model_mod = LogisticRegression(penalty='l2', C=5)\n",
      "model_mod.fit(X, y)\n",
      "\n",
      "# Compute accuracy\n",
      "def accuracy(truth, predicted):\n",
      "    return (1. * len([1 for tr, pr in zip(truth, predicted) if tr == pr]) / len(truth))\n",
      "\n",
      "predicted = model_mod.predict(X)\n",
      "print 'accuracy on training data=%.3f' % accuracy(y, predicted)\n",
      "\n",
      "\n",
      "# 5 Cross-validation accuracy\n",
      "from sklearn.cross_validation import KFold\n",
      "\n",
      "cv = KFold(len(y), 10)\n",
      "accuracies = []\n",
      "#print 'Fitting in the labeled data:'\n",
      "#print 'Train set:',X[train_ind].shape[0], '\\f Test set:', X[test_ind].shape[0]\n",
      "for train_ind, test_ind in cv:\n",
      "    model_mod.fit(X[train_ind], y[train_ind])\n",
      "    \n",
      "    predictions = model_mod.predict(X[test_ind])\n",
      "    accuracies.append(accuracy(y[test_ind], predictions))\n",
      "    \n",
      "print 'Average 5-fold cross validation accuracy=%.4f (std=%.2f)' % (np.mean(accuracies), np.std(accuracies))"
     ],
     "language": "python",
     "metadata": {},
     "outputs": [
      {
       "output_type": "stream",
       "stream": "stdout",
       "text": [
        "accuracy on training data=0.930\n",
        "Average 5-fold cross validation accuracy=0.8125 (std=0.03)"
       ]
      },
      {
       "output_type": "stream",
       "stream": "stdout",
       "text": [
        "\n"
       ]
      }
     ],
     "prompt_number": 123
    },
    {
     "cell_type": "code",
     "collapsed": false,
     "input": [
      "#confusion matrix for Logistic regression with (best parameters - actually same default)\n",
      "from sklearn.metrics import confusion_matrix as sk_confusion_matrix\n",
      "import pandas as pd\n",
      "\n",
      "\n",
      "y_pred = model_mod.predict(X)\n",
      "\n",
      "def confusion_matrix(y_test, y_pred):\n",
      "    cm = sk_confusion_matrix(y, y_pred)\n",
      "    cm = pd.DataFrame(data=cm, columns=[0,1], index=[0,1])\n",
      "    cm.columns.name = 'Predicted'\n",
      "    cm.index.name = 'Expected'\n",
      "    error_rate = (y_pred != y).mean()\n",
      "    print('error rate: %.2f' % error_rate)\n",
      "    return cm\n",
      "    \n",
      "confusion_matrix(y, y_pred)"
     ],
     "language": "python",
     "metadata": {},
     "outputs": [
      {
       "output_type": "stream",
       "stream": "stdout",
       "text": [
        "error rate: 0.07\n"
       ]
      },
      {
       "html": [
        "<div style=\"max-height:1000px;max-width:1500px;overflow:auto;\">\n",
        "<table border=\"1\" class=\"dataframe\">\n",
        "  <thead>\n",
        "    <tr style=\"text-align: right;\">\n",
        "      <th>Predicted</th>\n",
        "      <th>0</th>\n",
        "      <th>1</th>\n",
        "    </tr>\n",
        "    <tr>\n",
        "      <th>Expected</th>\n",
        "      <th></th>\n",
        "      <th></th>\n",
        "    </tr>\n",
        "  </thead>\n",
        "  <tbody>\n",
        "    <tr>\n",
        "      <th>0</th>\n",
        "      <td> 1276</td>\n",
        "      <td>  48</td>\n",
        "    </tr>\n",
        "    <tr>\n",
        "      <th>1</th>\n",
        "      <td>   97</td>\n",
        "      <td> 579</td>\n",
        "    </tr>\n",
        "  </tbody>\n",
        "</table>\n",
        "</div>"
       ],
       "metadata": {},
       "output_type": "pyout",
       "prompt_number": 124,
       "text": [
        "Predicted     0    1\n",
        "Expected            \n",
        "0          1276   48\n",
        "1            97  579"
       ]
      }
     ],
     "prompt_number": 124
    },
    {
     "cell_type": "code",
     "collapsed": false,
     "input": [
      "#precision, recall and F1 measures for classes for logistic regression classifier\n",
      "from sklearn.metrics import precision_recall_fscore_support\n",
      "y_true = y\n",
      "y_pred = model_mod.predict(X)\n",
      "print '1',precision_recall_fscore_support(y_true, y_pred)"
     ],
     "language": "python",
     "metadata": {},
     "outputs": [
      {
       "output_type": "stream",
       "stream": "stdout",
       "text": [
        "1 (array([ 0.92935178,  0.92344498]), array([ 0.96374622,  0.85650888]), array([ 0.94623656,  0.88871834]), array([1324,  676], dtype=int64))\n"
       ]
      }
     ],
     "prompt_number": 125
    },
    {
     "cell_type": "code",
     "collapsed": false,
     "input": [
      "# Do GridSearch on all parameters for SGD classifier\n",
      "from sklearn.grid_search import GridSearchCV\n",
      "from sklearn.pipeline import Pipeline\n",
      "from pprint import pprint\n",
      "from sklearn.linear_model import SGDClassifier\n",
      "\n",
      "pipeline = Pipeline([\n",
      "    ('vect', TfidfVectorizer(decode_error='ignore', ngram_range=(1, 1), max_df=1.0, min_df=2, tokenizer=tokenize1,binary=False)),\n",
      "    ('clf', SGDClassifier()),\n",
      "])\n",
      "\n",
      "parameters = {\n",
      "    'clf__penalty': ('none', 'l2', 'l1', 'elasticnet'),\n",
      "    'clf__alpha': (.0001, .0005,.0006,.0007,.0008,.0009,.001, 5, 10, 100),  \n",
      "}\n",
      "\n",
      "data = [t['text'] for t in tweets]\n",
      "grid_search = GridSearchCV(pipeline, parameters, verbose=1, cv=KFold(len(y), 10))\n",
      "\n",
      "print \"Performing grid search...\"\n",
      "print \"pipeline:\", [name for name, _ in pipeline.steps]\n",
      "print \"parameters:\"\n",
      "pprint(parameters)\n",
      "grid_search.fit(data, y)\n",
      "print \"done.\"\n",
      "\n",
      "print(\"Best score: %0.4f\" % grid_search.best_score_)\n",
      "print(\"Best parameters set:\")\n",
      "best_parameters = grid_search.best_estimator_.get_params()\n",
      "for param_name in sorted(parameters.keys()):\n",
      "    print(\"\\t%s: %r\" % (param_name, best_parameters[param_name]))"
     ],
     "language": "python",
     "metadata": {},
     "outputs": [
      {
       "output_type": "stream",
       "stream": "stderr",
       "text": [
        "[Parallel(n_jobs=1)]: Done   1 jobs       | elapsed:    0.0s\n",
        "[Parallel(n_jobs=1)]: Done  50 jobs       | elapsed:    3.9s\n"
       ]
      },
      {
       "output_type": "stream",
       "stream": "stderr",
       "text": [
        "[Parallel(n_jobs=1)]: Done 200 jobs       | elapsed:   16.5s\n",
        "[Parallel(n_jobs=1)]: Done 400 out of 400 | elapsed:   33.1s finished\n"
       ]
      },
      {
       "output_type": "stream",
       "stream": "stdout",
       "text": [
        "Performing grid search...\n",
        "pipeline: ['vect', 'clf']\n",
        "parameters:\n",
        "{'clf__alpha': (0.0001,\n",
        "                0.0005,\n",
        "                0.0006,\n",
        "                0.0007,\n",
        "                0.0008,\n",
        "                0.0009,\n",
        "                0.001,\n",
        "                5,\n",
        "                10,\n",
        "                100),\n",
        " 'clf__penalty': ('none', 'l2', 'l1', 'elasticnet')}\n",
        "Fitting 10 folds for each of 40 candidates, totalling 400 fits\n",
        "done."
       ]
      },
      {
       "output_type": "stream",
       "stream": "stdout",
       "text": [
        "\n",
        "Best score: 0.8140\n",
        "Best parameters set:\n",
        "\tclf__alpha: 0.0005\n",
        "\tclf__penalty: 'l2'\n"
       ]
      }
     ],
     "prompt_number": 93
    },
    {
     "cell_type": "code",
     "collapsed": false,
     "input": [
      "# Fit a SGD model with best parameters\n",
      "from sklearn.linear_model import SGDClassifier\n",
      "clf = SGDClassifier(penalty='l2', alpha=0.0005)\n",
      "clf.fit(X, y)\n",
      "\n",
      "# Compute accuracy\n",
      "def accuracy(truth, predicted):\n",
      "    return (1. * len([1 for tr, pr in zip(truth, predicted) if tr == pr]) / len(truth))\n",
      "\n",
      "predicted = clf.predict(X)\n",
      "print 'accuracy on training data=%.3f' % accuracy(y, predicted)\n",
      "\n",
      "\n",
      "# 5 Cross-validation accuracy\n",
      "from sklearn.cross_validation import KFold\n",
      "\n",
      "cv = KFold(len(y), 10)\n",
      "accuracies = []\n",
      "#print 'Fitting in the labeled data:'\n",
      "#print 'Train set:',X[train_ind].shape[0], '\\f Test set:', X[test_ind].shape[0]\n",
      "for train_ind, test_ind in cv:\n",
      "    clf.fit(X[train_ind], y[train_ind])\n",
      "    \n",
      "    predictions = clf.predict(X[test_ind])\n",
      "    accuracies.append(accuracy(y[test_ind], predictions))\n",
      "    \n",
      "print 'Average 5-fold cross validation accuracy=%.4f (std=%.2f)' % (np.mean(accuracies), np.std(accuracies))"
     ],
     "language": "python",
     "metadata": {},
     "outputs": [
      {
       "output_type": "stream",
       "stream": "stdout",
       "text": [
        "accuracy on training data=0.907\n",
        "Average 5-fold cross validation accuracy=0.8130 (std=0.03)\n"
       ]
      }
     ],
     "prompt_number": 149
    },
    {
     "cell_type": "code",
     "collapsed": false,
     "input": [
      "#confusion matrix for SGD model\n",
      "from sklearn.metrics import confusion_matrix as sk_confusion_matrix\n",
      "import pandas as pd\n",
      "\n",
      "\n",
      "y_pred = clf.predict(X)\n",
      "\n",
      "def confusion_matrix(y_test, y_pred):\n",
      "    cm = sk_confusion_matrix(y, y_pred)\n",
      "    cm = pd.DataFrame(data=cm, columns=[0,1], index=[0,1])\n",
      "    cm.columns.name = 'Predicted'\n",
      "    cm.index.name = 'Expected'\n",
      "    error_rate = (y_pred != y).mean()\n",
      "    print('error rate: %.2f' % error_rate)\n",
      "    return cm\n",
      "    \n",
      "confusion_matrix(y, y_pred)"
     ],
     "language": "python",
     "metadata": {},
     "outputs": [
      {
       "output_type": "stream",
       "stream": "stdout",
       "text": [
        "error rate: 0.10\n"
       ]
      },
      {
       "html": [
        "<div style=\"max-height:1000px;max-width:1500px;overflow:auto;\">\n",
        "<table border=\"1\" class=\"dataframe\">\n",
        "  <thead>\n",
        "    <tr style=\"text-align: right;\">\n",
        "      <th>Predicted</th>\n",
        "      <th>0</th>\n",
        "      <th>1</th>\n",
        "    </tr>\n",
        "    <tr>\n",
        "      <th>Expected</th>\n",
        "      <th></th>\n",
        "      <th></th>\n",
        "    </tr>\n",
        "  </thead>\n",
        "  <tbody>\n",
        "    <tr>\n",
        "      <th>0</th>\n",
        "      <td> 1292</td>\n",
        "      <td>  32</td>\n",
        "    </tr>\n",
        "    <tr>\n",
        "      <th>1</th>\n",
        "      <td>  161</td>\n",
        "      <td> 515</td>\n",
        "    </tr>\n",
        "  </tbody>\n",
        "</table>\n",
        "</div>"
       ],
       "metadata": {},
       "output_type": "pyout",
       "prompt_number": 151,
       "text": [
        "Predicted     0    1\n",
        "Expected            \n",
        "0          1292   32\n",
        "1           161  515"
       ]
      }
     ],
     "prompt_number": 151
    },
    {
     "cell_type": "code",
     "collapsed": false,
     "input": [
      "#precision, recall and F1 measures for classes from SGD classifier\n",
      "from sklearn.metrics import precision_recall_fscore_support\n",
      "y_true = y\n",
      "y_pred = clf.predict(X)\n",
      "print '1',precision_recall_fscore_support(y_true, y_pred)"
     ],
     "language": "python",
     "metadata": {},
     "outputs": [
      {
       "output_type": "stream",
       "stream": "stdout",
       "text": [
        "1 (array([ 0.88919477,  0.94149909]), array([ 0.97583082,  0.76183432]), array([ 0.93050054,  0.84219133]), array([1324,  676], dtype=int64))\n"
       ]
      }
     ],
     "prompt_number": 152
    },
    {
     "cell_type": "code",
     "collapsed": false,
     "input": [
      "# changing parameters of classifier SGD \n",
      "#penalty=l1 and l2\n",
      "from sklearn.cross_validation import cross_val_score\n",
      "from sklearn.cross_validation import KFold\n",
      "from sklearn.linear_model import SGDClassifier\n",
      "\n",
      "def do_cv_penalty(X, y, a, nfolds=10):\n",
      "    cv = KFold(len(y), nfolds)\n",
      "    return np.mean(cross_val_score(SGDClassifier(alpha=a), X, y, cv=cv))\n",
      "  \n",
      "#print do_cv_penalty(X, y)\n",
      "\n",
      "\n",
      "import matplotlib.pyplot as plt\n",
      "\n",
      "def compare_penalty(tweets, y):\n",
      "    accuracies = []\n",
      "    clf_param = [0.0001,0.0005,0.0006,0.0007,0.0008, 0.0009,0.001,5,10,100]\n",
      "    i=0\n",
      "    for a in clf_param:\n",
      "        accuracies.append(do_cv_penalty(X,y,a))\n",
      "        print 'Parameter:', a, 'Accuracy:', accuracies[i]\n",
      "        i+=1\n",
      "    plt.figure()\n",
      "    plt.plot(accuracies, 'bo-')\n",
      "    #plt.xticks(range(len(pr)), pr)\n",
      "    plt.xlabel('alpha')\n",
      "    plt.ylabel('accuracy')\n",
      "    plt.show()\n",
      "        \n",
      "compare_penalty(tweets, y)\n",
      "\n"
     ],
     "language": "python",
     "metadata": {},
     "outputs": [
      {
       "output_type": "stream",
       "stream": "stdout",
       "text": [
        "Parameter: 0.0001 Accuracy: 0.7855\n",
        "Parameter: 0.0005 Accuracy: 0.813\n",
        "Parameter:"
       ]
      },
      {
       "output_type": "stream",
       "stream": "stdout",
       "text": [
        " 0.0006 Accuracy: 0.8125\n",
        "Parameter: 0.0007 Accuracy: 0.811\n",
        "Parameter:"
       ]
      },
      {
       "output_type": "stream",
       "stream": "stdout",
       "text": [
        " 0.0008 Accuracy: 0.81\n",
        "Parameter: 0.0009 Accuracy: 0.8115\n",
        "Parameter:"
       ]
      },
      {
       "output_type": "stream",
       "stream": "stdout",
       "text": [
        " 0.001 Accuracy: 0.8065\n",
        "Parameter: 5 Accuracy: 0.663\n",
        "Parameter:"
       ]
      },
      {
       "output_type": "stream",
       "stream": "stdout",
       "text": [
        " 10 Accuracy: 0.449\n",
        "Parameter: 100 Accuracy: 0.338\n"
       ]
      },
      {
       "metadata": {},
       "output_type": "display_data",
       "png": "[encoded data removed]",
       "text": [
        "<matplotlib.figure.Figure at 0x1ac2ea90>"
       ]
      }
     ],
     "prompt_number": 156
    },
    {
     "cell_type": "code",
     "collapsed": false,
     "input": [
      "# changing parameters of classifier SGD \n",
      "#penalty=l1 and l2\n",
      "from sklearn.cross_validation import cross_val_score\n",
      "from sklearn.cross_validation import KFold\n",
      "from sklearn.linear_model import SGDClassifier\n",
      "\n",
      "def do_cv_penaltysgd(X, y, penalty, nfolds=10):\n",
      "    cv = KFold(len(y), nfolds)\n",
      "    return np.mean(cross_val_score(SGDClassifier(penalty=penalty), X, y, cv=cv))\n",
      "  \n",
      "#print do_cv_penalty(X, y)\n",
      "\n",
      "\n",
      "import matplotlib.pyplot as plt\n",
      "\n",
      "def compare_penaltysgd(tweets, y):\n",
      "    accuracies = []\n",
      "    clf_param = ['none', 'l2', 'l1', 'elasticnet']\n",
      "    i=0\n",
      "    for pr in clf_param:\n",
      "        accuracies.append(do_cv_penaltysgd(X,y,penalty=pr))\n",
      "        print 'Parameter:', pr, 'Accuracy:', accuracies[i]\n",
      "        i+=1\n",
      "    plt.figure()\n",
      "    plt.plot(accuracies, 'bo-')\n",
      "    plt.xticks([0,1,2,3], [str(c) for c in clf_param])\n",
      "    plt.xlabel('penalty')\n",
      "    plt.ylabel('accuracy')\n",
      "    plt.show()\n",
      "        \n",
      "compare_penaltysgd(tweets, y)\n"
     ],
     "language": "python",
     "metadata": {},
     "outputs": [
      {
       "output_type": "stream",
       "stream": "stdout",
       "text": [
        "Parameter: none Accuracy: 0.7725\n",
        "Parameter: l2 Accuracy: 0.7855\n",
        "Parameter:"
       ]
      },
      {
       "output_type": "stream",
       "stream": "stdout",
       "text": [
        " l1 Accuracy: 0.786\n",
        "Parameter: elasticnet Accuracy: 0.7905\n"
       ]
      },
      {
       "metadata": {},
       "output_type": "display_data",
       "png": "[encoded data removed]",
       "text": [
        "<matplotlib.figure.Figure at 0x1a5cb240>"
       ]
      }
     ],
     "prompt_number": 158
    },
    {
     "cell_type": "code",
     "collapsed": false,
     "input": [
      "import numpy as np\n",
      "\n",
      "vocabWords = []\n",
      "coefValues = []\n",
      "test = []\n",
      "\n",
      "for x in range(0,1999):#for each tweet in X\n",
      "    for i in X[x].indices:#for each word in that tweet\n",
      "        coefValues.append(model.coef_[0][i])#get the model coeficient from logistic regression for each term \n",
      "    #for each coeficient, and tfidf value for that tweet make a dot product and keeps in a vector\n",
      "    test.append([(p*q,value,term) for p,q,value,term in zip(coefValues, X[x].data,X[x].indices,vocab[X[x].indices])])\n",
      "    \n",
      "#for t in range(len(test)):#print final result of dot product \n",
      "#    print 'tweet #', t, tweets[t]['text'], '\\n', test[t], '\\n'"
     ],
     "language": "python",
     "metadata": {},
     "outputs": [],
     "prompt_number": 99
    }
   ],
   "metadata": {}
  }
 ]
}